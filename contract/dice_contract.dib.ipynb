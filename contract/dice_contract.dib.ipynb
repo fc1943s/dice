{
 "cells": [
  {
   "cell_type": "markdown",
   "metadata": {},
   "source": [
    "# dice_contract"
   ]
  },
  {
   "cell_type": "code",
   "execution_count": null,
   "metadata": {
    "dotnet_interactive": {
     "language": "spiral"
    },
    "polyglot_notebook": {
     "kernelName": "spiral"
    }
   },
   "outputs": [],
   "source": [
    "open rust\n",
    "open rust.rust_operators"
   ]
  },
  {
   "cell_type": "code",
   "execution_count": null,
   "metadata": {
    "dotnet_interactive": {
     "language": "spiral"
    },
    "polyglot_notebook": {
     "kernelName": "spiral"
    }
   },
   "outputs": [],
   "source": [
    "//// test\n",
    "\n",
    "open testing"
   ]
  },
  {
   "cell_type": "markdown",
   "metadata": {},
   "source": [
    "## dice_contract"
   ]
  },
  {
   "cell_type": "markdown",
   "metadata": {},
   "source": [
    "### util"
   ]
  },
  {
   "cell_type": "code",
   "execution_count": null,
   "metadata": {
    "dotnet_interactive": {
     "language": "spiral"
    },
    "polyglot_notebook": {
     "kernelName": "spiral"
    }
   },
   "outputs": [],
   "source": [
    "inl util () =\n",
    "    !\\($'\"pub struct Util {} //\"') : ()\n",
    "    !\\($'\"impl Util { //\"') : ()\n",
    "    !\\($'\"    fn stream_u8_to_list( //\"') : ()\n",
    "    !\\($'\"        s: fable_library_rust::Native_::LrcPtr<dice_contract_lib::Dice::UH0>, //\"') : ()\n",
    "    !\\($'\"    ) -> dice_contract_lib::Dice::UH1 { //\"') : ()\n",
    "    !\\($'\"        match s.as_ref() { //\"') : ()\n",
    "    !\\($'\"            dice_contract_lib::Dice::UH0::UH0_0(n, f) => { //\"') : ()\n",
    "    !\\($'\"                dice_contract_lib::Dice::UH1::UH1_1( //\"') : ()\n",
    "    !\\($'\"                    *n, //\"') : ()\n",
    "    !\\($'\"                    Self::stream_u8_to_list(f()).into() //\"') : ()\n",
    "    !\\($'\"                ) //\"') : ()\n",
    "    !\\($'\"            } //\"') : ()\n",
    "    !\\($'\"            dice_contract_lib::Dice::UH0::UH0_1 => dice_contract_lib::Dice::UH1::UH1_0, //\"') : ()\n",
    "    !\\($'\"        } //\"') : ()\n",
    "    !\\($'\"    } //\"') : ()\n",
    "    !\\($'\"    fn list_u8_to_vec( //\"') : ()\n",
    "    !\\($'\"        s: fable_library_rust::Native_::LrcPtr<dice_contract_lib::Dice::UH1>, //\"') : ()\n",
    "    !\\($'\"    ) -> Vec<u8> { //\"') : ()\n",
    "    !\\($'\"        match s.as_ref() { //\"') : ()\n",
    "    !\\($'\"            dice_contract_lib::Dice::UH1::UH1_1(n, f) => { //\"') : ()\n",
    "    !\\($'\"                let mut v = Self::list_u8_to_vec(f.clone()); //\"') : ()\n",
    "    !\\($'\"                v.insert(0, *n); //\"') : ()\n",
    "    !\\($'\"                v //\"') : ()\n",
    "    !\\($'\"            } //\"') : ()\n",
    "    !\\($'\"            dice_contract_lib::Dice::UH1::UH1_0 => vec\\![], //\"') : ()\n",
    "    !\\($'\"        } //\"') : ()\n",
    "    !\\($'\"    } //\"') : ()\n",
    "    !\\($'\"    fn vec_u8_to_list(v: Vec<u8>) -> dice_contract_lib::Dice::UH1 { //\"') : ()\n",
    "    !\\($'\"        v.iter() //\"') : ()\n",
    "    !\\($'\"            .rev() //\"') : ()\n",
    "    !\\($'\"            .fold(dice_contract_lib::Dice::UH1::UH1_0, |acc, x| { //\"') : ()\n",
    "    !\\($'\"                dice_contract_lib::Dice::UH1::UH1_1(*x, acc.into()) //\"') : ()\n",
    "    !\\($'\"            }) //\"') : ()\n",
    "    !\\($'\"    } //\"') : ()\n",
    "    !\\($'\"    fn vec_u8_to_stream(v: Vec<u8>) -> dice_contract_lib::Dice::UH0 { //\"') : ()\n",
    "    !\\($'\"        v.iter() //\"') : ()\n",
    "    !\\($'\"            .rev() //\"') : ()\n",
    "    !\\($'\"            .fold(dice_contract_lib::Dice::UH0::UH0_1, |acc, x| { //\"') : ()\n",
    "    !\\($'\"                dice_contract_lib::Dice::UH0::UH0_0( //\"') : ()\n",
    "    !\\($'\"                    *x, //\"') : ()\n",
    "    !\\($'\"                    fable_library_rust::Native_::Func0::new(move || acc.clone().into()), //\"') : ()\n",
    "    !\\($'\"                ) //\"') : ()\n",
    "    !\\($'\"            }) //\"') : ()\n",
    "    !\\($'\"    } //\"') : ()\n",
    "    !\\($'\"} //\"') : ()"
   ]
  },
  {
   "cell_type": "markdown",
   "metadata": {},
   "source": [
    "### state"
   ]
  },
  {
   "cell_type": "code",
   "execution_count": null,
   "metadata": {
    "dotnet_interactive": {
     "language": "spiral"
    },
    "polyglot_notebook": {
     "kernelName": "spiral"
    }
   },
   "outputs": [],
   "source": [
    "type state =\n",
    "    {\n",
    "        version : u32\n",
    "        seeds : near.vector u8\n",
    "    }"
   ]
  },
  {
   "cell_type": "code",
   "execution_count": null,
   "metadata": {
    "dotnet_interactive": {
     "language": "spiral"
    },
    "polyglot_notebook": {
     "kernelName": "spiral"
    }
   },
   "outputs": [
    {
     "data": {
      "text/plain": [
       "23:50:00 \u001B[94m  debug\u001B[39m #1 near_workspaces.print_usd / { retry = 1; total_gas_burnt_usd = +0.000957; total_gas_burnt = 1432554003351 }\n",
       "23:50:00 \u001B[94m  debug\u001B[39m #2 near_workspaces.print_usd / outcome / { is_success = true; gas_burnt_usd = +0.000206; tokens_burnt_usd = +0.000206; gas_burnt = 308081859340; tokens_burnt = 30808185934000000000 }\n",
       "23:50:00 \u001B[94m  debug\u001B[39m #3 near_workspaces.print_usd / outcome / { is_success = true; gas_burnt_usd = +0.000602; tokens_burnt_usd = +0.000602; gas_burnt = 901289581511; tokens_burnt = 90128958151100000000 }\n",
       "23:50:00 \u001B[94m  debug\u001B[39m #4 near_workspaces.print_usd / outcome / { is_success = true; gas_burnt_usd = +0.000149; tokens_burnt_usd = +0.000000; gas_burnt = 223182562500; tokens_burnt = 0 }\n"
      ]
     },
     "metadata": {},
     "output_type": "display_data"
    }
   ],
   "source": [
    "//// test\n",
    "///! rust -c\n",
    "\n",
    "()"
   ]
  },
  {
   "cell_type": "code",
   "execution_count": null,
   "metadata": {
    "dotnet_interactive": {
     "language": "spiral"
    },
    "polyglot_notebook": {
     "kernelName": "spiral"
    }
   },
   "outputs": [
    {
     "data": {
      "text/plain": [
       "23:50:12 \u001B[94m  debug\u001B[39m #1 near_workspaces.print_usd / { retry = 1; total_gas_burnt_usd = +0.001015; total_gas_burnt = 1519042951658 }\n",
       "23:50:12 \u001B[94m  debug\u001B[39m #2 near_workspaces.print_usd / outcome / { is_success = true; gas_burnt_usd = +0.000206; tokens_burnt_usd = +0.000206; gas_burnt = 308081859340; tokens_burnt = 30808185934000000000 }\n",
       "23:50:12 \u001B[94m  debug\u001B[39m #3 near_workspaces.print_usd / outcome / { is_success = true; gas_burnt_usd = +0.000660; tokens_burnt_usd = +0.000660; gas_burnt = 987778529818; tokens_burnt = 98777852981800000000 }\n",
       "23:50:12 \u001B[94m  debug\u001B[39m #4 near_workspaces.print_usd / outcome / { is_success = true; gas_burnt_usd = +0.000149; tokens_burnt_usd = +0.000000; gas_burnt = 223182562500; tokens_burnt = 0 }\n"
      ]
     },
     "metadata": {},
     "output_type": "display_data"
    }
   ],
   "source": [
    "//// test\n",
    "///! rust -c\n",
    "\n",
    "trace Verbose (fun () => \"\") id"
   ]
  },
  {
   "cell_type": "markdown",
   "metadata": {},
   "source": [
    "### new"
   ]
  },
  {
   "cell_type": "code",
   "execution_count": null,
   "metadata": {
    "dotnet_interactive": {
     "language": "spiral"
    },
    "polyglot_notebook": {
     "kernelName": "spiral"
    }
   },
   "outputs": [],
   "source": [
    "inl new () : state =\n",
    "    {\n",
    "        version = 2\n",
    "        seeds = \"seeds\" |> sm'.byte_slice |> near.new_vector\n",
    "    }"
   ]
  },
  {
   "cell_type": "code",
   "execution_count": null,
   "metadata": {
    "dotnet_interactive": {
     "language": "spiral"
    },
    "polyglot_notebook": {
     "kernelName": "spiral"
    }
   },
   "outputs": [
    {
     "data": {
      "text/plain": [
       "00:00:00 \u001B[90mverbose\u001B[39m #1 dice_contract / { state = (2, Vector { len: 0, prefix: [115, 101, 101, 100, 115] }) }\n",
       "23:50:25 \u001B[94m  debug\u001B[39m #1 near_workspaces.print_usd / { retry = 1; total_gas_burnt_usd = +0.001006; total_gas_burnt = 1505541412147 }\n",
       "23:50:25 \u001B[94m  debug\u001B[39m #2 near_workspaces.print_usd / outcome / { is_success = true; gas_burnt_usd = +0.000206; tokens_burnt_usd = +0.000206; gas_burnt = 308081859340; tokens_burnt = 30808185934000000000 }\n",
       "23:50:25 \u001B[94m  debug\u001B[39m #3 near_workspaces.print_usd / outcome / { is_success = true; gas_burnt_usd = +0.000800; tokens_burnt_usd = +0.000800; gas_burnt = 1197459552807; tokens_burnt = 119745955280700000000 }\n",
       "23:50:25 \u001B[33mwarning\u001B[39m #4 spiral_wasm.run / Error error / { retry = 1; error = \"{ receipt_failures = []; receipt_outcomes_len = 1; retry = 1 }\" }\n",
       "00:00:00 \u001B[90mverbose\u001B[39m #1 dice_contract / { state = (2, Vector { len: 0, prefix: [115, 101, 101, 100, 115] }) }\n",
       "23:50:33 \u001B[94m  debug\u001B[39m #5 near_workspaces.print_usd / { retry = 2; total_gas_burnt_usd = +0.001006; total_gas_burnt = 1505541412147 }\n",
       "23:50:33 \u001B[94m  debug\u001B[39m #6 near_workspaces.print_usd / outcome / { is_success = true; gas_burnt_usd = +0.000206; tokens_burnt_usd = +0.000206; gas_burnt = 308081859340; tokens_burnt = 30808185934000000000 }\n",
       "23:50:33 \u001B[94m  debug\u001B[39m #7 near_workspaces.print_usd / outcome / { is_success = true; gas_burnt_usd = +0.000800; tokens_burnt_usd = +0.000800; gas_burnt = 1197459552807; tokens_burnt = 119745955280700000000 }\n",
       "23:50:33 \u001B[33mwarning\u001B[39m #8 spiral_wasm.run / Error error / { retry = 2; error = \"{ receipt_failures = []; receipt_outcomes_len = 1; retry = 2 }\" }\n",
       "00:00:00 \u001B[90mverbose\u001B[39m #1 dice_contract / { state = (2, Vector { len: 0, prefix: [115, 101, 101, 100, 115] }) }\n",
       "23:50:40 \u001B[94m  debug\u001B[39m #9 near_workspaces.print_usd / { retry = 3; total_gas_burnt_usd = +0.001155; total_gas_burnt = 1728723974647 }\n",
       "23:50:40 \u001B[94m  debug\u001B[39m #10 near_workspaces.print_usd / outcome / { is_success = true; gas_burnt_usd = +0.000206; tokens_burnt_usd = +0.000206; gas_burnt = 308081859340; tokens_burnt = 30808185934000000000 }\n",
       "23:50:40 \u001B[94m  debug\u001B[39m #11 near_workspaces.print_usd / outcome / { is_success = true; gas_burnt_usd = +0.000800; tokens_burnt_usd = +0.000800; gas_burnt = 1197459552807; tokens_burnt = 119745955280700000000 }\n",
       "23:50:40 \u001B[94m  debug\u001B[39m #12 near_workspaces.print_usd / outcome / { is_success = true; gas_burnt_usd = +0.000149; tokens_burnt_usd = +0.000000; gas_burnt = 223182562500; tokens_burnt = 0 }\n"
      ]
     },
     "metadata": {},
     "output_type": "display_data"
    }
   ],
   "source": [
    "//// test\n",
    "///! rust -c\n",
    "\n",
    "inl state = new ()\n",
    "trace Verbose (fun () => \"dice_contract\") fun () => { state = state |> sm'.format_debug }\n",
    "trace Verbose (fun () => \"\") id"
   ]
  },
  {
   "cell_type": "markdown",
   "metadata": {},
   "source": [
    "### max_seeds"
   ]
  },
  {
   "cell_type": "code",
   "execution_count": null,
   "metadata": {
    "dotnet_interactive": {
     "language": "spiral"
    },
    "polyglot_notebook": {
     "kernelName": "spiral"
    }
   },
   "outputs": [],
   "source": [
    "inl max_seeds () : unativeint =\n",
    "    100i32 |> convert"
   ]
  },
  {
   "cell_type": "markdown",
   "metadata": {},
   "source": [
    "### contribute_seed"
   ]
  },
  {
   "cell_type": "code",
   "execution_count": null,
   "metadata": {
    "dotnet_interactive": {
     "language": "spiral"
    },
    "polyglot_notebook": {
     "kernelName": "spiral"
    }
   },
   "outputs": [],
   "source": [
    "inl contribute_seed (seeds : rust.ref (rust.mut' (near.vector u8))) (seed : am'.vec u8) : () =\n",
    "    !\\($'\"!seeds.extend(!seed); //\"') : ()\n",
    "    inl max_seeds = max_seeds ()\n",
    "\n",
    "    inl seed_excess_len : i32 = !\\($'\"(!seeds.len() as i32) - !max_seeds as i32\"')\n",
    "\n",
    "    if seed_excess_len > 0 then\n",
    "        inl seed_excess : am'.vec u8 =\n",
    "            !\\\\(seed_excess_len, $'\"!seeds.drain(0..$0 as u32).collect()\"')\n",
    "        trace Debug\n",
    "            fun () => $'$\"dice_contract.contribute_seed\"'\n",
    "            fun () => { seed_excess = seed_excess |> sm'.format_debug }"
   ]
  },
  {
   "cell_type": "markdown",
   "metadata": {},
   "source": [
    "### generate_random_number"
   ]
  },
  {
   "cell_type": "code",
   "execution_count": null,
   "metadata": {
    "dotnet_interactive": {
     "language": "spiral"
    },
    "polyglot_notebook": {
     "kernelName": "spiral"
    }
   },
   "outputs": [],
   "source": [
    "inl generate_random_number\n",
    "    (seeds : am'.vec u8) (key : sm'.std_string) (proof : sm'.std_string) (max : u64)\n",
    "    : u64\n",
    "    =\n",
    "\n",
    "    inl seed = near.random_seed ()\n",
    "\n",
    "    inl block_timestamp = near.block_timestamp ()\n",
    "    inl block_height = near.block_height ()\n",
    "    inl epoch_height = near.epoch_height ()\n",
    "    inl account_balance = near.account_balance ()\n",
    "    inl signer_account_id = near.signer_account_id ()\n",
    "\n",
    "    inl entropy : am'.vec u8 =\n",
    "        ;[\n",
    "            seed\n",
    "            seeds\n",
    "            epoch_height |> am'.to_le_bytes |> am'.to_vec'\n",
    "            block_height |> am'.to_le_bytes |> am'.to_vec'\n",
    "            block_timestamp |> am'.to_le_bytes |> am'.to_vec'\n",
    "            account_balance |> near.as_yoctonear |> am'.to_le_bytes |> am'.to_vec'\n",
    "            signer_account_id |> am'.as_bytes |> am'.to_vec''\n",
    "            proof |> sm'.into_bytes\n",
    "            key |> sm'.into_bytes\n",
    "        ]\n",
    "        |> am'.to_vec\n",
    "        |> rust.concat\n",
    "    \n",
    "    inl entropy_len = entropy |> am'.vec_len\n",
    "\n",
    "    inl hash_u8 : am'.vec u8 = !\\($'$\"near_sdk::env::keccak512(&!entropy)\"')\n",
    "\n",
    "    !\\($'\"self.contribute_seed(!hash_u8.clone()); //\"') : ()\n",
    "    !\\($'\"let hash_stream = Util::vec_u8_to_stream(!hash_u8.clone()); //\"') : ()\n",
    "    !\\($'\"let rolls_list = Util::stream_u8_to_list(dice_contract_lib::Dice::rotate_numbers(6)( //\"') : ()\n",
    "    !\\($'\"    hash_stream.into(), //\"') : ()\n",
    "    !\\($'\")); //\"') : ()\n",
    "    inl rolls_list_log : am'.vec u8 = !\\($'\"Util::list_u8_to_vec(rolls_list.clone().into())\"')\n",
    "\n",
    "    trace Debug\n",
    "        fun () => $'$\"dice_contract.generate_random_number\"'\n",
    "        fun () =>\n",
    "            {\n",
    "                max\n",
    "                key\n",
    "                proof\n",
    "                block_timestamp\n",
    "                block_height\n",
    "                epoch_height\n",
    "                account_balance = account_balance |> sm'.format_debug\n",
    "                signer_account_id = signer_account_id |> sm'.to_string\n",
    "                seed = seed |> sm'.format_debug\n",
    "                seeds = seeds |> sm'.format_debug\n",
    "                entropy_len\n",
    "                entropy = entropy |> sm'.format_debug\n",
    "                hash_u8 = hash_u8 |> sm'.format_debug\n",
    "                rolls_list_log = rolls_list_log |> sm'.format_debug\n",
    "            }\n",
    "\n",
    "    !\\($'\"let sequential_roll = //\"') : ()\n",
    "    !\\($'\"    dice_contract_lib::Dice::create_sequential_roller(rolls_list.into()); //\"') : ()\n",
    "    !\\($'\"let result = dice_contract_lib::Dice::roll_progressively //\"') : ()\n",
    "    !\\($'\"    (sequential_roll)(true)(max); //\"') : ()\n",
    "\n",
    "    trace Debug (fun () => \"\") (join id)\n",
    "\n",
    "    !\\($'\"result as u64\"')"
   ]
  },
  {
   "cell_type": "markdown",
   "metadata": {},
   "source": [
    "### roll_within_bounds"
   ]
  },
  {
   "cell_type": "code",
   "execution_count": null,
   "metadata": {
    "dotnet_interactive": {
     "language": "spiral"
    },
    "polyglot_notebook": {
     "kernelName": "spiral"
    }
   },
   "outputs": [],
   "source": [
    "//// package=../dice\n",
    "\n",
    "inl roll_within_bounds (max : u64) (rolls : am'.vec u8) : optionm'.option' u64 =\n",
    "\n",
    "    // !\\\\(rolls, $'\"let rolls = Util::vec_u8_to_list($0); //\"') : ()\n",
    "\n",
    "    inl rolls_list = rolls |> am'.from_vec |> fun (x : _ int _) => x |> am'.to_list' |> listm'.unbox\n",
    "    inl result = rolls_list |> lib.dice.roll_within_bounds max\n",
    "    // !\\($'\"let result = dice_contract_lib::Dice::roll_within_bounds(!max)(!rolls.into()); //\"') : ()\n",
    "\n",
    "    inl result = result |> optionm'.box\n",
    "\n",
    "    trace Debug\n",
    "        fun () => \"dice_contract.roll_within_bounds\"\n",
    "        fun () => { max rolls = rolls |> sm'.format_debug; result }\n",
    "\n",
    "    trace Debug (fun () => \"\") (join id)\n",
    "\n",
    "    // !\\($'\"result\"')\n",
    "\n",
    "    result"
   ]
  },
  {
   "cell_type": "code",
   "execution_count": null,
   "metadata": {
    "dotnet_interactive": {
     "language": "spiral"
    },
    "polyglot_notebook": {
     "kernelName": "spiral"
    }
   },
   "outputs": [
    {
     "data": {
      "text/plain": [
       "00:00:00 \u001B[94m  debug\u001B[39m #1 dice.accumulate_dice_rolls / { power = 4; acc = 0; roll = 1 }\n",
       "00:00:00 \u001B[94m  debug\u001B[39m #2 dice.accumulate_dice_rolls / { power = 3; acc = 0; roll = 5; value = 864 }\n",
       "00:00:00 \u001B[94m  debug\u001B[39m #3 dice.accumulate_dice_rolls / { power = 2; acc = 864; roll = 4; value = 108 }\n",
       "00:00:00 \u001B[94m  debug\u001B[39m #4 dice.accumulate_dice_rolls / { power = 1; acc = 972; roll = 4; value = 18 }\n",
       "00:00:00 \u001B[94m  debug\u001B[39m #5 dice.accumulate_dice_rolls / { power = 0; acc = 990; roll = 5; value = 4 }\n",
       "00:00:00 \u001B[94m  debug\u001B[39m #6 dice.accumulate_dice_rolls / { power = -1; acc = 994; result = 995 }\n",
       "00:00:00 \u001B[94m  debug\u001B[39m #7 dice_contract.roll_within_bounds / { max = 2000; rolls = [1, 5, 4, 4, 5]; result = Some(\n",
       "    995,\n",
       ") }\n",
       "23:50:55 \u001B[94m  debug\u001B[39m #1 near_workspaces.print_usd / { retry = 1; total_gas_burnt_usd = +0.002692; total_gas_burnt = 4030380386857 }\n",
       "23:50:55 \u001B[94m  debug\u001B[39m #2 near_workspaces.print_usd / outcome / { is_success = true; gas_burnt_usd = +0.000206; tokens_burnt_usd = +0.000206; gas_burnt = 308081859340; tokens_burnt = 30808185934000000000 }\n",
       "23:50:55 \u001B[94m  debug\u001B[39m #3 near_workspaces.print_usd / outcome / { is_success = true; gas_burnt_usd = +0.002486; tokens_burnt_usd = +0.002486; gas_burnt = 3722298527517; tokens_burnt = 372229852751700000000 }\n",
       "23:50:55 \u001B[33mwarning\u001B[39m #4 spiral_wasm.run / Error error / { retry = 1; error = \"{ receipt_failures = []; receipt_outcomes_len = 1; retry = 1 }\" }\n",
       "00:00:00 \u001B[94m  debug\u001B[39m #1 dice.accumulate_dice_rolls / { power = 4; acc = 0; roll = 1 }\n",
       "00:00:00 \u001B[94m  debug\u001B[39m #2 dice.accumulate_dice_rolls / { power = 3; acc = 0; roll = 5; value = 864 }\n",
       "00:00:00 \u001B[94m  debug\u001B[39m #3 dice.accumulate_dice_rolls / { power = 2; acc = 864; roll = 4; value = 108 }\n",
       "00:00:00 \u001B[94m  debug\u001B[39m #4 dice.accumulate_dice_rolls / { power = 1; acc = 972; roll = 4; value = 18 }\n",
       "00:00:00 \u001B[94m  debug\u001B[39m #5 dice.accumulate_dice_rolls / { power = 0; acc = 990; roll = 5; value = 4 }\n",
       "00:00:00 \u001B[94m  debug\u001B[39m #6 dice.accumulate_dice_rolls / { power = -1; acc = 994; result = 995 }\n",
       "00:00:00 \u001B[94m  debug\u001B[39m #7 dice_contract.roll_within_bounds / { max = 2000; rolls = [1, 5, 4, 4, 5]; result = Some(\n",
       "    995,\n",
       ") }\n",
       "23:51:03 \u001B[94m  debug\u001B[39m #5 near_workspaces.print_usd / { retry = 2; total_gas_burnt_usd = +0.002692; total_gas_burnt = 4030380386857 }\n",
       "23:51:03 \u001B[94m  debug\u001B[39m #6 near_workspaces.print_usd / outcome / { is_success = true; gas_burnt_usd = +0.000206; tokens_burnt_usd = +0.000206; gas_burnt = 308081859340; tokens_burnt = 30808185934000000000 }\n",
       "23:51:03 \u001B[94m  debug\u001B[39m #7 near_workspaces.print_usd / outcome / { is_success = true; gas_burnt_usd = +0.002486; tokens_burnt_usd = +0.002486; gas_burnt = 3722298527517; tokens_burnt = 372229852751700000000 }\n",
       "23:51:03 \u001B[33mwarning\u001B[39m #8 spiral_wasm.run / Error error / { retry = 2; error = \"{ receipt_failures = []; receipt_outcomes_len = 1; retry = 2 }\" }\n",
       "00:00:00 \u001B[94m  debug\u001B[39m #1 dice.accumulate_dice_rolls / { power = 4; acc = 0; roll = 1 }\n",
       "00:00:00 \u001B[94m  debug\u001B[39m #2 dice.accumulate_dice_rolls / { power = 3; acc = 0; roll = 5; value = 864 }\n",
       "00:00:00 \u001B[94m  debug\u001B[39m #3 dice.accumulate_dice_rolls / { power = 2; acc = 864; roll = 4; value = 108 }\n",
       "00:00:00 \u001B[94m  debug\u001B[39m #4 dice.accumulate_dice_rolls / { power = 1; acc = 972; roll = 4; value = 18 }\n",
       "00:00:00 \u001B[94m  debug\u001B[39m #5 dice.accumulate_dice_rolls / { power = 0; acc = 990; roll = 5; value = 4 }\n",
       "00:00:00 \u001B[94m  debug\u001B[39m #6 dice.accumulate_dice_rolls / { power = -1; acc = 994; result = 995 }\n",
       "00:00:00 \u001B[94m  debug\u001B[39m #7 dice_contract.roll_within_bounds / { max = 2000; rolls = [1, 5, 4, 4, 5]; result = Some(\n",
       "    995,\n",
       ") }\n",
       "23:51:10 \u001B[94m  debug\u001B[39m #9 near_workspaces.print_usd / { retry = 3; total_gas_burnt_usd = +0.002692; total_gas_burnt = 4030380386857 }\n",
       "23:51:10 \u001B[94m  debug\u001B[39m #10 near_workspaces.print_usd / outcome / { is_success = true; gas_burnt_usd = +0.000206; tokens_burnt_usd = +0.000206; gas_burnt = 308081859340; tokens_burnt = 30808185934000000000 }\n",
       "23:51:10 \u001B[94m  debug\u001B[39m #11 near_workspaces.print_usd / outcome / { is_success = true; gas_burnt_usd = +0.002486; tokens_burnt_usd = +0.002486; gas_burnt = 3722298527517; tokens_burnt = 372229852751700000000 }\n",
       "23:51:10 \u001B[33mwarning\u001B[39m #12 spiral_wasm.run / Error error / { retry = 3; error = \"{ receipt_failures = []; receipt_outcomes_len = 1; retry = 3 }\" }\n",
       "00:00:00 \u001B[94m  debug\u001B[39m #1 dice.accumulate_dice_rolls / { power = 4; acc = 0; roll = 1 }\n",
       "00:00:00 \u001B[94m  debug\u001B[39m #2 dice.accumulate_dice_rolls / { power = 3; acc = 0; roll = 5; value = 864 }\n",
       "00:00:00 \u001B[94m  debug\u001B[39m #3 dice.accumulate_dice_rolls / { power = 2; acc = 864; roll = 4; value = 108 }\n",
       "00:00:00 \u001B[94m  debug\u001B[39m #4 dice.accumulate_dice_rolls / { power = 1; acc = 972; roll = 4; value = 18 }\n",
       "00:00:00 \u001B[94m  debug\u001B[39m #5 dice.accumulate_dice_rolls / { power = 0; acc = 990; roll = 5; value = 4 }\n",
       "00:00:00 \u001B[94m  debug\u001B[39m #6 dice.accumulate_dice_rolls / { power = -1; acc = 994; result = 995 }\n",
       "00:00:00 \u001B[94m  debug\u001B[39m #7 dice_contract.roll_within_bounds / { max = 2000; rolls = [1, 5, 4, 4, 5]; result = Some(\n",
       "    995,\n",
       ") }\n",
       "23:51:16 \u001B[94m  debug\u001B[39m #13 near_workspaces.print_usd / { retry = 4; total_gas_burnt_usd = +0.002692; total_gas_burnt = 4030380386857 }\n",
       "23:51:16 \u001B[94m  debug\u001B[39m #14 near_workspaces.print_usd / outcome / { is_success = true; gas_burnt_usd = +0.000206; tokens_burnt_usd = +0.000206; gas_burnt = 308081859340; tokens_burnt = 30808185934000000000 }\n",
       "23:51:16 \u001B[94m  debug\u001B[39m #15 near_workspaces.print_usd / outcome / { is_success = true; gas_burnt_usd = +0.002486; tokens_burnt_usd = +0.002486; gas_burnt = 3722298527517; tokens_burnt = 372229852751700000000 }\n",
       "23:51:16 \u001B[33mwarning\u001B[39m #16 spiral_wasm.run / Error error / { retry = 4; error = \"{ receipt_failures = []; receipt_outcomes_len = 1; retry = 4 }\" }\n",
       "00:00:00 \u001B[94m  debug\u001B[39m #1 dice.accumulate_dice_rolls / { power = 4; acc = 0; roll = 1 }\n",
       "00:00:00 \u001B[94m  debug\u001B[39m #2 dice.accumulate_dice_rolls / { power = 3; acc = 0; roll = 5; value = 864 }\n",
       "00:00:00 \u001B[94m  debug\u001B[39m #3 dice.accumulate_dice_rolls / { power = 2; acc = 864; roll = 4; value = 108 }\n",
       "00:00:00 \u001B[94m  debug\u001B[39m #4 dice.accumulate_dice_rolls / { power = 1; acc = 972; roll = 4; value = 18 }\n",
       "00:00:00 \u001B[94m  debug\u001B[39m #5 dice.accumulate_dice_rolls / { power = 0; acc = 990; roll = 5; value = 4 }\n",
       "00:00:00 \u001B[94m  debug\u001B[39m #6 dice.accumulate_dice_rolls / { power = -1; acc = 994; result = 995 }\n",
       "00:00:00 \u001B[94m  debug\u001B[39m #7 dice_contract.roll_within_bounds / { max = 2000; rolls = [1, 5, 4, 4, 5]; result = Some(\n",
       "    995,\n",
       ") }\n",
       "23:51:23 \u001B[94m  debug\u001B[39m #17 near_workspaces.print_usd / { retry = 5; total_gas_burnt_usd = +0.002841; total_gas_burnt = 4253562949357 }\n",
       "23:51:23 \u001B[94m  debug\u001B[39m #18 near_workspaces.print_usd / outcome / { is_success = true; gas_burnt_usd = +0.000206; tokens_burnt_usd = +0.000206; gas_burnt = 308081859340; tokens_burnt = 30808185934000000000 }\n",
       "23:51:23 \u001B[94m  debug\u001B[39m #19 near_workspaces.print_usd / outcome / { is_success = true; gas_burnt_usd = +0.002486; tokens_burnt_usd = +0.002486; gas_burnt = 3722298527517; tokens_burnt = 372229852751700000000 }\n",
       "23:51:23 \u001B[94m  debug\u001B[39m #20 near_workspaces.print_usd / outcome / { is_success = true; gas_burnt_usd = +0.000149; tokens_burnt_usd = +0.000000; gas_burnt = 223182562500; tokens_burnt = 0 }\n"
      ]
     },
     "metadata": {},
     "output_type": "display_data"
    }
   ],
   "source": [
    "//// test\n",
    "///! rust -c\n",
    "\n",
    "inl rolls = ;[ 1; 5; 4; 4; 5 ] |> am'.to_vec\n",
    "\n",
    "rolls\n",
    "|> roll_within_bounds 2000\n",
    "|> _assert_eq' (optionm'.some' 995)"
   ]
  },
  {
   "cell_type": "markdown",
   "metadata": {},
   "source": [
    "### main"
   ]
  },
  {
   "cell_type": "code",
   "execution_count": null,
   "metadata": {
    "dotnet_interactive": {
     "language": "spiral"
    },
    "polyglot_notebook": {
     "kernelName": "spiral"
    }
   },
   "outputs": [],
   "source": [
    "///! _\n",
    "\n",
    "inl main () =\n",
    "    !\\($'\"} //\"') : ()\n",
    "\n",
    "    util ()\n",
    "\n",
    "    !\\($'\"#[derive( //\"') : ()\n",
    "    !\\($'\"  near_sdk::PanicOnDefault, //\"') : ()\n",
    "    !\\($'\"  borsh::BorshDeserialize, //\"') : ()\n",
    "    !\\($'\"  borsh::BorshSerialize, //\"') : ()\n",
    "    !\\($'\")] //\"') : ()\n",
    "\n",
    "    !\\($'\"pub struct OldState { //\"') : ()\n",
    "    !\\($'\"    version: u32, //\"') : ()\n",
    "    !\\($'\"    seeds: near_sdk::store::vec::Vector<u8>, //\"') : ()\n",
    "    !\\($'\"} //\"') : ()\n",
    "\n",
    "    !\\($'\"#[near_sdk::near_bindgen] //\"') : ()\n",
    "\n",
    "    !\\($'\"#[derive( //\"') : ()\n",
    "    !\\($'\"  near_sdk::PanicOnDefault, //\"') : ()\n",
    "    !\\($'\"  borsh::BorshDeserialize, //\"') : ()\n",
    "    !\\($'\"  borsh::BorshSerialize, //\"') : ()\n",
    "    !\\($'\")] //\"') : ()\n",
    "\n",
    "    !\\($'\"pub struct State ( //\"') : ()\n",
    "\n",
    "    !\\($'\"/*\"') : ()\n",
    "    (null () : rust.type_emit state) |> ignore\n",
    "    !\\($'\"*/ )\"') : ()\n",
    "\n",
    "    !\\($'\"impl From<OldState> for State { //\"') : ()\n",
    "    !\\($'\"    fn from(old_state: OldState) -> Self { //\"') : ()\n",
    "    !\\($'\"        Self((old_state.version + 1, old_state.seeds)) //\"') : ()\n",
    "    !\\($'\"    } //\"') : ()\n",
    "    !\\($'\"} //\"') : ()\n",
    "\n",
    "    inl new_ () =\n",
    "        !\\($'\"#[init] //\"') : ()\n",
    "        !\\($'\"pub fn new() -> Self { // 1\"') : ()\n",
    "\n",
    "        (!\\($'\"true; /*\"') : bool) |> ignore\n",
    "\n",
    "        (null () : rust.type_emit ()) |> ignore\n",
    "\n",
    "        (!\\($'\"true; */\"') : bool) |> ignore\n",
    "\n",
    "        inl result = new ()\n",
    "        $'let _result = !result in _result |> (fun x -> Fable.Core.RustInterop.emitRustExpr x $\"Self($0) // x\") // 2' : ()\n",
    "\n",
    "        !\\($'\"} // 2.\"') : ()\n",
    "\n",
    "        !\\($'\"} // 1.\"') : ()\n",
    "\n",
    "        2\n",
    "\n",
    "    inl contribute_seed () =\n",
    "        !\\($'\"pub fn contribute_seed(&mut self, seed: Vec<u8>) { //\"') : ()\n",
    "        inl seeds : rust.ref (rust.mut' (near.vector u8)) = !\\($'$\"&mut self.0.1\"')\n",
    "        inl seed : am'.vec u8 = !\\($'$\"seed\"')\n",
    "\n",
    "        seed |> contribute_seed seeds\n",
    "\n",
    "\n",
    "        !\\($'\"} //\"') : ()\n",
    "\n",
    "        !\\($'\"} //\"') : ()\n",
    "\n",
    "        !\\($'\"} //\"') : ()\n",
    "\n",
    "        3\n",
    "\n",
    "    inl contribute_seed_borsh () =\n",
    "        !\\($'\"pub fn contribute_seed_borsh(&mut self, #[serializer(borsh)] seed: Vec<u8>) { //\"') : ()\n",
    "        !\\($'\"    self.contribute_seed(seed) //\"') : ()\n",
    "        !\\($'\"} //\"') : ()\n",
    "\n",
    "        1\n",
    "\n",
    "    inl generate_random_number () =\n",
    "        !\\($'\"pub fn generate_random_number(&mut self, key: String, proof: String, max: u64) -> u64 { //\"') : ()\n",
    "\n",
    "        inl key : sm'.std_string = !\\($'$\"key\"')\n",
    "        inl proof : sm'.std_string = !\\($'$\"proof\"')\n",
    "        inl max : u64 = !\\($'$\"max\"')\n",
    "\n",
    "        inl seeds : rust.ref (near.vector u8) = !\\($'$\"&self.0.1\"')\n",
    "        inl seeds : am'.vec u8 = !\\($'$\"!seeds.iter().map(|x| *x).collect::<Vec<u8>>()\"')\n",
    "\n",
    "        inl result = generate_random_number seeds key proof max\n",
    "\n",
    "        !\\($'\"!result //\"') : ()\n",
    "\n",
    "        !\\($'\"} //\"') : ()\n",
    "\n",
    "        !\\($'\"} //\"') : ()\n",
    "\n",
    "        !\\($'\"} //\"') : ()\n",
    "\n",
    "        !\\($'\"} //\"') : ()\n",
    "\n",
    "        4\n",
    "\n",
    "    inl roll_within_bounds () =\n",
    "        !\\($'\"pub fn roll_within_bounds(&self, max: u64, rolls: Vec<u8>) -> Option<u64> { //\"') : ()\n",
    "        inl max : u64 = !\\($'$\"max\"')\n",
    "        inl rolls : am'.vec u8 = !\\($'$\"rolls\"')\n",
    "        inl result = roll_within_bounds max rolls\n",
    "\n",
    "        !\\\\(result, $'\"$0 //\"') : ()\n",
    "\n",
    "        !\\($'\"} //\"') : ()\n",
    "\n",
    "        !\\($'\"} //\"') : ()\n",
    "\n",
    "        2\n",
    "\n",
    "    inl roll_within_bounds_borsh () =\n",
    "        !\\($'\"#[result_serializer(borsh)] //\"') : ()\n",
    "        !\\($'\"pub fn roll_within_bounds_borsh( //\"') : ()\n",
    "        !\\($'\"    &self, //\"') : ()\n",
    "        !\\($'\"    #[serializer(borsh)] max: u64, //\"') : ()\n",
    "        !\\($'\"    #[serializer(borsh)] rolls: Vec<u8>, //\"') : ()\n",
    "        !\\($'\") -> Option<u64> { //\"') : ()\n",
    "        !\\($'\"    self.roll_within_bounds(max, rolls) //\"') : ()\n",
    "        !\\($'\"} //\"') : ()\n",
    "\n",
    "        1\n",
    "\n",
    "\n",
    "    inl fns =\n",
    "        [\n",
    "            new_\n",
    "            contribute_seed\n",
    "            contribute_seed_borsh\n",
    "            generate_random_number\n",
    "            roll_within_bounds\n",
    "            roll_within_bounds_borsh\n",
    "        ]\n",
    "\n",
    "    inl rec loop acc fns i =\n",
    "        match fns with\n",
    "        | [] => acc\n",
    "        | x :: xs =>\n",
    "            !\\($'\"#[near_sdk::near_bindgen] //\"') : ()\n",
    "            !\\($'\"impl State { //\"') : ()\n",
    "            inl n = x ()\n",
    "            !\\($'\"} /* c\"') : ()\n",
    "            inl rec loop' i' =\n",
    "                if i' <> 1 // <= n\n",
    "                then (!\\($'\"true; */ // ???? / i: !i / i\\': !i' / acc: !acc / n: !n\"') : bool) |> ignore\n",
    "                else\n",
    "                    (!\\($'\"true; // ??? / i: !i / i\\': !i' / acc: !acc / n: !n\"') : bool) |> ignore\n",
    "                    loop' (i' + 1)\n",
    "            loop' 1u8\n",
    "            loop (acc + n) xs (i + 1)\n",
    "    inl n = loop 0u8 fns 1u8\n",
    "\n",
    "\n",
    "    // !\\($'\"/* a\"') : ()\n",
    "\n",
    "    // !\\($'\"} // b\"') : ()\n",
    "\n",
    "    !\\($'\"fn _main() //\"') : ()\n",
    "    !\\($'\" //\"') : ()\n",
    "\n",
    "    inl rec loop' i' =\n",
    "        if i' <= n\n",
    "        then\n",
    "            (!\\($'\"true; { (); // ?? / i\\': !i' / n: !n\"') : bool) |> ignore\n",
    "            loop' (i' + 1)\n",
    "        else\n",
    "            (!\\($'\"true; { { (); // ? / i\\': !i' / n: !n\"') : bool) |> ignore\n",
    "            // (!\\($'\"true; */ // ?? / i\\': !i' / n: !n\"') : bool) |> ignore\n",
    "    loop' 1u8\n",
    "\n",
    "inl main () =\n",
    "    $'!main |> ignore' : ()"
   ]
  }
 ],
 "metadata": {},
 "nbformat": 4,
 "nbformat_minor": 5
}