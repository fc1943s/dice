{
 "cells": [
  {
   "cell_type": "markdown",
   "metadata": {},
   "source": [
    "# dice_contract"
   ]
  },
  {
   "cell_type": "code",
   "execution_count": null,
   "metadata": {
    "dotnet_interactive": {
     "language": "spiral"
    },
    "polyglot_notebook": {
     "kernelName": "spiral"
    }
   },
   "outputs": [
    {
     "name": "stdout",
     "output_type": "stream",
     "text": [
      "WARNING: You are using single-threaded workstation garbage collection, which means that parallel programs cannot scale.  Please configure your program to use server garbage collection.\n"
     ]
    }
   ],
   "source": [
    "//// package=../dice\n",
    "\n",
    "open rust\n",
    "open rust.rust_operators"
   ]
  },
  {
   "cell_type": "code",
   "execution_count": null,
   "metadata": {
    "dotnet_interactive": {
     "language": "spiral"
    },
    "polyglot_notebook": {
     "kernelName": "spiral"
    }
   },
   "outputs": [],
   "source": [
    "//// test\n",
    "\n",
    "open testing"
   ]
  },
  {
   "cell_type": "markdown",
   "metadata": {},
   "source": [
    "## dice_contract"
   ]
  },
  {
   "cell_type": "markdown",
   "metadata": {},
   "source": [
    "### state"
   ]
  },
  {
   "cell_type": "code",
   "execution_count": null,
   "metadata": {
    "dotnet_interactive": {
     "language": "spiral"
    },
    "polyglot_notebook": {
     "kernelName": "spiral"
    }
   },
   "outputs": [],
   "source": [
    "type state =\n",
    "    {\n",
    "        version : u32\n",
    "        seeds : near.vector u8\n",
    "    }"
   ]
  },
  {
   "cell_type": "code",
   "execution_count": null,
   "metadata": {
    "dotnet_interactive": {
     "language": "spiral"
    },
    "polyglot_notebook": {
     "kernelName": "spiral"
    }
   },
   "outputs": [
    {
     "data": {
      "text/plain": [
       " \n",
       "00:00:10 \u001B[92mi\u001B[39m #2 near_workspaces.print_usd / { retry = 1; total_gas_burnt_usd = +0.000808; total_gas_burnt = 1209380155211 }\n",
       "00:00:10 \u001B[92mi\u001B[39m #3 near_workspaces.print_usd / outcome / { is_success = true; gas_burnt_usd = +0.000206; tokens_burnt_usd = +0.000206; gas_burnt = 308081859340; tokens_burnt = 30808185934000000000 }\n",
       "00:00:10 \u001B[92mi\u001B[39m #4 near_workspaces.print_usd / outcome / { is_success = true; gas_burnt_usd = +0.000602; tokens_burnt_usd = +0.000602; gas_burnt = 901298295871; tokens_burnt = 90129829587100000000 }\n",
       "00:00:10 \u001B[33mw\u001B[39m #5 spiral_wasm.run / Error error / { retry = 1; error = \"{ receipt_outcomes_len = 1; retry = 1; receipt_failures = [] }\" }\n",
       "\n",
       "\n",
       " \n",
       "00:00:18 \u001B[92mi\u001B[39m #8 near_workspaces.print_usd / { retry = 2; total_gas_burnt_usd = +0.000957; total_gas_burnt = 1432562717711 }\n",
       "00:00:18 \u001B[92mi\u001B[39m #9 near_workspaces.print_usd / outcome / { is_success = true; gas_burnt_usd = +0.000206; tokens_burnt_usd = +0.000206; gas_burnt = 308081859340; tokens_burnt = 30808185934000000000 }\n",
       "00:00:18 \u001B[92mi\u001B[39m #10 near_workspaces.print_usd / outcome / { is_success = true; gas_burnt_usd = +0.000602; tokens_burnt_usd = +0.000602; gas_burnt = 901298295871; tokens_burnt = 90129829587100000000 }\n",
       "00:00:18 \u001B[92mi\u001B[39m #11 near_workspaces.print_usd / outcome / { is_success = true; gas_burnt_usd = +0.000149; tokens_burnt_usd = +0.000000; gas_burnt = 223182562500; tokens_burnt = 0 }\n"
      ]
     },
     "metadata": {},
     "output_type": "display_data"
    }
   ],
   "source": [
    "//// test\n",
    "///! rust -c\n",
    "\n",
    "()"
   ]
  },
  {
   "cell_type": "code",
   "execution_count": null,
   "metadata": {
    "dotnet_interactive": {
     "language": "spiral"
    },
    "polyglot_notebook": {
     "kernelName": "spiral"
    }
   },
   "outputs": [
    {
     "data": {
      "text/plain": [
       " \n",
       "00:00:07 \u001B[92mi\u001B[39m #2 near_workspaces.print_usd / { retry = 1; total_gas_burnt_usd = +0.001034; total_gas_burnt = 1547823517808 }\n",
       "00:00:07 \u001B[92mi\u001B[39m #3 near_workspaces.print_usd / outcome / { is_success = true; gas_burnt_usd = +0.000206; tokens_burnt_usd = +0.000206; gas_burnt = 308081859340; tokens_burnt = 30808185934000000000 }\n",
       "00:00:07 \u001B[92mi\u001B[39m #4 near_workspaces.print_usd / outcome / { is_success = true; gas_burnt_usd = +0.000679; tokens_burnt_usd = +0.000679; gas_burnt = 1016559095968; tokens_burnt = 101655909596800000000 }\n",
       "00:00:07 \u001B[92mi\u001B[39m #5 near_workspaces.print_usd / outcome / { is_success = true; gas_burnt_usd = +0.000149; tokens_burnt_usd = +0.000000; gas_burnt = 223182562500; tokens_burnt = 0 }\n"
      ]
     },
     "metadata": {},
     "output_type": "display_data"
    }
   ],
   "source": [
    "//// test\n",
    "///! rust -c\n",
    "\n",
    "trace Verbose (fun () => \"\") id"
   ]
  },
  {
   "cell_type": "markdown",
   "metadata": {},
   "source": [
    "### new"
   ]
  },
  {
   "cell_type": "code",
   "execution_count": null,
   "metadata": {
    "dotnet_interactive": {
     "language": "spiral"
    },
    "polyglot_notebook": {
     "kernelName": "spiral"
    }
   },
   "outputs": [],
   "source": [
    "inl new () : state =\n",
    "    {\n",
    "        version = 2\n",
    "        seeds = \"seeds\" |> sm'.byte_slice |> near.new_vector\n",
    "    }"
   ]
  },
  {
   "cell_type": "code",
   "execution_count": null,
   "metadata": {
    "dotnet_interactive": {
     "language": "spiral"
    },
    "polyglot_notebook": {
     "kernelName": "spiral"
    }
   },
   "outputs": [
    {
     "data": {
      "text/plain": [
       "00:00:00 \u001B[90mv\u001B[39m #1 dice_contract / { state = (2, Vector { len: 0, prefix: [115, 101, 101, 100, 115] }) }\n",
       " \n",
       "00:00:09 \u001B[92mi\u001B[39m #2 near_workspaces.print_usd / { retry = 1; total_gas_burnt_usd = +0.001032; total_gas_burnt = 1544875919967 }\n",
       "00:00:09 \u001B[92mi\u001B[39m #3 near_workspaces.print_usd / outcome / { is_success = true; gas_burnt_usd = +0.000206; tokens_burnt_usd = +0.000206; gas_burnt = 308081859340; tokens_burnt = 30808185934000000000 }\n",
       "00:00:09 \u001B[92mi\u001B[39m #4 near_workspaces.print_usd / outcome / { is_success = true; gas_burnt_usd = +0.000826; tokens_burnt_usd = +0.000826; gas_burnt = 1236794060627; tokens_burnt = 123679406062700000000 }\n",
       "00:00:09 \u001B[33mw\u001B[39m #5 spiral_wasm.run / Error error / { retry = 1; error = \"{ receipt_outcomes_len = 1; retry = 1; receipt_failures = [] }\" }\n",
       "\n",
       "\n",
       "00:00:00 \u001B[90mv\u001B[39m #1 dice_contract / { state = (2, Vector { len: 0, prefix: [115, 101, 101, 100, 115] }) }\n",
       " \n",
       "00:00:17 \u001B[92mi\u001B[39m #8 near_workspaces.print_usd / { retry = 2; total_gas_burnt_usd = +0.001181; total_gas_burnt = 1768058482467 }\n",
       "00:00:17 \u001B[92mi\u001B[39m #9 near_workspaces.print_usd / outcome / { is_success = true; gas_burnt_usd = +0.000206; tokens_burnt_usd = +0.000206; gas_burnt = 308081859340; tokens_burnt = 30808185934000000000 }\n",
       "00:00:17 \u001B[92mi\u001B[39m #10 near_workspaces.print_usd / outcome / { is_success = true; gas_burnt_usd = +0.000826; tokens_burnt_usd = +0.000826; gas_burnt = 1236794060627; tokens_burnt = 123679406062700000000 }\n",
       "00:00:17 \u001B[92mi\u001B[39m #11 near_workspaces.print_usd / outcome / { is_success = true; gas_burnt_usd = +0.000149; tokens_burnt_usd = +0.000000; gas_burnt = 223182562500; tokens_burnt = 0 }\n"
      ]
     },
     "metadata": {},
     "output_type": "display_data"
    }
   ],
   "source": [
    "//// test\n",
    "///! rust -c\n",
    "\n",
    "inl state = new ()\n",
    "trace Verbose (fun () => \"dice_contract\") fun () => { state = state |> sm'.format_debug }\n",
    "trace Verbose (fun () => \"\") id"
   ]
  },
  {
   "cell_type": "markdown",
   "metadata": {},
   "source": [
    "### max_seeds"
   ]
  },
  {
   "cell_type": "code",
   "execution_count": null,
   "metadata": {
    "dotnet_interactive": {
     "language": "spiral"
    },
    "polyglot_notebook": {
     "kernelName": "spiral"
    }
   },
   "outputs": [],
   "source": [
    "inl max_seeds () : unativeint =\n",
    "    100i32 |> convert"
   ]
  },
  {
   "cell_type": "markdown",
   "metadata": {},
   "source": [
    "### contribute_seed"
   ]
  },
  {
   "cell_type": "code",
   "execution_count": null,
   "metadata": {
    "dotnet_interactive": {
     "language": "spiral"
    },
    "polyglot_notebook": {
     "kernelName": "spiral"
    }
   },
   "outputs": [],
   "source": [
    "inl contribute_seed (seeds : rust.ref (rust.mut' (near.vector u8))) (seed : am'.vec u8) : () =\n",
    "    seeds |> near.vector_extend seed\n",
    "\n",
    "    inl seed_excess_len = (seeds |> rust.len |> fun x => x : u32 |> i32) - (max_seeds () |> i32)\n",
    "\n",
    "    if seed_excess_len > 0 then\n",
    "        inl seed_excess : am'.vec u8 =\n",
    "            !\\\\(seed_excess_len, $'\"!seeds.drain(0..$0 as u32).collect::<Vec<_>>()\"')\n",
    "        trace Debug\n",
    "            fun () => \"dice_contract.contribute_seed\"\n",
    "            fun () => { seed_excess_len seed_excess = seed_excess |> sm'.format_debug }\n",
    "    trace Debug (fun () => \"\") (join id)"
   ]
  },
  {
   "cell_type": "code",
   "execution_count": null,
   "metadata": {
    "dotnet_interactive": {
     "language": "spiral"
    },
    "polyglot_notebook": {
     "kernelName": "spiral"
    }
   },
   "outputs": [
    {
     "data": {
      "text/plain": [
       "00:00:00 \u001B[94md\u001B[39m #1 dice_contract.contribute_seed / { seed_excess_len = 20; seed_excess = [1, 2, 3, 4, 5, 6, 7, 8, 9, 10, 1, 2, 3, 4, 5, 6, 7, 8, 9, 20] }\n",
       " \n",
       "00:00:09 \u001B[92mi\u001B[39m #2 near_workspaces.print_usd / { retry = 1; total_gas_burnt_usd = +0.007368; total_gas_burnt = 11029879511109 }\n",
       "00:00:09 \u001B[92mi\u001B[39m #3 near_workspaces.print_usd / outcome / { is_success = true; gas_burnt_usd = +0.000206; tokens_burnt_usd = +0.000206; gas_burnt = 308081859340; tokens_burnt = 30808185934000000000 }\n",
       "00:00:09 \u001B[92mi\u001B[39m #4 near_workspaces.print_usd / outcome / { is_success = true; gas_burnt_usd = +0.007162; tokens_burnt_usd = +0.007162; gas_burnt = 10721797651769; tokens_burnt = 1072179765176900000000 }\n",
       "00:00:09 \u001B[33mw\u001B[39m #5 spiral_wasm.run / Error error / { retry = 1; error = \"{ receipt_outcomes_len = 1; retry = 1; receipt_failures = [] }\" }\n",
       "\n",
       "\n",
       "00:00:00 \u001B[94md\u001B[39m #1 dice_contract.contribute_seed / { seed_excess_len = 20; seed_excess = [1, 2, 3, 4, 5, 6, 7, 8, 9, 10, 1, 2, 3, 4, 5, 6, 7, 8, 9, 20] }\n",
       " \n",
       "00:00:17 \u001B[92mi\u001B[39m #8 near_workspaces.print_usd / { retry = 2; total_gas_burnt_usd = +0.007517; total_gas_burnt = 11253062073609 }\n",
       "00:00:17 \u001B[92mi\u001B[39m #9 near_workspaces.print_usd / outcome / { is_success = true; gas_burnt_usd = +0.000206; tokens_burnt_usd = +0.000206; gas_burnt = 308081859340; tokens_burnt = 30808185934000000000 }\n",
       "00:00:17 \u001B[92mi\u001B[39m #10 near_workspaces.print_usd / outcome / { is_success = true; gas_burnt_usd = +0.007162; tokens_burnt_usd = +0.007162; gas_burnt = 10721797651769; tokens_burnt = 1072179765176900000000 }\n",
       "00:00:17 \u001B[92mi\u001B[39m #11 near_workspaces.print_usd / outcome / { is_success = true; gas_burnt_usd = +0.000149; tokens_burnt_usd = +0.000000; gas_burnt = 223182562500; tokens_burnt = 0 }\n"
      ]
     },
     "metadata": {},
     "output_type": "display_data"
    }
   ],
   "source": [
    "//// test\n",
    "///! rust -c\n",
    "\n",
    "inl replicate n =\n",
    "    let rec loop i acc =\n",
    "        if i > n\n",
    "        then acc\n",
    "        else\n",
    "            inl i' = i % 10\n",
    "            inl i' =\n",
    "                if i' = 0\n",
    "                then i % limit.max\n",
    "                else i'\n",
    "            loop (i + 1) (i' :: acc)\n",
    "    loop 1 []\n",
    "    |> listm.rev\n",
    "    |> listm'.box\n",
    "    |> listm'.to_array'\n",
    "\n",
    "inl max_seeds : u32 = max_seeds () |> convert\n",
    "inl seeds = \"\" |> sm'.byte_slice |> near.new_vector |> rust.to_ref_mut\n",
    "\n",
    "conv max_seeds * 1.2f64\n",
    "|> replicate\n",
    "|> am'.map_base u8\n",
    "|> am'.to_vec\n",
    "|> contribute_seed seeds\n",
    "\n",
    "seeds\n",
    "|> rust.len\n",
    "|> _assert_eq max_seeds"
   ]
  },
  {
   "cell_type": "markdown",
   "metadata": {},
   "source": [
    "### generate_random_number"
   ]
  },
  {
   "cell_type": "code",
   "execution_count": null,
   "metadata": {
    "dotnet_interactive": {
     "language": "spiral"
    },
    "polyglot_notebook": {
     "kernelName": "spiral"
    }
   },
   "outputs": [],
   "source": [
    "inl generate_random_number\n",
    "    (seeds : rust.ref (rust.mut' (near.vector u8)))\n",
    "    (key : sm'.std_string)\n",
    "    (proof : sm'.std_string)\n",
    "    (max : u64)\n",
    "    : u64\n",
    "    =\n",
    "    inl seed = near.random_seed ()\n",
    "    inl epoch_height = near.epoch_height ()\n",
    "    inl block_height = near.block_height ()\n",
    "    inl block_timestamp = near.block_timestamp ()\n",
    "    inl account_balance = near.account_balance ()\n",
    "    inl signer_account_id = near.signer_account_id ()\n",
    "    inl predecessor_account_id = near.predecessor_account_id ()\n",
    "    inl entropy =\n",
    "        ;[\n",
    "            seed\n",
    "            seeds |> rust.reref |> near.vector_to_vec\n",
    "            epoch_height |> am'.to_le_bytes |> am'.to_vec'\n",
    "            block_height |> am'.to_le_bytes |> am'.to_vec'\n",
    "            block_timestamp |> am'.to_le_bytes |> am'.to_vec'\n",
    "            account_balance |> near.as_yoctonear |> am'.to_le_bytes |> am'.to_vec'\n",
    "            signer_account_id |> am'.as_bytes |> am'.to_vec''\n",
    "            predecessor_account_id |> am'.as_bytes |> am'.to_vec''\n",
    "            proof |> sm'.into_bytes\n",
    "            key |> sm'.into_bytes\n",
    "        ]\n",
    "        |> am'.to_vec\n",
    "        |> rust.concat\n",
    "    inl hash_u8 = entropy |> near.keccak512\n",
    "    hash_u8 |> contribute_seed seeds\n",
    "    inl rolls_list =\n",
    "        hash_u8\n",
    "        |> am'.from_vec_base\n",
    "        |> am'.to_list_base'\n",
    "        |> listm'.unbox\n",
    "        |> stream.from_list\n",
    "        |> lib.dice.rotate_numbers 6\n",
    "        |> stream.to_list\n",
    "    trace Debug\n",
    "        fun () => \"dice_contract.generate_random_number\"\n",
    "        fun () => {\n",
    "            max\n",
    "            key\n",
    "            proof\n",
    "            block_timestamp\n",
    "            block_height\n",
    "            epoch_height\n",
    "            account_balance = account_balance |> sm'.format_debug\n",
    "            signer_account_id = signer_account_id |> sm'.to_string'\n",
    "            predecessor_account_id = predecessor_account_id |> sm'.to_string'\n",
    "            seed = seed |> sm'.format_debug\n",
    "            seeds = seeds |> sm'.format_debug\n",
    "            entropy_len = entropy |> am'.vec_len\n",
    "            entropy = entropy |> sm'.format_debug\n",
    "            hash_u8 = hash_u8 |> sm'.format_debug\n",
    "            rolls = rolls_list |> listm'.box |> listm'.to_array' |> am'.to_vec |> sm'.format_debug\n",
    "        }\n",
    "    inl sequential_roll = rolls_list |> lib.dice.create_sequential_roller\n",
    "    inl result = lib.dice.roll_progressively sequential_roll true max\n",
    "    trace Debug (fun () => \"\") (join id)\n",
    "    result"
   ]
  },
  {
   "cell_type": "code",
   "execution_count": null,
   "metadata": {
    "dotnet_interactive": {
     "language": "spiral"
    },
    "polyglot_notebook": {
     "kernelName": "spiral"
    }
   },
   "outputs": [
    {
     "data": {
      "text/plain": [
       "00:00:00 \u001B[94md\u001B[39m #2 dice_contract.generate_random_number / { max = 2000; key = \"\"; proof = \"\"; block_timestamp = 1740355651655319621; block_height = 9; epoch_height = 1; account_balance = NearToken { inner: 99817379736552383587979200 }; signer_account_id = \"dev-20250224000730-80196524965546\"; predecessor_account_id = \"dev-20250224000730-80196524965546\"; seed = [112, 85, 123, 212, 98, 244, 221, 27, 251, 72, 90, 8, 184, 61, 145, 70, 228, 72, 226, 196, 224, 195, 116, 244, 66, 150, 38, 128, 157, 246, 137, 250]; seeds = Vector { len: 64, prefix: [] }; entropy_len = 138; entropy = [112, 85, 123, 212, 98, 244, 221, 27, 251, 72, 90, 8, 184, 61, 145, 70, 228, 72, 226, 196, 224, 195, 116, 244, 66, 150, 38, 128, 157, 246, 137, 250, 1, 0, 0, 0, 0, 0, 0, 0, 9, 0, 0, 0, 0, 0, 0, 0, 69, 64, 194, 143, 62, 252, 38, 24, 192, 143, 230, 30, 215, 18, 132, 255, 38, 145, 82, 0, 0, 0, 0, 0, 100, 101, 118, 45, 50, 48, 50, 53, 48, 50, 50, 52, 48, 48, 48, 55, 51, 48, 45, 56, 48, 49, 57, 54, 53, 50, 52, 57, 54, 53, 53, 52, 54, 100, 101, 118, 45, 50, 48, 50, 53, 48, 50, 50, 52, 48, 48, 48, 55, 51, 48, 45, 56, 48, 49, 57, 54, 53, 50, 52, 57, 54, 53, 53, 52, 54]; hash_u8 = [44, 71, 197, 198, 116, 124, 6, 92, 53, 230, 79, 150, 143, 36, 68, 8, 199, 168, 84, 58, 84, 165, 42, 2, 43, 210, 150, 168, 40, 189, 86, 14, 88, 216, 88, 160, 139, 158, 217, 10, 210, 36, 250, 124, 1, 140, 19, 105, 29, 141, 146, 35, 252, 219, 127, 66, 152, 135, 155, 200, 60, 187, 161, 58]; rolls = [2, 5, 5, 6, 2, 4, 6, 2, 5, 2, 1, 6, 5, 6, 2, 2, 1, 6, 6, 4, 6, 3, 6, 2, 1, 6, 6, 6, 4, 3, 2, 2, 4, 6, 4, 4, 1, 2, 1, 4, 6, 6, 4, 4, 1, 2, 1, 3, 5, 3, 2, 5, 6, 3, 1, 6, 2, 3, 5, 2, 6, 1, 5, 4] }\n",
       "00:00:00 \u001B[94md\u001B[39m #3 dice.calculate_dice_count / { max = 2000; p = 7776; n = 5 }\n",
       "00:00:00 \u001B[94md\u001B[39m #4 dice.create_sequential_roller / roll / { current_index = 0; acc = 1; len = -1; last_item = None }\n",
       "00:00:00 \u001B[94md\u001B[39m #5 dice.create_sequential_roller / roll / { current_index = 1; acc = 1; len = -1; last_item = Some(2) }\n",
       "00:00:00 \u001B[94md\u001B[39m #6 dice.create_sequential_roller / roll / { current_index = 2; acc = 1; len = -1; last_item = Some(5) }\n",
       "00:00:00 \u001B[94md\u001B[39m #7 dice.create_sequential_roller / roll / { current_index = 3; acc = 1; len = -1; last_item = Some(5) }\n",
       "00:00:00 \u001B[94md\u001B[39m #8 dice.create_sequential_roller / roll / { current_index = 4; acc = 1; len = -1; last_item = Some(6) }\n",
       "00:00:00 \u001B[94md\u001B[39m #9 dice.accumulate_dice_rolls / { power = 4; acc = 0; roll = 2; value = 1296 }\n",
       "00:00:00 \u001B[94md\u001B[39m #10 dice.accumulate_dice_rolls / { power = 3; acc = 1296; roll = 6; value = 1080 }\n",
       "00:00:00 \u001B[94md\u001B[39m #11 dice.accumulate_dice_rolls / { power = 2; acc = 2376; roll = 5; value = 144 }\n",
       "00:00:00 \u001B[94md\u001B[39m #12 dice.accumulate_dice_rolls / { power = 1; acc = 2520; roll = 5; value = 24 }\n",
       "00:00:00 \u001B[94md\u001B[39m #13 dice.accumulate_dice_rolls / { power = 0; acc = 2544; roll = 2; value = 1 }\n",
       "00:00:00 \u001B[94md\u001B[39m #14 dice.accumulate_dice_rolls / { power = -1; acc = 2545; result = 2546 }\n",
       "00:00:00 \u001B[94md\u001B[39m #15 dice.create_sequential_roller / roll / { current_index = 5; acc = 1; len = -1; last_item = Some(2) }\n",
       "00:00:00 \u001B[94md\u001B[39m #16 dice.create_sequential_roller / roll / { current_index = 6; acc = 1; len = -1; last_item = Some(4) }\n",
       "00:00:00 \u001B[94md\u001B[39m #17 dice.create_sequential_roller / roll / { current_index = 7; acc = 1; len = -1; last_item = Some(6) }\n",
       "00:00:00 \u001B[94md\u001B[39m #18 dice.create_sequential_roller / roll / { current_index = 8; acc = 1; len = -1; last_item = Some(2) }\n",
       "00:00:00 \u001B[94md\u001B[39m #19 dice.create_sequential_roller / roll / { current_index = 9; acc = 1; len = -1; last_item = Some(5) }\n",
       "00:00:00 \u001B[94md\u001B[39m #20 dice.accumulate_dice_rolls / { power = 4; acc = 0; roll = 2; value = 1296 }\n",
       "00:00:00 \u001B[94md\u001B[39m #21 dice.accumulate_dice_rolls / { power = 3; acc = 1296; roll = 4; value = 648 }\n",
       "00:00:00 \u001B[94md\u001B[39m #22 dice.accumulate_dice_rolls / { power = 2; acc = 1944; roll = 6; value = 180 }\n",
       "00:00:00 \u001B[94md\u001B[39m #23 dice.accumulate_dice_rolls / { power = 1; acc = 2124; roll = 2; value = 6 }\n",
       "00:00:00 \u001B[94md\u001B[39m #24 dice.accumulate_dice_rolls / { power = 0; acc = 2130; roll = 5; value = 4 }\n",
       "00:00:00 \u001B[94md\u001B[39m #25 dice.accumulate_dice_rolls / { power = -1; acc = 2134; result = 2135 }\n",
       "00:00:00 \u001B[94md\u001B[39m #26 dice.create_sequential_roller / roll / { current_index = 10; acc = 1; len = -1; last_item = Some(2) }\n",
       "00:00:00 \u001B[94md\u001B[39m #27 dice.create_sequential_roller / roll / { current_index = 11; acc = 1; len = -1; last_item = Some(1) }\n",
       "00:00:00 \u001B[94md\u001B[39m #28 dice.create_sequential_roller / roll / { current_index = 12; acc = 1; len = -1; last_item = Some(6) }\n",
       "00:00:00 \u001B[94md\u001B[39m #29 dice.create_sequential_roller / roll / { current_index = 13; acc = 1; len = -1; last_item = Some(5) }\n",
       "00:00:00 \u001B[94md\u001B[39m #30 dice.create_sequential_roller / roll / { current_index = 14; acc = 1; len = -1; last_item = Some(6) }\n",
       "00:00:00 \u001B[94md\u001B[39m #31 dice.accumulate_dice_rolls / { power = 4; acc = 0; roll = 2; value = 1296 }\n",
       "00:00:00 \u001B[94md\u001B[39m #32 dice.accumulate_dice_rolls / { power = 3; acc = 1296; roll = 1 }\n",
       "00:00:00 \u001B[94md\u001B[39m #33 dice.accumulate_dice_rolls / { power = 2; acc = 1296; roll = 6; value = 180 }\n",
       "00:00:00 \u001B[94md\u001B[39m #34 dice.accumulate_dice_rolls / { power = 1; acc = 1476; roll = 5; value = 24 }\n",
       "00:00:00 \u001B[94md\u001B[39m #35 dice.accumulate_dice_rolls / { power = 0; acc = 1500; roll = 6; value = 5 }\n",
       "00:00:00 \u001B[94md\u001B[39m #36 dice.accumulate_dice_rolls / { power = -1; acc = 1505; result = 1506 }\n",
       " \n",
       "00:00:09 \u001B[92mi\u001B[39m #2 near_workspaces.print_usd / { retry = 1; total_gas_burnt_usd = +0.042066; total_gas_burnt = 62973242537372 }\n",
       "00:00:09 \u001B[92mi\u001B[39m #3 near_workspaces.print_usd / outcome / { is_success = true; gas_burnt_usd = +0.000206; tokens_burnt_usd = +0.000206; gas_burnt = 308081859340; tokens_burnt = 30808185934000000000 }\n",
       "00:00:09 \u001B[92mi\u001B[39m #4 near_workspaces.print_usd / outcome / { is_success = true; gas_burnt_usd = +0.041711; tokens_burnt_usd = +0.041711; gas_burnt = 62441978115532; tokens_burnt = 6244197811553200000000 }\n",
       "00:00:09 \u001B[92mi\u001B[39m #5 near_workspaces.print_usd / outcome / { is_success = true; gas_burnt_usd = +0.000149; tokens_burnt_usd = +0.000000; gas_burnt = 223182562500; tokens_burnt = 0 }\n"
      ]
     },
     "metadata": {},
     "output_type": "display_data"
    }
   ],
   "source": [
    "//// test\n",
    "///! rust -cd near-token\n",
    "\n",
    "2000\n",
    "|> generate_random_number\n",
    "    (\"\" |> sm'.byte_slice |> near.new_vector |> rust.to_ref_mut)\n",
    "    (\"\" |> sm'.to_std_string)\n",
    "    (\"\" |> sm'.to_std_string)\n",
    "|> _assert_gt 0"
   ]
  },
  {
   "cell_type": "markdown",
   "metadata": {},
   "source": [
    "### roll_within_bounds"
   ]
  },
  {
   "cell_type": "code",
   "execution_count": null,
   "metadata": {
    "dotnet_interactive": {
     "language": "spiral"
    },
    "polyglot_notebook": {
     "kernelName": "spiral"
    }
   },
   "outputs": [],
   "source": [
    "inl roll_within_bounds (max : u64) (rolls : am'.vec u8) : optionm'.option' u64 =\n",
    "    inl result =\n",
    "        rolls\n",
    "        |> am'.from_vec_base\n",
    "        |> am'.to_list_base'\n",
    "        |> listm'.unbox\n",
    "        |> lib.dice.roll_within_bounds max\n",
    "        |> optionm'.box\n",
    "    trace Debug\n",
    "        fun () => \"dice_contract.roll_within_bounds\"\n",
    "        fun () => { max rolls = rolls |> sm'.format_debug; result = result |> sm'.format_debug }\n",
    "    trace Debug (fun () => \"\") (join id)\n",
    "    result"
   ]
  },
  {
   "cell_type": "code",
   "execution_count": null,
   "metadata": {
    "dotnet_interactive": {
     "language": "spiral"
    },
    "polyglot_notebook": {
     "kernelName": "spiral"
    }
   },
   "outputs": [
    {
     "data": {
      "text/plain": [
       "00:00:00 \u001B[94md\u001B[39m #1 dice.accumulate_dice_rolls / { power = 4; acc = 0; roll = 1 }\n",
       "00:00:00 \u001B[94md\u001B[39m #2 dice.accumulate_dice_rolls / { power = 3; acc = 0; roll = 5; value = 864 }\n",
       "00:00:00 \u001B[94md\u001B[39m #3 dice.accumulate_dice_rolls / { power = 2; acc = 864; roll = 4; value = 108 }\n",
       "00:00:00 \u001B[94md\u001B[39m #4 dice.accumulate_dice_rolls / { power = 1; acc = 972; roll = 4; value = 18 }\n",
       "00:00:00 \u001B[94md\u001B[39m #5 dice.accumulate_dice_rolls / { power = 0; acc = 990; roll = 5; value = 4 }\n",
       "00:00:00 \u001B[94md\u001B[39m #6 dice.accumulate_dice_rolls / { power = -1; acc = 994; result = 995 }\n",
       "00:00:00 \u001B[94md\u001B[39m #7 dice_contract.roll_within_bounds / { max = 2000; rolls = [1, 5, 4, 4, 5]; result = Some(995) }\n",
       " \n",
       "00:00:09 \u001B[92mi\u001B[39m #2 near_workspaces.print_usd / { retry = 1; total_gas_burnt_usd = +0.002574; total_gas_burnt = 3853827898004 }\n",
       "00:00:09 \u001B[92mi\u001B[39m #3 near_workspaces.print_usd / outcome / { is_success = true; gas_burnt_usd = +0.000206; tokens_burnt_usd = +0.000206; gas_burnt = 308081859340; tokens_burnt = 30808185934000000000 }\n",
       "00:00:09 \u001B[92mi\u001B[39m #4 near_workspaces.print_usd / outcome / { is_success = true; gas_burnt_usd = +0.002369; tokens_burnt_usd = +0.002369; gas_burnt = 3545746038664; tokens_burnt = 354574603866400000000 }\n",
       "00:00:09 \u001B[33mw\u001B[39m #5 spiral_wasm.run / Error error / { retry = 1; error = \"{ receipt_outcomes_len = 1; retry = 1; receipt_failures = [] }\" }\n",
       "\n",
       "\n",
       "00:00:00 \u001B[94md\u001B[39m #1 dice.accumulate_dice_rolls / { power = 4; acc = 0; roll = 1 }\n",
       "00:00:00 \u001B[94md\u001B[39m #2 dice.accumulate_dice_rolls / { power = 3; acc = 0; roll = 5; value = 864 }\n",
       "00:00:00 \u001B[94md\u001B[39m #3 dice.accumulate_dice_rolls / { power = 2; acc = 864; roll = 4; value = 108 }\n",
       "00:00:00 \u001B[94md\u001B[39m #4 dice.accumulate_dice_rolls / { power = 1; acc = 972; roll = 4; value = 18 }\n",
       "00:00:00 \u001B[94md\u001B[39m #5 dice.accumulate_dice_rolls / { power = 0; acc = 990; roll = 5; value = 4 }\n",
       "00:00:00 \u001B[94md\u001B[39m #6 dice.accumulate_dice_rolls / { power = -1; acc = 994; result = 995 }\n",
       "00:00:00 \u001B[94md\u001B[39m #7 dice_contract.roll_within_bounds / { max = 2000; rolls = [1, 5, 4, 4, 5]; result = Some(995) }\n",
       " \n",
       "00:00:17 \u001B[92mi\u001B[39m #8 near_workspaces.print_usd / { retry = 2; total_gas_burnt_usd = +0.002723; total_gas_burnt = 4077010460504 }\n",
       "00:00:17 \u001B[92mi\u001B[39m #9 near_workspaces.print_usd / outcome / { is_success = true; gas_burnt_usd = +0.000206; tokens_burnt_usd = +0.000206; gas_burnt = 308081859340; tokens_burnt = 30808185934000000000 }\n",
       "00:00:17 \u001B[92mi\u001B[39m #10 near_workspaces.print_usd / outcome / { is_success = true; gas_burnt_usd = +0.002369; tokens_burnt_usd = +0.002369; gas_burnt = 3545746038664; tokens_burnt = 354574603866400000000 }\n",
       "00:00:17 \u001B[92mi\u001B[39m #11 near_workspaces.print_usd / outcome / { is_success = true; gas_burnt_usd = +0.000149; tokens_burnt_usd = +0.000000; gas_burnt = 223182562500; tokens_burnt = 0 }\n"
      ]
     },
     "metadata": {},
     "output_type": "display_data"
    }
   ],
   "source": [
    "//// test\n",
    "///! rust -c\n",
    "\n",
    "inl rolls = ;[ 1; 5; 4; 4; 5 ] |> am'.to_vec\n",
    "\n",
    "rolls\n",
    "|> roll_within_bounds 2000\n",
    "|> _assert_eq' (optionm'.some' 995)"
   ]
  },
  {
   "cell_type": "code",
   "execution_count": null,
   "metadata": {
    "dotnet_interactive": {
     "language": "spiral"
    },
    "polyglot_notebook": {
     "kernelName": "spiral"
    }
   },
   "outputs": [
    {
     "data": {
      "text/plain": [
       "00:00:00 \u001B[94md\u001B[39m #1 dice.accumulate_dice_rolls / { power = 4; acc = 0; roll = 2; value = 1296 }\n",
       "00:00:00 \u001B[94md\u001B[39m #2 dice.accumulate_dice_rolls / { power = 3; acc = 1296; roll = 2; value = 216 }\n",
       "00:00:00 \u001B[94md\u001B[39m #3 dice.accumulate_dice_rolls / { power = 2; acc = 1512; roll = 6; value = 180 }\n",
       "00:00:00 \u001B[94md\u001B[39m #4 dice.accumulate_dice_rolls / { power = 1; acc = 1692; roll = 4; value = 18 }\n",
       "00:00:00 \u001B[94md\u001B[39m #5 dice.accumulate_dice_rolls / { power = 0; acc = 1710; roll = 5; value = 4 }\n",
       "00:00:00 \u001B[94md\u001B[39m #6 dice.accumulate_dice_rolls / { power = -1; acc = 1714; result = 1715 }\n",
       "00:00:00 \u001B[94md\u001B[39m #7 dice_contract.roll_within_bounds / { max = 2000; rolls = [2, 2, 6, 4, 5]; result = Some(1715) }\n",
       " \n",
       "00:00:09 \u001B[92mi\u001B[39m #2 near_workspaces.print_usd / { retry = 1; total_gas_burnt_usd = +0.002641; total_gas_burnt = 3953244234365 }\n",
       "00:00:09 \u001B[92mi\u001B[39m #3 near_workspaces.print_usd / outcome / { is_success = true; gas_burnt_usd = +0.000206; tokens_burnt_usd = +0.000206; gas_burnt = 308081859340; tokens_burnt = 30808185934000000000 }\n",
       "00:00:09 \u001B[92mi\u001B[39m #4 near_workspaces.print_usd / outcome / { is_success = true; gas_burnt_usd = +0.002435; tokens_burnt_usd = +0.002435; gas_burnt = 3645162375025; tokens_burnt = 364516237502500000000 }\n",
       "00:00:09 \u001B[33mw\u001B[39m #5 spiral_wasm.run / Error error / { retry = 1; error = \"{ receipt_outcomes_len = 1; retry = 1; receipt_failures = [] }\" }\n",
       "\n",
       "\n",
       "00:00:00 \u001B[94md\u001B[39m #1 dice.accumulate_dice_rolls / { power = 4; acc = 0; roll = 2; value = 1296 }\n",
       "00:00:00 \u001B[94md\u001B[39m #2 dice.accumulate_dice_rolls / { power = 3; acc = 1296; roll = 2; value = 216 }\n",
       "00:00:00 \u001B[94md\u001B[39m #3 dice.accumulate_dice_rolls / { power = 2; acc = 1512; roll = 6; value = 180 }\n",
       "00:00:00 \u001B[94md\u001B[39m #4 dice.accumulate_dice_rolls / { power = 1; acc = 1692; roll = 4; value = 18 }\n",
       "00:00:00 \u001B[94md\u001B[39m #5 dice.accumulate_dice_rolls / { power = 0; acc = 1710; roll = 5; value = 4 }\n",
       "00:00:00 \u001B[94md\u001B[39m #6 dice.accumulate_dice_rolls / { power = -1; acc = 1714; result = 1715 }\n",
       "00:00:00 \u001B[94md\u001B[39m #7 dice_contract.roll_within_bounds / { max = 2000; rolls = [2, 2, 6, 4, 5]; result = Some(1715) }\n",
       " \n",
       "00:00:16 \u001B[92mi\u001B[39m #8 near_workspaces.print_usd / { retry = 2; total_gas_burnt_usd = +0.002641; total_gas_burnt = 3953244234365 }\n",
       "00:00:16 \u001B[92mi\u001B[39m #9 near_workspaces.print_usd / outcome / { is_success = true; gas_burnt_usd = +0.000206; tokens_burnt_usd = +0.000206; gas_burnt = 308081859340; tokens_burnt = 30808185934000000000 }\n",
       "00:00:16 \u001B[92mi\u001B[39m #10 near_workspaces.print_usd / outcome / { is_success = true; gas_burnt_usd = +0.002435; tokens_burnt_usd = +0.002435; gas_burnt = 3645162375025; tokens_burnt = 364516237502500000000 }\n",
       "00:00:16 \u001B[33mw\u001B[39m #11 spiral_wasm.run / Error error / { retry = 2; error = \"{ receipt_outcomes_len = 1; retry = 2; receipt_failures = [] }\" }\n",
       "\n",
       "\n",
       "00:00:00 \u001B[94md\u001B[39m #1 dice.accumulate_dice_rolls / { power = 4; acc = 0; roll = 2; value = 1296 }\n",
       "00:00:00 \u001B[94md\u001B[39m #2 dice.accumulate_dice_rolls / { power = 3; acc = 1296; roll = 2; value = 216 }\n",
       "00:00:00 \u001B[94md\u001B[39m #3 dice.accumulate_dice_rolls / { power = 2; acc = 1512; roll = 6; value = 180 }\n",
       "00:00:00 \u001B[94md\u001B[39m #4 dice.accumulate_dice_rolls / { power = 1; acc = 1692; roll = 4; value = 18 }\n",
       "00:00:00 \u001B[94md\u001B[39m #5 dice.accumulate_dice_rolls / { power = 0; acc = 1710; roll = 5; value = 4 }\n",
       "00:00:00 \u001B[94md\u001B[39m #6 dice.accumulate_dice_rolls / { power = -1; acc = 1714; result = 1715 }\n",
       "00:00:00 \u001B[94md\u001B[39m #7 dice_contract.roll_within_bounds / { max = 2000; rolls = [2, 2, 6, 4, 5]; result = Some(1715) }\n",
       " \n",
       "00:00:23 \u001B[92mi\u001B[39m #14 near_workspaces.print_usd / { retry = 3; total_gas_burnt_usd = +0.002641; total_gas_burnt = 3953244234365 }\n",
       "00:00:23 \u001B[92mi\u001B[39m #15 near_workspaces.print_usd / outcome / { is_success = true; gas_burnt_usd = +0.000206; tokens_burnt_usd = +0.000206; gas_burnt = 308081859340; tokens_burnt = 30808185934000000000 }\n",
       "00:00:23 \u001B[92mi\u001B[39m #16 near_workspaces.print_usd / outcome / { is_success = true; gas_burnt_usd = +0.002435; tokens_burnt_usd = +0.002435; gas_burnt = 3645162375025; tokens_burnt = 364516237502500000000 }\n",
       "00:00:23 \u001B[33mw\u001B[39m #17 spiral_wasm.run / Error error / { retry = 3; error = \"{ receipt_outcomes_len = 1; retry = 3; receipt_failures = [] }\" }\n",
       "\n",
       "\n",
       "00:00:00 \u001B[94md\u001B[39m #1 dice.accumulate_dice_rolls / { power = 4; acc = 0; roll = 2; value = 1296 }\n",
       "00:00:00 \u001B[94md\u001B[39m #2 dice.accumulate_dice_rolls / { power = 3; acc = 1296; roll = 2; value = 216 }\n",
       "00:00:00 \u001B[94md\u001B[39m #3 dice.accumulate_dice_rolls / { power = 2; acc = 1512; roll = 6; value = 180 }\n",
       "00:00:00 \u001B[94md\u001B[39m #4 dice.accumulate_dice_rolls / { power = 1; acc = 1692; roll = 4; value = 18 }\n",
       "00:00:00 \u001B[94md\u001B[39m #5 dice.accumulate_dice_rolls / { power = 0; acc = 1710; roll = 5; value = 4 }\n",
       "00:00:00 \u001B[94md\u001B[39m #6 dice.accumulate_dice_rolls / { power = -1; acc = 1714; result = 1715 }\n",
       "00:00:00 \u001B[94md\u001B[39m #7 dice_contract.roll_within_bounds / { max = 2000; rolls = [2, 2, 6, 4, 5]; result = Some(1715) }\n",
       " \n",
       "00:00:30 \u001B[92mi\u001B[39m #20 near_workspaces.print_usd / { retry = 4; total_gas_burnt_usd = +0.002641; total_gas_burnt = 3953244234365 }\n",
       "00:00:30 \u001B[92mi\u001B[39m #21 near_workspaces.print_usd / outcome / { is_success = true; gas_burnt_usd = +0.000206; tokens_burnt_usd = +0.000206; gas_burnt = 308081859340; tokens_burnt = 30808185934000000000 }\n",
       "00:00:30 \u001B[92mi\u001B[39m #22 near_workspaces.print_usd / outcome / { is_success = true; gas_burnt_usd = +0.002435; tokens_burnt_usd = +0.002435; gas_burnt = 3645162375025; tokens_burnt = 364516237502500000000 }\n",
       "00:00:30 \u001B[33mw\u001B[39m #23 spiral_wasm.run / Error error / { retry = 4; error = \"{ receipt_outcomes_len = 1; retry = 4; receipt_failures = [] }\" }\n",
       "\n",
       "\n",
       "00:00:00 \u001B[94md\u001B[39m #1 dice.accumulate_dice_rolls / { power = 4; acc = 0; roll = 2; value = 1296 }\n",
       "00:00:00 \u001B[94md\u001B[39m #2 dice.accumulate_dice_rolls / { power = 3; acc = 1296; roll = 2; value = 216 }\n",
       "00:00:00 \u001B[94md\u001B[39m #3 dice.accumulate_dice_rolls / { power = 2; acc = 1512; roll = 6; value = 180 }\n",
       "00:00:00 \u001B[94md\u001B[39m #4 dice.accumulate_dice_rolls / { power = 1; acc = 1692; roll = 4; value = 18 }\n",
       "00:00:00 \u001B[94md\u001B[39m #5 dice.accumulate_dice_rolls / { power = 0; acc = 1710; roll = 5; value = 4 }\n",
       "00:00:00 \u001B[94md\u001B[39m #6 dice.accumulate_dice_rolls / { power = -1; acc = 1714; result = 1715 }\n",
       "00:00:00 \u001B[94md\u001B[39m #7 dice_contract.roll_within_bounds / { max = 2000; rolls = [2, 2, 6, 4, 5]; result = Some(1715) }\n",
       " \n",
       "00:00:37 \u001B[92mi\u001B[39m #26 near_workspaces.print_usd / { retry = 5; total_gas_burnt_usd = +0.002790; total_gas_burnt = 4176426796865 }\n",
       "00:00:37 \u001B[92mi\u001B[39m #27 near_workspaces.print_usd / outcome / { is_success = true; gas_burnt_usd = +0.000206; tokens_burnt_usd = +0.000206; gas_burnt = 308081859340; tokens_burnt = 30808185934000000000 }\n",
       "00:00:37 \u001B[92mi\u001B[39m #28 near_workspaces.print_usd / outcome / { is_success = true; gas_burnt_usd = +0.002435; tokens_burnt_usd = +0.002435; gas_burnt = 3645162375025; tokens_burnt = 364516237502500000000 }\n",
       "00:00:37 \u001B[92mi\u001B[39m #29 near_workspaces.print_usd / outcome / { is_success = true; gas_burnt_usd = +0.000149; tokens_burnt_usd = +0.000000; gas_burnt = 223182562500; tokens_burnt = 0 }\n"
      ]
     },
     "metadata": {},
     "output_type": "display_data"
    }
   ],
   "source": [
    "//// test\n",
    "///! rust -c\n",
    "\n",
    "inl rolls = ;[ 2; 2; 6; 4; 5 ] |> am'.to_vec\n",
    "\n",
    "rolls\n",
    "|> roll_within_bounds 2000\n",
    "|> _assert_eq' (optionm'.some' 1715)"
   ]
  },
  {
   "cell_type": "markdown",
   "metadata": {},
   "source": [
    "### main"
   ]
  },
  {
   "cell_type": "code",
   "execution_count": null,
   "metadata": {
    "dotnet_interactive": {
     "language": "spiral"
    },
    "polyglot_notebook": {
     "kernelName": "spiral"
    }
   },
   "outputs": [],
   "source": [
    "///! _\n",
    "\n",
    "inl main () =\n",
    "    !\\($'\"} //\"') : ()\n",
    "\n",
    "    !\\($'\"#[derive( //\"') : ()\n",
    "    !\\($'\"  near_sdk::PanicOnDefault, //\"') : ()\n",
    "    !\\($'\"  borsh::BorshDeserialize, //\"') : ()\n",
    "    !\\($'\"  borsh::BorshSerialize, //\"') : ()\n",
    "    !\\($'\")] //\"') : ()\n",
    "\n",
    "    !\\($'\"pub struct OldState { //\"') : ()\n",
    "    !\\($'\"    version: u32, //\"') : ()\n",
    "    !\\($'\"    seeds: near_sdk::store::vec::Vector<u8>, //\"') : ()\n",
    "    !\\($'\"} //\"') : ()\n",
    "\n",
    "    !\\($'\"#[near_sdk::near_bindgen] //\"') : ()\n",
    "\n",
    "    !\\($'\"#[derive( //\"') : ()\n",
    "    !\\($'\"  near_sdk::PanicOnDefault, //\"') : ()\n",
    "    !\\($'\"  borsh::BorshDeserialize, //\"') : ()\n",
    "    !\\($'\"  borsh::BorshSerialize, //\"') : ()\n",
    "    !\\($'\")] //\"') : ()\n",
    "\n",
    "    !\\($'\"pub struct State ( //\"') : ()\n",
    "\n",
    "    !\\($'\"/*\"') : ()\n",
    "    (null () : rust.type_emit state) |> ignore\n",
    "    !\\($'\"*/ )\"') : ()\n",
    "\n",
    "    !\\($'\"impl From<OldState> for State { //\"') : ()\n",
    "    !\\($'\"    fn from(old_state: OldState) -> Self { //\"') : ()\n",
    "    !\\($'\"        Self((old_state.version + 1, old_state.seeds)) //\"') : ()\n",
    "    !\\($'\"    } //\"') : ()\n",
    "    !\\($'\"} //\"') : ()\n",
    "\n",
    "    inl new_ () =\n",
    "        !\\($'\"#[init] //\"') : ()\n",
    "        !\\($'\"pub fn new() -> Self { // 1\"') : ()\n",
    "\n",
    "        (!\\($'\"true; /*\"') : bool) |> ignore\n",
    "\n",
    "        (null () : rust.type_emit ()) |> ignore\n",
    "\n",
    "        (!\\($'\"true; */\"') : bool) |> ignore\n",
    "\n",
    "        inl result = new ()\n",
    "        $'let _result = !result in _result |> (fun x -> Fable.Core.RustInterop.emitRustExpr x $\"Self($0) // x\") // 2' : ()\n",
    "\n",
    "        !\\($'\"} // 2.\"') : ()\n",
    "\n",
    "        !\\($'\"} // 1.\"') : ()\n",
    "\n",
    "        2\n",
    "\n",
    "    inl contribute_seed () =\n",
    "        !\\($'\"pub fn contribute_seed(&mut self, seed: Vec<u8>) { //\"') : ()\n",
    "        inl seeds : rust.ref (rust.mut' (near.vector u8)) = !\\($'$\"&mut self.0.1\"')\n",
    "        inl seed : am'.vec u8 = !\\($'$\"seed\"')\n",
    "\n",
    "        seed |> contribute_seed seeds\n",
    "\n",
    "        !\\($'\"} //\"') : ()\n",
    "\n",
    "        !\\($'\"} //\"') : ()\n",
    "\n",
    "        !\\($'\"} //\"') : ()\n",
    "\n",
    "        3\n",
    "\n",
    "    inl contribute_seed_borsh () =\n",
    "        !\\($'\"pub fn contribute_seed_borsh(&mut self, #[serializer(borsh)] seed: Vec<u8>) { //\"') : ()\n",
    "        !\\($'\"    self.contribute_seed(seed) //\"') : ()\n",
    "        !\\($'\"} //\"') : ()\n",
    "\n",
    "        1\n",
    "\n",
    "    inl generate_random_number () =\n",
    "        !\\($'\"pub fn generate_random_number(&mut self, key: String, proof: String, max: u64) -> u64 { //\"') : ()\n",
    "\n",
    "        inl key : sm'.std_string = !\\($'$\"key\"')\n",
    "        inl proof : sm'.std_string = !\\($'$\"proof\"')\n",
    "        inl max : u64 = !\\($'$\"max\"')\n",
    "\n",
    "        inl seeds : rust.ref (rust.mut' (near.vector u8)) = !\\($'$\"&mut self.0.1\"')\n",
    "\n",
    "        inl result = generate_random_number seeds key proof max\n",
    "\n",
    "        !\\($'\"!result //\"') : ()\n",
    "\n",
    "        !\\($'\"} //\"') : ()\n",
    "\n",
    "        !\\($'\"} //\"') : ()\n",
    "\n",
    "        !\\($'\"} //\"') : ()\n",
    "\n",
    "        3\n",
    "\n",
    "    inl roll_within_bounds () =\n",
    "        !\\($'\"pub fn roll_within_bounds(&self, max: u64, rolls: Vec<u8>) -> Option<u64> { //\"') : ()\n",
    "        inl max : u64 = !\\($'$\"max\"')\n",
    "        inl rolls : am'.vec u8 = !\\($'$\"rolls\"')\n",
    "        inl result = roll_within_bounds max rolls\n",
    "\n",
    "        !\\\\(result, $'\"$0 //\"') : ()\n",
    "\n",
    "        !\\($'\"} //\"') : ()\n",
    "\n",
    "        !\\($'\"} //\"') : ()\n",
    "\n",
    "        2\n",
    "\n",
    "    inl roll_within_bounds_borsh () =\n",
    "        !\\($'\"#[result_serializer(borsh)] //\"') : ()\n",
    "        !\\($'\"pub fn roll_within_bounds_borsh( //\"') : ()\n",
    "        !\\($'\"    &self, //\"') : ()\n",
    "        !\\($'\"    #[serializer(borsh)] max: u64, //\"') : ()\n",
    "        !\\($'\"    #[serializer(borsh)] rolls: Vec<u8>, //\"') : ()\n",
    "        !\\($'\") -> Option<u64> { //\"') : ()\n",
    "        !\\($'\"    self.roll_within_bounds(max, rolls) //\"') : ()\n",
    "        !\\($'\"} //\"') : ()\n",
    "\n",
    "        1\n",
    "\n",
    "\n",
    "    inl fns =\n",
    "        [\n",
    "            new_\n",
    "            contribute_seed\n",
    "            contribute_seed_borsh\n",
    "            generate_random_number\n",
    "            roll_within_bounds\n",
    "            roll_within_bounds_borsh\n",
    "        ]\n",
    "\n",
    "    inl rec loop acc fns i =\n",
    "        match fns with\n",
    "        | [] => acc\n",
    "        | x :: xs =>\n",
    "            !\\($'\"#[near_sdk::near_bindgen] //\"') : ()\n",
    "            !\\($'\"impl State { //\"') : ()\n",
    "            inl n = x ()\n",
    "            !\\($'\"} /* c\"') : ()\n",
    "            inl rec loop' i' =\n",
    "                if i' <> 1 // <= n\n",
    "                then (!\\($'\"true; */ // ???? / i: !i / i\\': !i' / acc: !acc / n: !n\"') : bool) |> ignore\n",
    "                else\n",
    "                    (!\\($'\"true; // ??? / i: !i / i\\': !i' / acc: !acc / n: !n\"') : bool) |> ignore\n",
    "                    loop' (i' + 1)\n",
    "            loop' 1u8\n",
    "            loop (acc + n) xs (i + 1)\n",
    "    inl n = loop 0u8 fns 1u8\n",
    "\n",
    "\n",
    "    // !\\($'\"/* a\"') : ()\n",
    "\n",
    "    // !\\($'\"} // b\"') : ()\n",
    "\n",
    "    !\\($'\"fn _main() //\"') : ()\n",
    "    !\\($'\" //\"') : ()\n",
    "\n",
    "    inl rec loop' i' =\n",
    "        if i' <= n\n",
    "        then\n",
    "            (!\\($'\"true; { (); // ?? / i\\': !i' / n: !n\"') : bool) |> ignore\n",
    "            loop' (i' + 1)\n",
    "        else\n",
    "            (!\\($'\"true; { { (); // ? / i\\': !i' / n: !n\"') : bool) |> ignore\n",
    "            // (!\\($'\"true; */ // ?? / i\\': !i' / n: !n\"') : bool) |> ignore\n",
    "    loop' 1u8\n",
    "\n",
    "inl main () =\n",
    "    $'!main |> ignore' : ()"
   ]
  }
 ],
 "metadata": {},
 "nbformat": 4,
 "nbformat_minor": 5
}