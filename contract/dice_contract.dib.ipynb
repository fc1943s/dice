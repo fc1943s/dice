{
 "cells": [
  {
   "cell_type": "markdown",
   "metadata": {},
   "source": [
    "# dice_contract"
   ]
  },
  {
   "cell_type": "code",
   "execution_count": null,
   "metadata": {
    "dotnet_interactive": {
     "language": "spiral"
    },
    "polyglot_notebook": {
     "kernelName": "spiral"
    }
   },
   "outputs": [],
   "source": [
    "//// package=../dice\n",
    "\n",
    "open rust\n",
    "open rust.rust_operators"
   ]
  },
  {
   "cell_type": "code",
   "execution_count": null,
   "metadata": {
    "dotnet_interactive": {
     "language": "spiral"
    },
    "polyglot_notebook": {
     "kernelName": "spiral"
    }
   },
   "outputs": [],
   "source": [
    "//// test\n",
    "\n",
    "open testing"
   ]
  },
  {
   "cell_type": "markdown",
   "metadata": {},
   "source": [
    "## dice_contract"
   ]
  },
  {
   "cell_type": "markdown",
   "metadata": {},
   "source": [
    "### state"
   ]
  },
  {
   "cell_type": "code",
   "execution_count": null,
   "metadata": {
    "dotnet_interactive": {
     "language": "spiral"
    },
    "polyglot_notebook": {
     "kernelName": "spiral"
    }
   },
   "outputs": [],
   "source": [
    "type state =\n",
    "    {\n",
    "        version : u32\n",
    "        seeds : near.vector u8\n",
    "    }"
   ]
  },
  {
   "cell_type": "code",
   "execution_count": null,
   "metadata": {
    "dotnet_interactive": {
     "language": "spiral"
    },
    "polyglot_notebook": {
     "kernelName": "spiral"
    }
   },
   "outputs": [
    {
     "data": {
      "text/plain": [
       " \n",
       "00:00:04 \u001B[92mi\u001B[39m #2 near_workspaces.print_usd / { retry = 1; total_gas_burnt_usd = +0.000808; total_gas_burnt = 1209371440851 }\n",
       "00:00:04 \u001B[92mi\u001B[39m #3 near_workspaces.print_usd / outcome / { is_success = true; gas_burnt_usd = +0.000206; tokens_burnt_usd = +0.000206; gas_burnt = 308081859340; tokens_burnt = 30808185934000000000 }\n",
       "00:00:04 \u001B[92mi\u001B[39m #4 near_workspaces.print_usd / outcome / { is_success = true; gas_burnt_usd = +0.000602; tokens_burnt_usd = +0.000602; gas_burnt = 901289581511; tokens_burnt = 90128958151100000000 }\n",
       "00:00:04 \u001B[33mw\u001B[39m #5 spiral_wasm.run / Error error / { retry = 1; error = \"{ receipt_outcomes_len = 1; retry = 1; receipt_failures = [] }\" }\n",
       "\n",
       "\n",
       " \n",
       "00:00:11 \u001B[92mi\u001B[39m #8 near_workspaces.print_usd / { retry = 2; total_gas_burnt_usd = +0.000957; total_gas_burnt = 1432554003351 }\n",
       "00:00:11 \u001B[92mi\u001B[39m #9 near_workspaces.print_usd / outcome / { is_success = true; gas_burnt_usd = +0.000206; tokens_burnt_usd = +0.000206; gas_burnt = 308081859340; tokens_burnt = 30808185934000000000 }\n",
       "00:00:11 \u001B[92mi\u001B[39m #10 near_workspaces.print_usd / outcome / { is_success = true; gas_burnt_usd = +0.000602; tokens_burnt_usd = +0.000602; gas_burnt = 901289581511; tokens_burnt = 90128958151100000000 }\n",
       "00:00:11 \u001B[92mi\u001B[39m #11 near_workspaces.print_usd / outcome / { is_success = true; gas_burnt_usd = +0.000149; tokens_burnt_usd = +0.000000; gas_burnt = 223182562500; tokens_burnt = 0 }\n"
      ]
     },
     "metadata": {},
     "output_type": "display_data"
    }
   ],
   "source": [
    "//// test\n",
    "///! rust -c\n",
    "\n",
    "()"
   ]
  },
  {
   "cell_type": "code",
   "execution_count": null,
   "metadata": {
    "dotnet_interactive": {
     "language": "spiral"
    },
    "polyglot_notebook": {
     "kernelName": "spiral"
    }
   },
   "outputs": [
    {
     "data": {
      "text/plain": [
       " \n",
       "00:00:05 \u001B[92mi\u001B[39m #2 near_workspaces.print_usd / { retry = 1; total_gas_burnt_usd = +0.001033; total_gas_burnt = 1547032481387 }\n",
       "00:00:05 \u001B[92mi\u001B[39m #3 near_workspaces.print_usd / outcome / { is_success = true; gas_burnt_usd = +0.000206; tokens_burnt_usd = +0.000206; gas_burnt = 308081859340; tokens_burnt = 30808185934000000000 }\n",
       "00:00:05 \u001B[92mi\u001B[39m #4 near_workspaces.print_usd / outcome / { is_success = true; gas_burnt_usd = +0.000679; tokens_burnt_usd = +0.000679; gas_burnt = 1015768059547; tokens_burnt = 101576805954700000000 }\n",
       "00:00:05 \u001B[92mi\u001B[39m #5 near_workspaces.print_usd / outcome / { is_success = true; gas_burnt_usd = +0.000149; tokens_burnt_usd = +0.000000; gas_burnt = 223182562500; tokens_burnt = 0 }\n"
      ]
     },
     "metadata": {},
     "output_type": "display_data"
    }
   ],
   "source": [
    "//// test\n",
    "///! rust -c\n",
    "\n",
    "trace Verbose (fun () => \"\") id"
   ]
  },
  {
   "cell_type": "markdown",
   "metadata": {},
   "source": [
    "### new"
   ]
  },
  {
   "cell_type": "code",
   "execution_count": null,
   "metadata": {
    "dotnet_interactive": {
     "language": "spiral"
    },
    "polyglot_notebook": {
     "kernelName": "spiral"
    }
   },
   "outputs": [],
   "source": [
    "inl new () : state =\n",
    "    {\n",
    "        version = 2\n",
    "        seeds = \"seeds\" |> sm'.byte_slice |> near.new_vector\n",
    "    }"
   ]
  },
  {
   "cell_type": "code",
   "execution_count": null,
   "metadata": {
    "dotnet_interactive": {
     "language": "spiral"
    },
    "polyglot_notebook": {
     "kernelName": "spiral"
    }
   },
   "outputs": [
    {
     "data": {
      "text/plain": [
       "00:00:00 \u001B[90mv\u001B[39m #1 dice_contract / { state = (2, Vector { len: 0, prefix: [115, 101, 101, 100, 115] }) }\n",
       " \n",
       "00:00:06 \u001B[92mi\u001B[39m #2 near_workspaces.print_usd / { retry = 1; total_gas_burnt_usd = +0.001220; total_gas_burnt = 1825868853775 }\n",
       "00:00:06 \u001B[92mi\u001B[39m #3 near_workspaces.print_usd / outcome / { is_success = true; gas_burnt_usd = +0.000206; tokens_burnt_usd = +0.000206; gas_burnt = 308081859340; tokens_burnt = 30808185934000000000 }\n",
       "00:00:06 \u001B[92mi\u001B[39m #4 near_workspaces.print_usd / outcome / { is_success = true; gas_burnt_usd = +0.000865; tokens_burnt_usd = +0.000865; gas_burnt = 1294604431935; tokens_burnt = 129460443193500000000 }\n",
       "00:00:06 \u001B[92mi\u001B[39m #5 near_workspaces.print_usd / outcome / { is_success = true; gas_burnt_usd = +0.000149; tokens_burnt_usd = +0.000000; gas_burnt = 223182562500; tokens_burnt = 0 }\n"
      ]
     },
     "metadata": {},
     "output_type": "display_data"
    }
   ],
   "source": [
    "//// test\n",
    "///! rust -c\n",
    "\n",
    "inl state = new ()\n",
    "trace Verbose (fun () => \"dice_contract\") fun () => { state = state |> sm'.format_debug }\n",
    "trace Verbose (fun () => \"\") id"
   ]
  },
  {
   "cell_type": "markdown",
   "metadata": {},
   "source": [
    "### max_seeds"
   ]
  },
  {
   "cell_type": "code",
   "execution_count": null,
   "metadata": {
    "dotnet_interactive": {
     "language": "spiral"
    },
    "polyglot_notebook": {
     "kernelName": "spiral"
    }
   },
   "outputs": [],
   "source": [
    "inl max_seeds () : unativeint =\n",
    "    100i32 |> convert"
   ]
  },
  {
   "cell_type": "markdown",
   "metadata": {},
   "source": [
    "### contribute_seed"
   ]
  },
  {
   "cell_type": "code",
   "execution_count": null,
   "metadata": {
    "dotnet_interactive": {
     "language": "spiral"
    },
    "polyglot_notebook": {
     "kernelName": "spiral"
    }
   },
   "outputs": [],
   "source": [
    "inl contribute_seed (seeds : rust.ref (rust.mut' (near.vector u8))) (seed : am'.vec u8) : () =\n",
    "    seeds |> near.vector_extend seed\n",
    "\n",
    "    inl seed_excess_len = (seeds |> rust.len |> fun x => x : u32 |> i32) - (max_seeds () |> i32)\n",
    "\n",
    "    if seed_excess_len > 0 then\n",
    "        inl seed_excess : am'.vec u8 =\n",
    "            !\\\\(seed_excess_len, $'\"!seeds.drain(0..$0 as u32).collect::<Vec<_>>()\"')\n",
    "        trace Debug\n",
    "            fun () => \"dice_contract.contribute_seed\"\n",
    "            fun () => { seed_excess_len seed_excess = seed_excess |> sm'.format_debug }\n",
    "    trace Debug (fun () => \"\") (join id)"
   ]
  },
  {
   "cell_type": "code",
   "execution_count": null,
   "metadata": {
    "dotnet_interactive": {
     "language": "spiral"
    },
    "polyglot_notebook": {
     "kernelName": "spiral"
    }
   },
   "outputs": [
    {
     "data": {
      "text/plain": [
       "00:00:00 \u001B[94md\u001B[39m #1 dice_contract.contribute_seed / { seed_excess_len = 20; seed_excess = [1, 2, 3, 4, 5, 6, 7, 8, 9, 10, 1, 2, 3, 4, 5, 6, 7, 8, 9, 20] }\n",
       " \n",
       "00:00:07 \u001B[92mi\u001B[39m #2 near_workspaces.print_usd / { retry = 1; total_gas_burnt_usd = +0.007627; total_gas_burnt = 11417355846504 }\n",
       "00:00:07 \u001B[92mi\u001B[39m #3 near_workspaces.print_usd / outcome / { is_success = true; gas_burnt_usd = +0.000206; tokens_burnt_usd = +0.000206; gas_burnt = 308081859340; tokens_burnt = 30808185934000000000 }\n",
       "00:00:07 \u001B[92mi\u001B[39m #4 near_workspaces.print_usd / outcome / { is_success = true; gas_burnt_usd = +0.007272; tokens_burnt_usd = +0.007272; gas_burnt = 10886091424664; tokens_burnt = 1088609142466400000000 }\n",
       "00:00:07 \u001B[92mi\u001B[39m #5 near_workspaces.print_usd / outcome / { is_success = true; gas_burnt_usd = +0.000149; tokens_burnt_usd = +0.000000; gas_burnt = 223182562500; tokens_burnt = 0 }\n"
      ]
     },
     "metadata": {},
     "output_type": "display_data"
    }
   ],
   "source": [
    "//// test\n",
    "///! rust -c\n",
    "\n",
    "inl replicate n =\n",
    "    let rec loop i acc =\n",
    "        if i > n\n",
    "        then acc\n",
    "        else\n",
    "            inl i' = i % 10\n",
    "            inl i' =\n",
    "                if i' = 0\n",
    "                then i % limit.max\n",
    "                else i'\n",
    "            loop (i + 1) (i' :: acc)\n",
    "    loop 1 []\n",
    "    |> listm.rev\n",
    "    |> listm'.box\n",
    "    |> listm'.to_array'\n",
    "\n",
    "inl max_seeds : u32 = max_seeds () |> convert\n",
    "inl seeds = \"\" |> sm'.byte_slice |> near.new_vector |> rust.to_ref_mut\n",
    "\n",
    "conv max_seeds * 1.2f64\n",
    "|> replicate\n",
    "|> am'.map_base u8\n",
    "|> am'.to_vec\n",
    "|> contribute_seed seeds\n",
    "\n",
    "seeds\n",
    "|> rust.len\n",
    "|> _assert_eq max_seeds"
   ]
  },
  {
   "cell_type": "markdown",
   "metadata": {},
   "source": [
    "### generate_random_number"
   ]
  },
  {
   "cell_type": "code",
   "execution_count": null,
   "metadata": {
    "dotnet_interactive": {
     "language": "spiral"
    },
    "polyglot_notebook": {
     "kernelName": "spiral"
    }
   },
   "outputs": [],
   "source": [
    "inl generate_random_number\n",
    "    (seeds : rust.ref (rust.mut' (near.vector u8)))\n",
    "    (key : sm'.std_string)\n",
    "    (proof : sm'.std_string)\n",
    "    (max : u64)\n",
    "    : u64\n",
    "    =\n",
    "    inl seed = near.random_seed ()\n",
    "    inl epoch_height = near.epoch_height ()\n",
    "    inl block_height = near.block_height ()\n",
    "    inl block_timestamp = near.block_timestamp ()\n",
    "    inl account_balance = near.account_balance ()\n",
    "    inl signer_account_id = near.signer_account_id ()\n",
    "    inl predecessor_account_id = near.predecessor_account_id ()\n",
    "    inl entropy =\n",
    "        ;[\n",
    "            seed\n",
    "            seeds |> rust.reref |> near.vector_to_vec\n",
    "            epoch_height |> am'.to_le_bytes |> am'.to_vec'\n",
    "            block_height |> am'.to_le_bytes |> am'.to_vec'\n",
    "            block_timestamp |> am'.to_le_bytes |> am'.to_vec'\n",
    "            account_balance |> near.as_yoctonear |> am'.to_le_bytes |> am'.to_vec'\n",
    "            signer_account_id |> am'.as_bytes |> am'.to_vec''\n",
    "            predecessor_account_id |> am'.as_bytes |> am'.to_vec''\n",
    "            proof |> sm'.into_bytes\n",
    "            key |> sm'.into_bytes\n",
    "        ]\n",
    "        |> am'.to_vec\n",
    "        |> rust.concat\n",
    "    inl hash_u8 = entropy |> near.keccak512\n",
    "    hash_u8 |> contribute_seed seeds\n",
    "    inl rolls_list =\n",
    "        hash_u8\n",
    "        |> am'.from_vec_base\n",
    "        |> am'.to_list_base'\n",
    "        |> listm'.unbox\n",
    "        |> stream.from_list\n",
    "        |> lib.dice.rotate_numbers 6\n",
    "        |> stream.to_list\n",
    "    trace Debug\n",
    "        fun () => \"dice_contract.generate_random_number\"\n",
    "        fun () => {\n",
    "            max\n",
    "            key\n",
    "            proof\n",
    "            block_timestamp\n",
    "            block_height\n",
    "            epoch_height\n",
    "            account_balance = account_balance |> sm'.format_debug\n",
    "            signer_account_id = signer_account_id |> sm'.to_string'\n",
    "            predecessor_account_id = predecessor_account_id |> sm'.to_string'\n",
    "            seed = seed |> sm'.format_debug\n",
    "            seeds = seeds |> sm'.format_debug\n",
    "            entropy_len = entropy |> am'.vec_len\n",
    "            entropy = entropy |> sm'.format_debug\n",
    "            hash_u8 = hash_u8 |> sm'.format_debug\n",
    "            rolls = rolls_list |> listm'.box |> listm'.to_array' |> am'.to_vec |> sm'.format_debug\n",
    "        }\n",
    "    inl sequential_roll = rolls_list |> lib.dice.create_sequential_roller\n",
    "    inl result = lib.dice.roll_progressively sequential_roll true max\n",
    "    trace Debug (fun () => \"\") (join id)\n",
    "    result"
   ]
  },
  {
   "cell_type": "code",
   "execution_count": null,
   "metadata": {
    "dotnet_interactive": {
     "language": "spiral"
    },
    "polyglot_notebook": {
     "kernelName": "spiral"
    }
   },
   "outputs": [
    {
     "data": {
      "text/plain": [
       "00:00:00 \u001B[94md\u001B[39m #2 dice_contract.generate_random_number / { max = 2000; key = \"\"; proof = \"\"; block_timestamp = 1743878514792688015; block_height = 10; epoch_height = 1; account_balance = NearToken { inner: 99817379736552383587979200 }; signer_account_id = \"dev-20250405184153-79554007285365\"; predecessor_account_id = \"dev-20250405184153-79554007285365\"; seed = [148, 20, 47, 104, 155, 68, 217, 159, 182, 22, 59, 74, 136, 155, 129, 45, 253, 183, 121, 159, 246, 112, 206, 70, 174, 94, 183, 142, 150, 156, 106, 224]; seeds = Vector { len: 64, prefix: [] }; entropy_len = 138; entropy = [148, 20, 47, 104, 155, 68, 217, 159, 182, 22, 59, 74, 136, 155, 129, 45, 253, 183, 121, 159, 246, 112, 206, 70, 174, 94, 183, 142, 150, 156, 106, 224, 1, 0, 0, 0, 0, 0, 0, 0, 10, 0, 0, 0, 0, 0, 0, 0, 143, 105, 167, 13, 69, 128, 51, 24, 192, 143, 230, 30, 215, 18, 132, 255, 38, 145, 82, 0, 0, 0, 0, 0, 100, 101, 118, 45, 50, 48, 50, 53, 48, 52, 48, 53, 49, 56, 52, 49, 53, 51, 45, 55, 57, 53, 53, 52, 48, 48, 55, 50, 56, 53, 51, 54, 53, 100, 101, 118, 45, 50, 48, 50, 53, 48, 52, 48, 53, 49, 56, 52, 49, 53, 51, 45, 55, 57, 53, 53, 52, 48, 48, 55, 50, 56, 53, 51, 54, 53]; hash_u8 = [145, 216, 139, 147, 145, 187, 111, 4, 174, 235, 191, 189, 49, 236, 212, 121, 136, 116, 100, 2, 107, 229, 210, 193, 78, 174, 210, 186, 72, 157, 184, 42, 33, 164, 84, 41, 22, 169, 235, 161, 240, 170, 91, 11, 43, 124, 122, 95, 227, 64, 74, 103, 57, 140, 181, 125, 172, 118, 21, 138, 183, 41, 104, 42]; rolls = [1, 6, 1, 3, 1, 1, 3, 4, 6, 1, 5, 3, 1, 2, 2, 1, 4, 2, 4, 2, 5, 1, 6, 1, 6, 6, 6, 6, 6, 1, 4, 6, 3, 2, 6, 5, 4, 1, 1, 5, 6, 2, 1, 5, 1, 4, 2, 5, 5, 4, 2, 1, 3, 2, 1, 5, 4, 4, 3, 6, 3, 5, 2, 6] }\n",
       "00:00:00 \u001B[94md\u001B[39m #3 dice.calculate_dice_count / { max = 2000; p = 7776; n = 5 }\n",
       "00:00:00 \u001B[94md\u001B[39m #4 dice.create_sequential_roller / roll / { current_index = 0; acc = 1; len = -1; last_item = None }\n",
       "00:00:00 \u001B[94md\u001B[39m #5 dice.create_sequential_roller / roll / { current_index = 1; acc = 1; len = -1; last_item = Some(1) }\n",
       "00:00:00 \u001B[94md\u001B[39m #6 dice.create_sequential_roller / roll / { current_index = 2; acc = 1; len = -1; last_item = Some(6) }\n",
       "00:00:00 \u001B[94md\u001B[39m #7 dice.create_sequential_roller / roll / { current_index = 3; acc = 1; len = -1; last_item = Some(1) }\n",
       "00:00:00 \u001B[94md\u001B[39m #8 dice.create_sequential_roller / roll / { current_index = 4; acc = 1; len = -1; last_item = Some(3) }\n",
       "00:00:00 \u001B[94md\u001B[39m #9 dice.accumulate_dice_rolls / { power = 4; acc = 0; roll = 1 }\n",
       "00:00:00 \u001B[94md\u001B[39m #10 dice.accumulate_dice_rolls / { power = 3; acc = 0; roll = 3; value = 432 }\n",
       "00:00:00 \u001B[94md\u001B[39m #11 dice.accumulate_dice_rolls / { power = 2; acc = 432; roll = 1 }\n",
       "00:00:00 \u001B[94md\u001B[39m #12 dice.accumulate_dice_rolls / { power = 1; acc = 432; roll = 6; value = 30 }\n",
       "00:00:00 \u001B[94md\u001B[39m #13 dice.accumulate_dice_rolls / { power = 0; acc = 462; roll = 1 }\n",
       "00:00:00 \u001B[94md\u001B[39m #14 dice.accumulate_dice_rolls / { power = -1; acc = 462; result = 463 }\n",
       " \n",
       "00:00:08 \u001B[92mi\u001B[39m #2 near_workspaces.print_usd / { retry = 1; total_gas_burnt_usd = +0.017763; total_gas_burnt = 26590695174356 }\n",
       "00:00:08 \u001B[92mi\u001B[39m #3 near_workspaces.print_usd / outcome / { is_success = true; gas_burnt_usd = +0.000206; tokens_burnt_usd = +0.000206; gas_burnt = 308081859340; tokens_burnt = 30808185934000000000 }\n",
       "00:00:08 \u001B[92mi\u001B[39m #4 near_workspaces.print_usd / outcome / { is_success = true; gas_burnt_usd = +0.017557; tokens_burnt_usd = +0.017557; gas_burnt = 26282613315016; tokens_burnt = 2628261331501600000000 }\n",
       "00:00:08 \u001B[33mw\u001B[39m #5 spiral_wasm.run / Error error / { retry = 1; error = \"{ receipt_outcomes_len = 1; retry = 1; receipt_failures = [] }\" }\n",
       "\n",
       "\n",
       "00:00:00 \u001B[94md\u001B[39m #2 dice_contract.generate_random_number / { max = 2000; key = \"\"; proof = \"\"; block_timestamp = 1743878519969722135; block_height = 9; epoch_height = 1; account_balance = NearToken { inner: 99817379736552383587979200 }; signer_account_id = \"dev-20250405184158-54692273753748\"; predecessor_account_id = \"dev-20250405184158-54692273753748\"; seed = [53, 175, 112, 123, 70, 228, 45, 150, 246, 138, 223, 249, 94, 148, 141, 33, 86, 97, 237, 209, 160, 233, 223, 50, 108, 201, 51, 28, 72, 85, 66, 51]; seeds = Vector { len: 64, prefix: [] }; entropy_len = 138; entropy = [53, 175, 112, 123, 70, 228, 45, 150, 246, 138, 223, 249, 94, 148, 141, 33, 86, 97, 237, 209, 160, 233, 223, 50, 108, 201, 51, 28, 72, 85, 66, 51, 1, 0, 0, 0, 0, 0, 0, 0, 9, 0, 0, 0, 0, 0, 0, 0, 23, 175, 58, 66, 70, 128, 51, 24, 192, 143, 230, 30, 215, 18, 132, 255, 38, 145, 82, 0, 0, 0, 0, 0, 100, 101, 118, 45, 50, 48, 50, 53, 48, 52, 48, 53, 49, 56, 52, 49, 53, 56, 45, 53, 52, 54, 57, 50, 50, 55, 51, 55, 53, 51, 55, 52, 56, 100, 101, 118, 45, 50, 48, 50, 53, 48, 52, 48, 53, 49, 56, 52, 49, 53, 56, 45, 53, 52, 54, 57, 50, 50, 55, 51, 55, 53, 51, 55, 52, 56]; hash_u8 = [123, 57, 3, 185, 255, 227, 207, 203, 3, 45, 250, 241, 127, 159, 26, 42, 213, 46, 115, 68, 127, 159, 100, 108, 58, 238, 228, 35, 44, 173, 151, 17, 118, 102, 164, 22, 7, 91, 86, 186, 140, 106, 110, 89, 231, 87, 23, 97, 12, 93, 10, 33, 87, 114, 239, 168, 58, 169, 149, 68, 184, 75, 15, 45]; rolls = [3, 3, 3, 5, 3, 5, 3, 5, 3, 3, 4, 1, 1, 3, 2, 6, 3, 4, 1, 2, 1, 3, 4, 6, 4, 4, 6, 5, 2, 5, 1, 5, 4, 6, 2, 4, 1, 1, 2, 6, 2, 4, 2, 5, 3, 3, 5, 1, 6, 3, 4, 3, 3, 6, 5, 6, 4, 1, 5, 2, 4, 3, 3, 3] }\n",
       "00:00:00 \u001B[94md\u001B[39m #3 dice.calculate_dice_count / { max = 2000; p = 7776; n = 5 }\n",
       "00:00:00 \u001B[94md\u001B[39m #4 dice.create_sequential_roller / roll / { current_index = 0; acc = 1; len = -1; last_item = None }\n",
       "00:00:00 \u001B[94md\u001B[39m #5 dice.create_sequential_roller / roll / { current_index = 1; acc = 1; len = -1; last_item = Some(3) }\n",
       "00:00:00 \u001B[94md\u001B[39m #6 dice.create_sequential_roller / roll / { current_index = 2; acc = 1; len = -1; last_item = Some(3) }\n",
       "00:00:00 \u001B[94md\u001B[39m #7 dice.create_sequential_roller / roll / { current_index = 3; acc = 1; len = -1; last_item = Some(3) }\n",
       "00:00:00 \u001B[94md\u001B[39m #8 dice.create_sequential_roller / roll / { current_index = 4; acc = 1; len = -1; last_item = Some(5) }\n",
       "00:00:00 \u001B[94md\u001B[39m #9 dice.accumulate_dice_rolls / { power = 4; acc = 0; roll = 3; value = 2592 }\n",
       "00:00:00 \u001B[94md\u001B[39m #10 dice.accumulate_dice_rolls / { power = 3; acc = 2592; roll = 5; value = 864 }\n",
       "00:00:00 \u001B[94md\u001B[39m #11 dice.accumulate_dice_rolls / { power = 2; acc = 3456; roll = 3; value = 72 }\n",
       "00:00:00 \u001B[94md\u001B[39m #12 dice.accumulate_dice_rolls / { power = 1; acc = 3528; roll = 3; value = 12 }\n",
       "00:00:00 \u001B[94md\u001B[39m #13 dice.accumulate_dice_rolls / { power = 0; acc = 3540; roll = 3; value = 2 }\n",
       "00:00:00 \u001B[94md\u001B[39m #14 dice.accumulate_dice_rolls / { power = -1; acc = 3542; result = 3543 }\n",
       "00:00:00 \u001B[94md\u001B[39m #15 dice.create_sequential_roller / roll / { current_index = 5; acc = 1; len = -1; last_item = Some(3) }\n",
       "00:00:00 \u001B[94md\u001B[39m #16 dice.create_sequential_roller / roll / { current_index = 6; acc = 1; len = -1; last_item = Some(5) }\n",
       "00:00:00 \u001B[94md\u001B[39m #17 dice.create_sequential_roller / roll / { current_index = 7; acc = 1; len = -1; last_item = Some(3) }\n",
       "00:00:00 \u001B[94md\u001B[39m #18 dice.create_sequential_roller / roll / { current_index = 8; acc = 1; len = -1; last_item = Some(5) }\n",
       "00:00:00 \u001B[94md\u001B[39m #19 dice.create_sequential_roller / roll / { current_index = 9; acc = 1; len = -1; last_item = Some(3) }\n",
       "00:00:00 \u001B[94md\u001B[39m #20 dice.accumulate_dice_rolls / { power = 4; acc = 0; roll = 3; value = 2592 }\n",
       "00:00:00 \u001B[94md\u001B[39m #21 dice.accumulate_dice_rolls / { power = 3; acc = 2592; roll = 5; value = 864 }\n",
       "00:00:00 \u001B[94md\u001B[39m #22 dice.accumulate_dice_rolls / { power = 2; acc = 3456; roll = 3; value = 72 }\n",
       "00:00:00 \u001B[94md\u001B[39m #23 dice.accumulate_dice_rolls / { power = 1; acc = 3528; roll = 5; value = 24 }\n",
       "00:00:00 \u001B[94md\u001B[39m #24 dice.accumulate_dice_rolls / { power = 0; acc = 3552; roll = 3; value = 2 }\n",
       "00:00:00 \u001B[94md\u001B[39m #25 dice.accumulate_dice_rolls / { power = -1; acc = 3554; result = 3555 }\n",
       "00:00:00 \u001B[94md\u001B[39m #26 dice.create_sequential_roller / roll / { current_index = 10; acc = 1; len = -1; last_item = Some(3) }\n",
       "00:00:00 \u001B[94md\u001B[39m #27 dice.create_sequential_roller / roll / { current_index = 11; acc = 1; len = -1; last_item = Some(4) }\n",
       "00:00:00 \u001B[94md\u001B[39m #28 dice.create_sequential_roller / roll / { current_index = 12; acc = 1; len = -1; last_item = Some(1) }\n",
       "00:00:00 \u001B[94md\u001B[39m #29 dice.create_sequential_roller / roll / { current_index = 13; acc = 1; len = -1; last_item = Some(1) }\n",
       "00:00:00 \u001B[94md\u001B[39m #30 dice.create_sequential_roller / roll / { current_index = 14; acc = 1; len = -1; last_item = Some(3) }\n",
       "00:00:00 \u001B[94md\u001B[39m #31 dice.accumulate_dice_rolls / { power = 4; acc = 0; roll = 2; value = 1296 }\n",
       "00:00:00 \u001B[94md\u001B[39m #32 dice.accumulate_dice_rolls / { power = 3; acc = 1296; roll = 4; value = 648 }\n",
       "00:00:00 \u001B[94md\u001B[39m #33 dice.accumulate_dice_rolls / { power = 2; acc = 1944; roll = 1 }\n",
       "00:00:00 \u001B[94md\u001B[39m #34 dice.accumulate_dice_rolls / { power = 1; acc = 1944; roll = 1 }\n",
       "00:00:00 \u001B[94md\u001B[39m #35 dice.accumulate_dice_rolls / { power = 0; acc = 1944; roll = 3; value = 2 }\n",
       "00:00:00 \u001B[94md\u001B[39m #36 dice.accumulate_dice_rolls / { power = -1; acc = 1946; result = 1947 }\n",
       " \n",
       "00:00:13 \u001B[92mi\u001B[39m #8 near_workspaces.print_usd / { retry = 2; total_gas_burnt_usd = +0.047046; total_gas_burnt = 70428124100375 }\n",
       "00:00:13 \u001B[92mi\u001B[39m #9 near_workspaces.print_usd / outcome / { is_success = true; gas_burnt_usd = +0.000206; tokens_burnt_usd = +0.000206; gas_burnt = 308081859340; tokens_burnt = 30808185934000000000 }\n",
       "00:00:13 \u001B[92mi\u001B[39m #10 near_workspaces.print_usd / outcome / { is_success = true; gas_burnt_usd = +0.046691; tokens_burnt_usd = +0.046691; gas_burnt = 69896859678535; tokens_burnt = 6989685967853500000000 }\n",
       "00:00:13 \u001B[92mi\u001B[39m #11 near_workspaces.print_usd / outcome / { is_success = true; gas_burnt_usd = +0.000149; tokens_burnt_usd = +0.000000; gas_burnt = 223182562500; tokens_burnt = 0 }\n"
      ]
     },
     "metadata": {},
     "output_type": "display_data"
    }
   ],
   "source": [
    "//// test\n",
    "///! rust -cd near-token\n",
    "\n",
    "2000\n",
    "|> generate_random_number\n",
    "    (\"\" |> sm'.byte_slice |> near.new_vector |> rust.to_ref_mut)\n",
    "    (\"\" |> sm'.to_std_string)\n",
    "    (\"\" |> sm'.to_std_string)\n",
    "|> _assert_gt 0"
   ]
  },
  {
   "cell_type": "markdown",
   "metadata": {},
   "source": [
    "### roll_within_bounds"
   ]
  },
  {
   "cell_type": "code",
   "execution_count": null,
   "metadata": {
    "dotnet_interactive": {
     "language": "spiral"
    },
    "polyglot_notebook": {
     "kernelName": "spiral"
    }
   },
   "outputs": [],
   "source": [
    "inl roll_within_bounds (max : u64) (rolls : am'.vec u8) : optionm'.option' u64 =\n",
    "    inl result =\n",
    "        rolls\n",
    "        |> am'.from_vec_base\n",
    "        |> am'.to_list_base'\n",
    "        |> listm'.unbox\n",
    "        |> lib.dice.roll_within_bounds max\n",
    "        |> optionm'.box\n",
    "    trace Debug\n",
    "        fun () => \"dice_contract.roll_within_bounds\"\n",
    "        fun () => { max rolls = rolls |> sm'.format_debug; result = result |> sm'.format_debug }\n",
    "    trace Debug (fun () => \"\") (join id)\n",
    "    result"
   ]
  },
  {
   "cell_type": "code",
   "execution_count": null,
   "metadata": {
    "dotnet_interactive": {
     "language": "spiral"
    },
    "polyglot_notebook": {
     "kernelName": "spiral"
    }
   },
   "outputs": [
    {
     "data": {
      "text/plain": [
       "00:00:00 \u001B[94md\u001B[39m #1 dice.accumulate_dice_rolls / { power = 4; acc = 0; roll = 1 }\n",
       "00:00:00 \u001B[94md\u001B[39m #2 dice.accumulate_dice_rolls / { power = 3; acc = 0; roll = 5; value = 864 }\n",
       "00:00:00 \u001B[94md\u001B[39m #3 dice.accumulate_dice_rolls / { power = 2; acc = 864; roll = 4; value = 108 }\n",
       "00:00:00 \u001B[94md\u001B[39m #4 dice.accumulate_dice_rolls / { power = 1; acc = 972; roll = 4; value = 18 }\n",
       "00:00:00 \u001B[94md\u001B[39m #5 dice.accumulate_dice_rolls / { power = 0; acc = 990; roll = 5; value = 4 }\n",
       "00:00:00 \u001B[94md\u001B[39m #6 dice.accumulate_dice_rolls / { power = -1; acc = 994; result = 995 }\n",
       "00:00:00 \u001B[94md\u001B[39m #7 dice_contract.roll_within_bounds / { max = 2000; rolls = [1, 5, 4, 4, 5]; result = Some(995) }\n",
       " \n",
       "00:00:06 \u001B[92mi\u001B[39m #2 near_workspaces.print_usd / { retry = 1; total_gas_burnt_usd = +0.002994; total_gas_burnt = 4481330539515 }\n",
       "00:00:06 \u001B[92mi\u001B[39m #3 near_workspaces.print_usd / outcome / { is_success = true; gas_burnt_usd = +0.000206; tokens_burnt_usd = +0.000206; gas_burnt = 308081859340; tokens_burnt = 30808185934000000000 }\n",
       "00:00:06 \u001B[92mi\u001B[39m #4 near_workspaces.print_usd / outcome / { is_success = true; gas_burnt_usd = +0.002788; tokens_burnt_usd = +0.002788; gas_burnt = 4173248680175; tokens_burnt = 417324868017500000000 }\n",
       "00:00:06 \u001B[33mw\u001B[39m #5 spiral_wasm.run / Error error / { retry = 1; error = \"{ receipt_outcomes_len = 1; retry = 1; receipt_failures = [] }\" }\n",
       "\n",
       "\n",
       "00:00:00 \u001B[94md\u001B[39m #1 dice.accumulate_dice_rolls / { power = 4; acc = 0; roll = 1 }\n",
       "00:00:00 \u001B[94md\u001B[39m #2 dice.accumulate_dice_rolls / { power = 3; acc = 0; roll = 5; value = 864 }\n",
       "00:00:00 \u001B[94md\u001B[39m #3 dice.accumulate_dice_rolls / { power = 2; acc = 864; roll = 4; value = 108 }\n",
       "00:00:00 \u001B[94md\u001B[39m #4 dice.accumulate_dice_rolls / { power = 1; acc = 972; roll = 4; value = 18 }\n",
       "00:00:00 \u001B[94md\u001B[39m #5 dice.accumulate_dice_rolls / { power = 0; acc = 990; roll = 5; value = 4 }\n",
       "00:00:00 \u001B[94md\u001B[39m #6 dice.accumulate_dice_rolls / { power = -1; acc = 994; result = 995 }\n",
       "00:00:00 \u001B[94md\u001B[39m #7 dice_contract.roll_within_bounds / { max = 2000; rolls = [1, 5, 4, 4, 5]; result = Some(995) }\n",
       " \n",
       "00:00:11 \u001B[92mi\u001B[39m #8 near_workspaces.print_usd / { retry = 2; total_gas_burnt_usd = +0.002994; total_gas_burnt = 4481330539515 }\n",
       "00:00:11 \u001B[92mi\u001B[39m #9 near_workspaces.print_usd / outcome / { is_success = true; gas_burnt_usd = +0.000206; tokens_burnt_usd = +0.000206; gas_burnt = 308081859340; tokens_burnt = 30808185934000000000 }\n",
       "00:00:11 \u001B[92mi\u001B[39m #10 near_workspaces.print_usd / outcome / { is_success = true; gas_burnt_usd = +0.002788; tokens_burnt_usd = +0.002788; gas_burnt = 4173248680175; tokens_burnt = 417324868017500000000 }\n",
       "00:00:11 \u001B[33mw\u001B[39m #11 spiral_wasm.run / Error error / { retry = 2; error = \"{ receipt_outcomes_len = 1; retry = 2; receipt_failures = [] }\" }\n",
       "\n",
       "\n",
       "00:00:00 \u001B[94md\u001B[39m #1 dice.accumulate_dice_rolls / { power = 4; acc = 0; roll = 1 }\n",
       "00:00:00 \u001B[94md\u001B[39m #2 dice.accumulate_dice_rolls / { power = 3; acc = 0; roll = 5; value = 864 }\n",
       "00:00:00 \u001B[94md\u001B[39m #3 dice.accumulate_dice_rolls / { power = 2; acc = 864; roll = 4; value = 108 }\n",
       "00:00:00 \u001B[94md\u001B[39m #4 dice.accumulate_dice_rolls / { power = 1; acc = 972; roll = 4; value = 18 }\n",
       "00:00:00 \u001B[94md\u001B[39m #5 dice.accumulate_dice_rolls / { power = 0; acc = 990; roll = 5; value = 4 }\n",
       "00:00:00 \u001B[94md\u001B[39m #6 dice.accumulate_dice_rolls / { power = -1; acc = 994; result = 995 }\n",
       "00:00:00 \u001B[94md\u001B[39m #7 dice_contract.roll_within_bounds / { max = 2000; rolls = [1, 5, 4, 4, 5]; result = Some(995) }\n",
       " \n",
       "00:00:17 \u001B[92mi\u001B[39m #14 near_workspaces.print_usd / { retry = 3; total_gas_burnt_usd = +0.002994; total_gas_burnt = 4481330539515 }\n",
       "00:00:17 \u001B[92mi\u001B[39m #15 near_workspaces.print_usd / outcome / { is_success = true; gas_burnt_usd = +0.000206; tokens_burnt_usd = +0.000206; gas_burnt = 308081859340; tokens_burnt = 30808185934000000000 }\n",
       "00:00:17 \u001B[92mi\u001B[39m #16 near_workspaces.print_usd / outcome / { is_success = true; gas_burnt_usd = +0.002788; tokens_burnt_usd = +0.002788; gas_burnt = 4173248680175; tokens_burnt = 417324868017500000000 }\n",
       "00:00:17 \u001B[33mw\u001B[39m #17 spiral_wasm.run / Error error / { retry = 3; error = \"{ receipt_outcomes_len = 1; retry = 3; receipt_failures = [] }\" }\n",
       "\n",
       "\n",
       "00:00:00 \u001B[94md\u001B[39m #1 dice.accumulate_dice_rolls / { power = 4; acc = 0; roll = 1 }\n",
       "00:00:00 \u001B[94md\u001B[39m #2 dice.accumulate_dice_rolls / { power = 3; acc = 0; roll = 5; value = 864 }\n",
       "00:00:00 \u001B[94md\u001B[39m #3 dice.accumulate_dice_rolls / { power = 2; acc = 864; roll = 4; value = 108 }\n",
       "00:00:00 \u001B[94md\u001B[39m #4 dice.accumulate_dice_rolls / { power = 1; acc = 972; roll = 4; value = 18 }\n",
       "00:00:00 \u001B[94md\u001B[39m #5 dice.accumulate_dice_rolls / { power = 0; acc = 990; roll = 5; value = 4 }\n",
       "00:00:00 \u001B[94md\u001B[39m #6 dice.accumulate_dice_rolls / { power = -1; acc = 994; result = 995 }\n",
       "00:00:00 \u001B[94md\u001B[39m #7 dice_contract.roll_within_bounds / { max = 2000; rolls = [1, 5, 4, 4, 5]; result = Some(995) }\n",
       " \n",
       "00:00:23 \u001B[92mi\u001B[39m #20 near_workspaces.print_usd / { retry = 4; total_gas_burnt_usd = +0.002994; total_gas_burnt = 4481330539515 }\n",
       "00:00:23 \u001B[92mi\u001B[39m #21 near_workspaces.print_usd / outcome / { is_success = true; gas_burnt_usd = +0.000206; tokens_burnt_usd = +0.000206; gas_burnt = 308081859340; tokens_burnt = 30808185934000000000 }\n",
       "00:00:23 \u001B[92mi\u001B[39m #22 near_workspaces.print_usd / outcome / { is_success = true; gas_burnt_usd = +0.002788; tokens_burnt_usd = +0.002788; gas_burnt = 4173248680175; tokens_burnt = 417324868017500000000 }\n",
       "00:00:23 \u001B[33mw\u001B[39m #23 spiral_wasm.run / Error error / { retry = 4; error = \"{ receipt_outcomes_len = 1; retry = 4; receipt_failures = [] }\" }\n",
       "\n",
       "\n",
       "00:00:00 \u001B[94md\u001B[39m #1 dice.accumulate_dice_rolls / { power = 4; acc = 0; roll = 1 }\n",
       "00:00:00 \u001B[94md\u001B[39m #2 dice.accumulate_dice_rolls / { power = 3; acc = 0; roll = 5; value = 864 }\n",
       "00:00:00 \u001B[94md\u001B[39m #3 dice.accumulate_dice_rolls / { power = 2; acc = 864; roll = 4; value = 108 }\n",
       "00:00:00 \u001B[94md\u001B[39m #4 dice.accumulate_dice_rolls / { power = 1; acc = 972; roll = 4; value = 18 }\n",
       "00:00:00 \u001B[94md\u001B[39m #5 dice.accumulate_dice_rolls / { power = 0; acc = 990; roll = 5; value = 4 }\n",
       "00:00:00 \u001B[94md\u001B[39m #6 dice.accumulate_dice_rolls / { power = -1; acc = 994; result = 995 }\n",
       "00:00:00 \u001B[94md\u001B[39m #7 dice_contract.roll_within_bounds / { max = 2000; rolls = [1, 5, 4, 4, 5]; result = Some(995) }\n",
       " \n",
       "00:00:30 \u001B[92mi\u001B[39m #26 near_workspaces.print_usd / { retry = 5; total_gas_burnt_usd = +0.002994; total_gas_burnt = 4481330539515 }\n",
       "00:00:30 \u001B[92mi\u001B[39m #27 near_workspaces.print_usd / outcome / { is_success = true; gas_burnt_usd = +0.000206; tokens_burnt_usd = +0.000206; gas_burnt = 308081859340; tokens_burnt = 30808185934000000000 }\n",
       "00:00:30 \u001B[92mi\u001B[39m #28 near_workspaces.print_usd / outcome / { is_success = true; gas_burnt_usd = +0.002788; tokens_burnt_usd = +0.002788; gas_burnt = 4173248680175; tokens_burnt = 417324868017500000000 }\n",
       "00:00:30 \u001B[33mw\u001B[39m #29 spiral_wasm.run / Error error / { retry = 5; error = \"{ receipt_outcomes_len = 1; retry = 5; receipt_failures = [] }\" }\n",
       "\n",
       "\n",
       "00:00:00 \u001B[94md\u001B[39m #1 dice.accumulate_dice_rolls / { power = 4; acc = 0; roll = 1 }\n",
       "00:00:00 \u001B[94md\u001B[39m #2 dice.accumulate_dice_rolls / { power = 3; acc = 0; roll = 5; value = 864 }\n",
       "00:00:00 \u001B[94md\u001B[39m #3 dice.accumulate_dice_rolls / { power = 2; acc = 864; roll = 4; value = 108 }\n",
       "00:00:00 \u001B[94md\u001B[39m #4 dice.accumulate_dice_rolls / { power = 1; acc = 972; roll = 4; value = 18 }\n",
       "00:00:00 \u001B[94md\u001B[39m #5 dice.accumulate_dice_rolls / { power = 0; acc = 990; roll = 5; value = 4 }\n",
       "00:00:00 \u001B[94md\u001B[39m #6 dice.accumulate_dice_rolls / { power = -1; acc = 994; result = 995 }\n",
       "00:00:00 \u001B[94md\u001B[39m #7 dice_contract.roll_within_bounds / { max = 2000; rolls = [1, 5, 4, 4, 5]; result = Some(995) }\n",
       " \n",
       "00:00:36 \u001B[92mi\u001B[39m #32 near_workspaces.print_usd / { retry = 6; total_gas_burnt_usd = +0.002994; total_gas_burnt = 4481330539515 }\n",
       "00:00:36 \u001B[92mi\u001B[39m #33 near_workspaces.print_usd / outcome / { is_success = true; gas_burnt_usd = +0.000206; tokens_burnt_usd = +0.000206; gas_burnt = 308081859340; tokens_burnt = 30808185934000000000 }\n",
       "00:00:36 \u001B[92mi\u001B[39m #34 near_workspaces.print_usd / outcome / { is_success = true; gas_burnt_usd = +0.002788; tokens_burnt_usd = +0.002788; gas_burnt = 4173248680175; tokens_burnt = 417324868017500000000 }\n",
       "00:00:36 \u001B[33mw\u001B[39m #35 spiral_wasm.run / Error error / { retry = 6; error = \"{ receipt_outcomes_len = 1; retry = 6; receipt_failures = [] }\" }\n",
       "\n",
       "\n",
       "00:00:00 \u001B[94md\u001B[39m #1 dice.accumulate_dice_rolls / { power = 4; acc = 0; roll = 1 }\n",
       "00:00:00 \u001B[94md\u001B[39m #2 dice.accumulate_dice_rolls / { power = 3; acc = 0; roll = 5; value = 864 }\n",
       "00:00:00 \u001B[94md\u001B[39m #3 dice.accumulate_dice_rolls / { power = 2; acc = 864; roll = 4; value = 108 }\n",
       "00:00:00 \u001B[94md\u001B[39m #4 dice.accumulate_dice_rolls / { power = 1; acc = 972; roll = 4; value = 18 }\n",
       "00:00:00 \u001B[94md\u001B[39m #5 dice.accumulate_dice_rolls / { power = 0; acc = 990; roll = 5; value = 4 }\n",
       "00:00:00 \u001B[94md\u001B[39m #6 dice.accumulate_dice_rolls / { power = -1; acc = 994; result = 995 }\n",
       "00:00:00 \u001B[94md\u001B[39m #7 dice_contract.roll_within_bounds / { max = 2000; rolls = [1, 5, 4, 4, 5]; result = Some(995) }\n",
       " \n",
       "00:00:40 \u001B[92mi\u001B[39m #38 near_workspaces.print_usd / { retry = 7; total_gas_burnt_usd = +0.003143; total_gas_burnt = 4704513102015 }\n",
       "00:00:40 \u001B[92mi\u001B[39m #39 near_workspaces.print_usd / outcome / { is_success = true; gas_burnt_usd = +0.000206; tokens_burnt_usd = +0.000206; gas_burnt = 308081859340; tokens_burnt = 30808185934000000000 }\n",
       "00:00:40 \u001B[92mi\u001B[39m #40 near_workspaces.print_usd / outcome / { is_success = true; gas_burnt_usd = +0.002788; tokens_burnt_usd = +0.002788; gas_burnt = 4173248680175; tokens_burnt = 417324868017500000000 }\n",
       "00:00:40 \u001B[92mi\u001B[39m #41 near_workspaces.print_usd / outcome / { is_success = true; gas_burnt_usd = +0.000149; tokens_burnt_usd = +0.000000; gas_burnt = 223182562500; tokens_burnt = 0 }\n"
      ]
     },
     "metadata": {},
     "output_type": "display_data"
    }
   ],
   "source": [
    "//// test\n",
    "///! rust -c\n",
    "\n",
    "inl rolls = ;[ 1; 5; 4; 4; 5 ] |> am'.to_vec\n",
    "\n",
    "rolls\n",
    "|> roll_within_bounds 2000\n",
    "|> _assert_eq' (optionm'.some' 995)"
   ]
  },
  {
   "cell_type": "code",
   "execution_count": null,
   "metadata": {
    "dotnet_interactive": {
     "language": "spiral"
    },
    "polyglot_notebook": {
     "kernelName": "spiral"
    }
   },
   "outputs": [
    {
     "data": {
      "text/plain": [
       "00:00:00 \u001B[94md\u001B[39m #1 dice.accumulate_dice_rolls / { power = 4; acc = 0; roll = 2; value = 1296 }\n",
       "00:00:00 \u001B[94md\u001B[39m #2 dice.accumulate_dice_rolls / { power = 3; acc = 1296; roll = 2; value = 216 }\n",
       "00:00:00 \u001B[94md\u001B[39m #3 dice.accumulate_dice_rolls / { power = 2; acc = 1512; roll = 6; value = 180 }\n",
       "00:00:00 \u001B[94md\u001B[39m #4 dice.accumulate_dice_rolls / { power = 1; acc = 1692; roll = 4; value = 18 }\n",
       "00:00:00 \u001B[94md\u001B[39m #5 dice.accumulate_dice_rolls / { power = 0; acc = 1710; roll = 5; value = 4 }\n",
       "00:00:00 \u001B[94md\u001B[39m #6 dice.accumulate_dice_rolls / { power = -1; acc = 1714; result = 1715 }\n",
       "00:00:00 \u001B[94md\u001B[39m #7 dice_contract.roll_within_bounds / { max = 2000; rolls = [2, 2, 6, 4, 5]; result = Some(1715) }\n",
       " \n",
       "00:00:09 \u001B[92mi\u001B[39m #2 near_workspaces.print_usd / { retry = 1; total_gas_burnt_usd = +0.003218; total_gas_burnt = 4817809332096 }\n",
       "00:00:09 \u001B[92mi\u001B[39m #3 near_workspaces.print_usd / outcome / { is_success = true; gas_burnt_usd = +0.000206; tokens_burnt_usd = +0.000206; gas_burnt = 308081859340; tokens_burnt = 30808185934000000000 }\n",
       "00:00:09 \u001B[92mi\u001B[39m #4 near_workspaces.print_usd / outcome / { is_success = true; gas_burnt_usd = +0.002863; tokens_burnt_usd = +0.002863; gas_burnt = 4286544910256; tokens_burnt = 428654491025600000000 }\n",
       "00:00:09 \u001B[92mi\u001B[39m #5 near_workspaces.print_usd / outcome / { is_success = true; gas_burnt_usd = +0.000149; tokens_burnt_usd = +0.000000; gas_burnt = 223182562500; tokens_burnt = 0 }\n"
      ]
     },
     "metadata": {},
     "output_type": "display_data"
    }
   ],
   "source": [
    "//// test\n",
    "///! rust -c\n",
    "\n",
    "inl rolls = ;[ 2; 2; 6; 4; 5 ] |> am'.to_vec\n",
    "\n",
    "rolls\n",
    "|> roll_within_bounds 2000\n",
    "|> _assert_eq' (optionm'.some' 1715)"
   ]
  },
  {
   "cell_type": "markdown",
   "metadata": {},
   "source": [
    "### main"
   ]
  },
  {
   "cell_type": "code",
   "execution_count": null,
   "metadata": {
    "dotnet_interactive": {
     "language": "spiral"
    },
    "polyglot_notebook": {
     "kernelName": "spiral"
    }
   },
   "outputs": [],
   "source": [
    "///! _\n",
    "\n",
    "inl main () =\n",
    "    !\\($'\"} //\"') : ()\n",
    "\n",
    "    !\\($'\"\\#[derive( //\"') : ()\n",
    "    !\\($'\"  near_sdk::PanicOnDefault, //\"') : ()\n",
    "    !\\($'\"  borsh::BorshDeserialize, //\"') : ()\n",
    "    !\\($'\"  borsh::BorshSerialize, //\"') : ()\n",
    "    !\\($'\")] //\"') : ()\n",
    "\n",
    "    !\\($'\"pub struct OldState { //\"') : ()\n",
    "    !\\($'\"    version: u32, //\"') : ()\n",
    "    !\\($'\"    seeds: near_sdk::store::vec::Vector<u8>, //\"') : ()\n",
    "    !\\($'\"} //\"') : ()\n",
    "\n",
    "    !\\($'\"\\#[near_sdk::near_bindgen] //\"') : ()\n",
    "\n",
    "    !\\($'\"\\#[derive( //\"') : ()\n",
    "    !\\($'\"  near_sdk::PanicOnDefault, //\"') : ()\n",
    "    !\\($'\"  borsh::BorshDeserialize, //\"') : ()\n",
    "    !\\($'\"  borsh::BorshSerialize, //\"') : ()\n",
    "    !\\($'\")] //\"') : ()\n",
    "\n",
    "    !\\($'\"pub struct State ( //\"') : ()\n",
    "\n",
    "    !\\($'\"/*\"') : ()\n",
    "    (null () : rust.type_emit state) |> ignore\n",
    "    !\\($'\"*/ )\"') : ()\n",
    "\n",
    "    !\\($'\"impl From<OldState> for State { //\"') : ()\n",
    "    !\\($'\"    fn from(old_state: OldState) -> Self { //\"') : ()\n",
    "    !\\($'\"        Self((old_state.version + 1, old_state.seeds)) //\"') : ()\n",
    "    !\\($'\"    } //\"') : ()\n",
    "    !\\($'\"} //\"') : ()\n",
    "\n",
    "    inl new_ () =\n",
    "        !\\($'\"\\#[init] //\"') : ()\n",
    "        !\\($'\"pub fn new() -> Self { // 1\"') : ()\n",
    "\n",
    "        (!\\($'\"true; /*\"') : bool) |> ignore\n",
    "\n",
    "        (null () : rust.type_emit ()) |> ignore\n",
    "\n",
    "        (!\\($'\"true; */\"') : bool) |> ignore\n",
    "\n",
    "        inl result = new ()\n",
    "        $'let _result = !result in _result |> (fun x -> Fable.Core.RustInterop.emitRustExpr x $\"Self($0) // x\") // 2' : ()\n",
    "\n",
    "        !\\($'\"} // 2.\"') : ()\n",
    "\n",
    "        !\\($'\"} // 1.\"') : ()\n",
    "\n",
    "        2\n",
    "\n",
    "    inl contribute_seed () =\n",
    "        !\\($'\"pub fn contribute_seed(&mut self, seed: Vec<u8>) { //\"') : ()\n",
    "        inl seeds : rust.ref (rust.mut' (near.vector u8)) = !\\($'$\"&mut self.0.1\"')\n",
    "        inl seed : am'.vec u8 = !\\($'$\"seed\"')\n",
    "\n",
    "        seed |> contribute_seed seeds\n",
    "\n",
    "        !\\($'\"} //\"') : ()\n",
    "\n",
    "        !\\($'\"} //\"') : ()\n",
    "\n",
    "        !\\($'\"} //\"') : ()\n",
    "\n",
    "        3\n",
    "\n",
    "    inl contribute_seed_borsh () =\n",
    "        !\\($'\"pub fn contribute_seed_borsh(&mut self, \\#[serializer(borsh)] seed: Vec<u8>) { //\"') : ()\n",
    "        !\\($'\"    self.contribute_seed(seed) //\"') : ()\n",
    "        !\\($'\"} //\"') : ()\n",
    "\n",
    "        1\n",
    "\n",
    "    inl generate_random_number () =\n",
    "        !\\($'\"pub fn generate_random_number(&mut self, key: String, proof: String, max: u64) -> u64 { //\"') : ()\n",
    "\n",
    "        inl key : sm'.std_string = !\\($'$\"key\"')\n",
    "        inl proof : sm'.std_string = !\\($'$\"proof\"')\n",
    "        inl max : u64 = !\\($'$\"max\"')\n",
    "\n",
    "        inl seeds : rust.ref (rust.mut' (near.vector u8)) = !\\($'$\"&mut self.0.1\"')\n",
    "\n",
    "        inl result = generate_random_number seeds key proof max\n",
    "\n",
    "        !\\($'\"!result //\"') : ()\n",
    "\n",
    "        !\\($'\"} //\"') : ()\n",
    "\n",
    "        !\\($'\"} //\"') : ()\n",
    "\n",
    "        !\\($'\"} //\"') : ()\n",
    "\n",
    "        3\n",
    "\n",
    "    inl roll_within_bounds () =\n",
    "        !\\($'\"pub fn roll_within_bounds(&self, max: u64, rolls: Vec<u8>) -> Option<u64> { //\"') : ()\n",
    "        inl max : u64 = !\\($'$\"max\"')\n",
    "        inl rolls : am'.vec u8 = !\\($'$\"rolls\"')\n",
    "        inl result = roll_within_bounds max rolls\n",
    "\n",
    "        !\\\\(result, $'\"$0 //\"') : ()\n",
    "\n",
    "        !\\($'\"} //\"') : ()\n",
    "\n",
    "        !\\($'\"} //\"') : ()\n",
    "\n",
    "        2\n",
    "\n",
    "    inl roll_within_bounds_borsh () =\n",
    "        !\\($'\"\\#[result_serializer(borsh)] //\"') : ()\n",
    "        !\\($'\"pub fn roll_within_bounds_borsh( //\"') : ()\n",
    "        !\\($'\"    &self, //\"') : ()\n",
    "        !\\($'\"    \\#[serializer(borsh)] max: u64, //\"') : ()\n",
    "        !\\($'\"    \\#[serializer(borsh)] rolls: Vec<u8>, //\"') : ()\n",
    "        !\\($'\") -> Option<u64> { //\"') : ()\n",
    "        !\\($'\"    self.roll_within_bounds(max, rolls) //\"') : ()\n",
    "        !\\($'\"} //\"') : ()\n",
    "\n",
    "        1\n",
    "\n",
    "\n",
    "    inl fns =\n",
    "        [\n",
    "            new_\n",
    "            contribute_seed\n",
    "            contribute_seed_borsh\n",
    "            generate_random_number\n",
    "            roll_within_bounds\n",
    "            roll_within_bounds_borsh\n",
    "        ]\n",
    "\n",
    "    // inl rec loop acc fns i =\n",
    "    inl rec loop forall i {number} j {number}. (acc : i) (fns : list (() -> i)) (i : j) : i =\n",
    "        match fns with\n",
    "        | [] => acc\n",
    "        | x :: xs =>\n",
    "            !\\($'\"\\#[near_sdk::near_bindgen] //\"') : ()\n",
    "            !\\($'\"impl State { //\"') : ()\n",
    "            inl n = x ()\n",
    "            !\\($'\"} /* c\"') : ()\n",
    "            // inl rec loop' i' =\n",
    "            inl rec loop' forall t {number}. (i' : t) : () =\n",
    "                if i' <> 1 // <= n\n",
    "                then (!\\($'\"true; */ // ???? / i: !i / i\\': !i' / acc: !acc / n: !n\"') : bool) |> ignore\n",
    "                else\n",
    "                    (!\\($'\"true; // ??? / i: !i / i\\': !i' / acc: !acc / n: !n\"') : bool) |> ignore\n",
    "                    loop' (i' + 1)\n",
    "            loop' 1u8\n",
    "            loop (acc + n) xs (i + 1)\n",
    "    inl n = loop 0u8 fns 1u8\n",
    "\n",
    "\n",
    "    // !\\($'\"/* a\"') : ()\n",
    "\n",
    "    // !\\($'\"} // b\"') : ()\n",
    "\n",
    "    !\\($'\"fn _main() //\"') : ()\n",
    "    !\\($'\" //\"') : ()\n",
    "\n",
    "    inl rec loop' i' =\n",
    "        if i' <= n\n",
    "        then\n",
    "            (!\\($'\"true; { (); // ?? / i\\': !i' / n: !n\"') : bool) |> ignore\n",
    "            loop' (i' + 1)\n",
    "        else\n",
    "            (!\\($'\"true; { { (); // ? / i\\': !i' / n: !n\"') : bool) |> ignore\n",
    "            // (!\\($'\"true; */ // ?? / i\\': !i' / n: !n\"') : bool) |> ignore\n",
    "    loop' 1u8\n",
    "\n",
    "inl main () =\n",
    "    $'!main |> ignore' : ()"
   ]
  }
 ],
 "metadata": {},
 "nbformat": 4,
 "nbformat_minor": 5
}