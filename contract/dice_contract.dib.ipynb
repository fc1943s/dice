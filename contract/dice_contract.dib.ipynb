{
 "cells": [
  {
   "cell_type": "markdown",
   "metadata": {},
   "source": [
    "# dice_contract"
   ]
  },
  {
   "cell_type": "code",
   "execution_count": null,
   "metadata": {
    "dotnet_interactive": {
     "language": "spiral"
    },
    "polyglot_notebook": {
     "kernelName": "spiral"
    }
   },
   "outputs": [],
   "source": [
    "//// package=../dice\n",
    "\n",
    "open rust\n",
    "open rust.rust_operators"
   ]
  },
  {
   "cell_type": "code",
   "execution_count": null,
   "metadata": {
    "dotnet_interactive": {
     "language": "spiral"
    },
    "polyglot_notebook": {
     "kernelName": "spiral"
    }
   },
   "outputs": [],
   "source": [
    "//// test\n",
    "\n",
    "open testing"
   ]
  },
  {
   "cell_type": "markdown",
   "metadata": {},
   "source": [
    "## dice_contract"
   ]
  },
  {
   "cell_type": "markdown",
   "metadata": {},
   "source": [
    "### state"
   ]
  },
  {
   "cell_type": "code",
   "execution_count": null,
   "metadata": {
    "dotnet_interactive": {
     "language": "spiral"
    },
    "polyglot_notebook": {
     "kernelName": "spiral"
    }
   },
   "outputs": [],
   "source": [
    "type state =\n",
    "    {\n",
    "        version : u32\n",
    "        seeds : near.vector u8\n",
    "    }"
   ]
  },
  {
   "cell_type": "code",
   "execution_count": null,
   "metadata": {
    "dotnet_interactive": {
     "language": "spiral"
    },
    "polyglot_notebook": {
     "kernelName": "spiral"
    }
   },
   "outputs": [
    {
     "data": {
      "text/plain": [
       " \n",
       "00:00:06 \u001B[92mi\u001B[39m #2 near_workspaces.print_usd / { retry = 1; total_gas_burnt_usd = +0.000957; total_gas_burnt = 1432554003351 }\n",
       "00:00:06 \u001B[92mi\u001B[39m #3 near_workspaces.print_usd / outcome / { is_success = true; gas_burnt_usd = +0.000206; tokens_burnt_usd = +0.000206; gas_burnt = 308081859340; tokens_burnt = 30808185934000000000 }\n",
       "00:00:06 \u001B[92mi\u001B[39m #4 near_workspaces.print_usd / outcome / { is_success = true; gas_burnt_usd = +0.000602; tokens_burnt_usd = +0.000602; gas_burnt = 901289581511; tokens_burnt = 90128958151100000000 }\n",
       "00:00:06 \u001B[92mi\u001B[39m #5 near_workspaces.print_usd / outcome / { is_success = true; gas_burnt_usd = +0.000149; tokens_burnt_usd = +0.000000; gas_burnt = 223182562500; tokens_burnt = 0 }\n"
      ]
     },
     "metadata": {},
     "output_type": "display_data"
    }
   ],
   "source": [
    "//// test\n",
    "///! rust -c\n",
    "\n",
    "()"
   ]
  },
  {
   "cell_type": "code",
   "execution_count": null,
   "metadata": {
    "dotnet_interactive": {
     "language": "spiral"
    },
    "polyglot_notebook": {
     "kernelName": "spiral"
    }
   },
   "outputs": [
    {
     "data": {
      "text/plain": [
       " \n",
       "00:00:06 \u001B[92mi\u001B[39m #2 near_workspaces.print_usd / { retry = 1; total_gas_burnt_usd = +0.000869; total_gas_burnt = 1301156519656 }\n",
       "00:00:06 \u001B[92mi\u001B[39m #3 near_workspaces.print_usd / outcome / { is_success = true; gas_burnt_usd = +0.000206; tokens_burnt_usd = +0.000206; gas_burnt = 308081859340; tokens_burnt = 30808185934000000000 }\n",
       "00:00:06 \u001B[92mi\u001B[39m #4 near_workspaces.print_usd / outcome / { is_success = true; gas_burnt_usd = +0.000663; tokens_burnt_usd = +0.000663; gas_burnt = 993074660316; tokens_burnt = 99307466031600000000 }\n",
       "00:00:06 \u001B[33mw\u001B[39m #5 spiral_wasm.run / Error error / { retry = 1; error = \"{ receipt_outcomes_len = 1; retry = 1; receipt_failures = [] }\" }\n",
       "\n",
       "\n",
       " \n",
       "00:00:13 \u001B[92mi\u001B[39m #8 near_workspaces.print_usd / { retry = 2; total_gas_burnt_usd = +0.000869; total_gas_burnt = 1301156519656 }\n",
       "00:00:13 \u001B[92mi\u001B[39m #9 near_workspaces.print_usd / outcome / { is_success = true; gas_burnt_usd = +0.000206; tokens_burnt_usd = +0.000206; gas_burnt = 308081859340; tokens_burnt = 30808185934000000000 }\n",
       "00:00:13 \u001B[92mi\u001B[39m #10 near_workspaces.print_usd / outcome / { is_success = true; gas_burnt_usd = +0.000663; tokens_burnt_usd = +0.000663; gas_burnt = 993074660316; tokens_burnt = 99307466031600000000 }\n",
       "00:00:13 \u001B[33mw\u001B[39m #11 spiral_wasm.run / Error error / { retry = 2; error = \"{ receipt_outcomes_len = 1; retry = 2; receipt_failures = [] }\" }\n",
       "\n",
       "\n",
       " \n",
       "00:00:19 \u001B[92mi\u001B[39m #14 near_workspaces.print_usd / { retry = 3; total_gas_burnt_usd = +0.001018; total_gas_burnt = 1524339082156 }\n",
       "00:00:19 \u001B[92mi\u001B[39m #15 near_workspaces.print_usd / outcome / { is_success = true; gas_burnt_usd = +0.000206; tokens_burnt_usd = +0.000206; gas_burnt = 308081859340; tokens_burnt = 30808185934000000000 }\n",
       "00:00:19 \u001B[92mi\u001B[39m #16 near_workspaces.print_usd / outcome / { is_success = true; gas_burnt_usd = +0.000663; tokens_burnt_usd = +0.000663; gas_burnt = 993074660316; tokens_burnt = 99307466031600000000 }\n",
       "00:00:19 \u001B[92mi\u001B[39m #17 near_workspaces.print_usd / outcome / { is_success = true; gas_burnt_usd = +0.000149; tokens_burnt_usd = +0.000000; gas_burnt = 223182562500; tokens_burnt = 0 }\n"
      ]
     },
     "metadata": {},
     "output_type": "display_data"
    }
   ],
   "source": [
    "//// test\n",
    "///! rust -c\n",
    "\n",
    "trace Verbose (fun () => \"\") id"
   ]
  },
  {
   "cell_type": "markdown",
   "metadata": {},
   "source": [
    "### new"
   ]
  },
  {
   "cell_type": "code",
   "execution_count": null,
   "metadata": {
    "dotnet_interactive": {
     "language": "spiral"
    },
    "polyglot_notebook": {
     "kernelName": "spiral"
    }
   },
   "outputs": [],
   "source": [
    "inl new () : state =\n",
    "    {\n",
    "        version = 2\n",
    "        seeds = \"seeds\" |> sm'.byte_slice |> near.new_vector\n",
    "    }"
   ]
  },
  {
   "cell_type": "code",
   "execution_count": null,
   "metadata": {
    "dotnet_interactive": {
     "language": "spiral"
    },
    "polyglot_notebook": {
     "kernelName": "spiral"
    }
   },
   "outputs": [
    {
     "data": {
      "text/plain": [
       "00:00:00 \u001B[90mv\u001B[39m #1 dice_contract / { state = (2, Vector { len: 0, prefix: [115, 101, 101, 100, 115] }) }\n",
       " \n",
       "00:00:06 \u001B[92mi\u001B[39m #2 near_workspaces.print_usd / { retry = 1; total_gas_burnt_usd = +0.001189; total_gas_burnt = 1780575493369 }\n",
       "00:00:06 \u001B[92mi\u001B[39m #3 near_workspaces.print_usd / outcome / { is_success = true; gas_burnt_usd = +0.000206; tokens_burnt_usd = +0.000206; gas_burnt = 308081859340; tokens_burnt = 30808185934000000000 }\n",
       "00:00:06 \u001B[92mi\u001B[39m #4 near_workspaces.print_usd / outcome / { is_success = true; gas_burnt_usd = +0.000835; tokens_burnt_usd = +0.000835; gas_burnt = 1249311071529; tokens_burnt = 124931107152900000000 }\n",
       "00:00:06 \u001B[92mi\u001B[39m #5 near_workspaces.print_usd / outcome / { is_success = true; gas_burnt_usd = +0.000149; tokens_burnt_usd = +0.000000; gas_burnt = 223182562500; tokens_burnt = 0 }\n"
      ]
     },
     "metadata": {},
     "output_type": "display_data"
    }
   ],
   "source": [
    "//// test\n",
    "///! rust -c\n",
    "\n",
    "inl state = new ()\n",
    "trace Verbose (fun () => \"dice_contract\") fun () => { state = state |> sm'.format_debug }\n",
    "trace Verbose (fun () => \"\") id"
   ]
  },
  {
   "cell_type": "markdown",
   "metadata": {},
   "source": [
    "### max_seeds"
   ]
  },
  {
   "cell_type": "code",
   "execution_count": null,
   "metadata": {
    "dotnet_interactive": {
     "language": "spiral"
    },
    "polyglot_notebook": {
     "kernelName": "spiral"
    }
   },
   "outputs": [],
   "source": [
    "inl max_seeds () : unativeint =\n",
    "    100i32 |> convert"
   ]
  },
  {
   "cell_type": "markdown",
   "metadata": {},
   "source": [
    "### contribute_seed"
   ]
  },
  {
   "cell_type": "code",
   "execution_count": null,
   "metadata": {
    "dotnet_interactive": {
     "language": "spiral"
    },
    "polyglot_notebook": {
     "kernelName": "spiral"
    }
   },
   "outputs": [],
   "source": [
    "inl contribute_seed (seeds : rust.ref (rust.mut' (near.vector u8))) (seed : am'.vec u8) : () =\n",
    "    seeds |> near.vector_extend seed\n",
    "\n",
    "    inl seed_excess_len = (seeds |> rust.len |> fun x => x : u32 |> i32) - (max_seeds () |> i32)\n",
    "\n",
    "    if seed_excess_len > 0 then\n",
    "        inl seed_excess : am'.vec u8 =\n",
    "            !\\\\(seed_excess_len, $'\"!seeds.drain(0..$0 as u32).collect::<Vec<_>>()\"')\n",
    "        trace Debug\n",
    "            fun () => \"dice_contract.contribute_seed\"\n",
    "            fun () => { seed_excess_len seed_excess = seed_excess |> sm'.format_debug }\n",
    "    trace Debug (fun () => \"\") (join id)"
   ]
  },
  {
   "cell_type": "code",
   "execution_count": null,
   "metadata": {
    "dotnet_interactive": {
     "language": "spiral"
    },
    "polyglot_notebook": {
     "kernelName": "spiral"
    }
   },
   "outputs": [
    {
     "data": {
      "text/plain": [
       "00:00:00 \u001B[94md\u001B[39m #1 dice_contract.contribute_seed / { seed_excess_len = 20; seed_excess = [1, 2, 3, 4, 5, 6, 7, 8, 9, 10, 1, 2, 3, 4, 5, 6, 7, 8, 9, 20] }\n",
       " \n",
       "00:00:06 \u001B[92mi\u001B[39m #2 near_workspaces.print_usd / { retry = 1; total_gas_burnt_usd = +0.007448; total_gas_burnt = 11150361071272 }\n",
       "00:00:06 \u001B[92mi\u001B[39m #3 near_workspaces.print_usd / outcome / { is_success = true; gas_burnt_usd = +0.000206; tokens_burnt_usd = +0.000206; gas_burnt = 308081859340; tokens_burnt = 30808185934000000000 }\n",
       "00:00:06 \u001B[92mi\u001B[39m #4 near_workspaces.print_usd / outcome / { is_success = true; gas_burnt_usd = +0.007243; tokens_burnt_usd = +0.007243; gas_burnt = 10842279211932; tokens_burnt = 1084227921193200000000 }\n",
       "00:00:06 \u001B[33mw\u001B[39m #5 spiral_wasm.run / Error error / { retry = 1; error = \"{ receipt_outcomes_len = 1; retry = 1; receipt_failures = [] }\" }\n",
       "\n",
       "\n",
       "00:00:00 \u001B[94md\u001B[39m #1 dice_contract.contribute_seed / { seed_excess_len = 20; seed_excess = [1, 2, 3, 4, 5, 6, 7, 8, 9, 10, 1, 2, 3, 4, 5, 6, 7, 8, 9, 20] }\n",
       " \n",
       "00:00:14 \u001B[92mi\u001B[39m #8 near_workspaces.print_usd / { retry = 2; total_gas_burnt_usd = +0.007598; total_gas_burnt = 11373543633772 }\n",
       "00:00:14 \u001B[92mi\u001B[39m #9 near_workspaces.print_usd / outcome / { is_success = true; gas_burnt_usd = +0.000206; tokens_burnt_usd = +0.000206; gas_burnt = 308081859340; tokens_burnt = 30808185934000000000 }\n",
       "00:00:14 \u001B[92mi\u001B[39m #10 near_workspaces.print_usd / outcome / { is_success = true; gas_burnt_usd = +0.007243; tokens_burnt_usd = +0.007243; gas_burnt = 10842279211932; tokens_burnt = 1084227921193200000000 }\n",
       "00:00:14 \u001B[92mi\u001B[39m #11 near_workspaces.print_usd / outcome / { is_success = true; gas_burnt_usd = +0.000149; tokens_burnt_usd = +0.000000; gas_burnt = 223182562500; tokens_burnt = 0 }\n"
      ]
     },
     "metadata": {},
     "output_type": "display_data"
    }
   ],
   "source": [
    "//// test\n",
    "///! rust -c\n",
    "\n",
    "inl replicate n =\n",
    "    let rec 루프 i acc =\n",
    "        if i > n\n",
    "        then acc\n",
    "        else\n",
    "            inl i' = i % 10\n",
    "            inl i' =\n",
    "                if i' = 0\n",
    "                then i % limit.max\n",
    "                else i'\n",
    "            루프 (i + 1) (i' :: acc)\n",
    "    루프 1 []\n",
    "    |> listm.rev\n",
    "    |> listm'.box\n",
    "    |> listm'.to_array'\n",
    "\n",
    "inl max_seeds : u32 = max_seeds () |> convert\n",
    "inl seeds = \"\" |> sm'.byte_slice |> near.new_vector |> rust.to_ref_mut\n",
    "\n",
    "conv max_seeds * 1.2f64\n",
    "|> replicate\n",
    "|> am'.map_base u8\n",
    "|> am'.to_vec\n",
    "|> contribute_seed seeds\n",
    "\n",
    "seeds\n",
    "|> rust.len\n",
    "|> _assert_eq max_seeds"
   ]
  },
  {
   "cell_type": "markdown",
   "metadata": {},
   "source": [
    "### generate_random_number"
   ]
  },
  {
   "cell_type": "code",
   "execution_count": null,
   "metadata": {
    "dotnet_interactive": {
     "language": "spiral"
    },
    "polyglot_notebook": {
     "kernelName": "spiral"
    }
   },
   "outputs": [],
   "source": [
    "inl generate_random_number\n",
    "    (seeds : rust.ref (rust.mut' (near.vector u8)))\n",
    "    (key : sm'.std_string)\n",
    "    (proof : sm'.std_string)\n",
    "    (max : u64)\n",
    "    : u64\n",
    "    =\n",
    "    inl seed = near.random_seed ()\n",
    "    inl epoch_height = near.epoch_height ()\n",
    "    inl block_height = near.block_height ()\n",
    "    inl block_timestamp = near.block_timestamp ()\n",
    "    inl account_balance = near.account_balance ()\n",
    "    inl signer_account_id = near.signer_account_id ()\n",
    "    inl predecessor_account_id = near.predecessor_account_id ()\n",
    "    inl entropy =\n",
    "        ;[\n",
    "            seed\n",
    "            seeds |> rust.reref |> near.vector_to_vec\n",
    "            epoch_height |> am'.to_le_bytes |> am'.to_vec'\n",
    "            block_height |> am'.to_le_bytes |> am'.to_vec'\n",
    "            block_timestamp |> am'.to_le_bytes |> am'.to_vec'\n",
    "            account_balance |> near.as_yoctonear |> am'.to_le_bytes |> am'.to_vec'\n",
    "            signer_account_id |> am'.as_bytes |> am'.to_vec''\n",
    "            predecessor_account_id |> am'.as_bytes |> am'.to_vec''\n",
    "            proof |> sm'.into_bytes\n",
    "            key |> sm'.into_bytes\n",
    "        ]\n",
    "        |> am'.to_vec\n",
    "        |> rust.concat\n",
    "    inl hash_u8 = entropy |> near.keccak512\n",
    "    hash_u8 |> contribute_seed seeds\n",
    "    inl rolls_list =\n",
    "        hash_u8\n",
    "        |> am'.from_vec_base\n",
    "        |> am'.to_list_base'\n",
    "        |> listm'.unbox\n",
    "        |> stream.from_list\n",
    "        |> lib.dice.rotate_numbers 6\n",
    "        |> stream.to_list\n",
    "    trace Debug\n",
    "        fun () => \"dice_contract.generate_random_number\"\n",
    "        fun () => {\n",
    "            max\n",
    "            key\n",
    "            proof\n",
    "            block_timestamp\n",
    "            block_height\n",
    "            epoch_height\n",
    "            account_balance = account_balance |> sm'.format_debug\n",
    "            signer_account_id = signer_account_id |> sm'.to_string'\n",
    "            predecessor_account_id = predecessor_account_id |> sm'.to_string'\n",
    "            seed = seed |> sm'.format_debug\n",
    "            seeds = seeds |> sm'.format_debug\n",
    "            entropy_len = entropy |> am'.vec_len\n",
    "            entropy = entropy |> sm'.format_debug\n",
    "            hash_u8 = hash_u8 |> sm'.format_debug\n",
    "            rolls = rolls_list |> listm'.box |> listm'.to_array' |> am'.to_vec |> sm'.format_debug\n",
    "        }\n",
    "    inl sequential_roll = rolls_list |> lib.dice.create_sequential_roller\n",
    "    inl result = lib.dice.roll_progressively sequential_roll true max\n",
    "    trace Debug (fun () => \"\") (join id)\n",
    "    result"
   ]
  },
  {
   "cell_type": "code",
   "execution_count": null,
   "metadata": {
    "dotnet_interactive": {
     "language": "spiral"
    },
    "polyglot_notebook": {
     "kernelName": "spiral"
    }
   },
   "outputs": [
    {
     "data": {
      "text/plain": [
       "00:00:00 \u001B[94md\u001B[39m #2 dice_contract.generate_random_number / { max = 2000; key = \"\"; proof = \"\"; block_timestamp = 1749149872555059476; block_height = 9; epoch_height = 1; account_balance = NearToken { inner: 99817379736552383587979200 }; signer_account_id = \"dev-20250605185751-22691013470530\"; predecessor_account_id = \"dev-20250605185751-22691013470530\"; seed = [94, 230, 8, 116, 146, 136, 197, 110, 53, 180, 206, 103, 49, 217, 181, 29, 63, 170, 129, 162, 58, 152, 1, 116, 181, 156, 19, 105, 85, 227, 132, 36]; seeds = Vector { len: 64, prefix: [] }; entropy_len = 138; entropy = [94, 230, 8, 116, 146, 136, 197, 110, 53, 180, 206, 103, 49, 217, 181, 29, 63, 170, 129, 162, 58, 152, 1, 116, 181, 156, 19, 105, 85, 227, 132, 36, 1, 0, 0, 0, 0, 0, 0, 0, 9, 0, 0, 0, 0, 0, 0, 0, 20, 105, 144, 172, 138, 58, 70, 24, 192, 143, 230, 30, 215, 18, 132, 255, 38, 145, 82, 0, 0, 0, 0, 0, 100, 101, 118, 45, 50, 48, 50, 53, 48, 54, 48, 53, 49, 56, 53, 55, 53, 49, 45, 50, 50, 54, 57, 49, 48, 49, 51, 52, 55, 48, 53, 51, 48, 100, 101, 118, 45, 50, 48, 50, 53, 48, 54, 48, 53, 49, 56, 53, 55, 53, 49, 45, 50, 50, 54, 57, 49, 48, 49, 51, 52, 55, 48, 53, 51, 48]; hash_u8 = [225, 174, 199, 204, 78, 213, 60, 83, 209, 232, 254, 133, 251, 136, 172, 159, 89, 186, 20, 234, 189, 135, 91, 5, 129, 207, 164, 71, 22, 123, 154, 219, 67, 48, 217, 249, 55, 245, 40, 160, 111, 195, 127, 57, 112, 232, 73, 146, 195, 100, 135, 7, 7, 102, 185, 192, 237, 33, 86, 176, 22, 132, 213, 158]; rolls = [3, 6, 1, 6, 6, 3, 6, 5, 5, 4, 2, 1, 5, 4, 4, 3, 5, 6, 2, 6, 3, 3, 1, 5, 3, 3, 2, 5, 4, 3, 4, 3, 1, 6, 1, 3, 1, 5, 4, 4, 3, 3, 1, 3, 4, 4, 1, 2, 3, 4, 3, 1, 1, 6, 5, 6, 3, 3, 2, 2, 4, 6, 3, 2] }\n",
       "00:00:00 \u001B[94md\u001B[39m #3 dice.calculate_dice_count / { max = 2000; p = 7776; n = 5 }\n",
       "00:00:00 \u001B[94md\u001B[39m #4 dice.create_sequential_roller / roll / { current_index = 0; acc = 1; len = -1; last_item = None }\n",
       "00:00:00 \u001B[94md\u001B[39m #5 dice.create_sequential_roller / roll / { current_index = 1; acc = 1; len = -1; last_item = Some(3) }\n",
       "00:00:00 \u001B[94md\u001B[39m #6 dice.create_sequential_roller / roll / { current_index = 2; acc = 1; len = -1; last_item = Some(6) }\n",
       "00:00:00 \u001B[94md\u001B[39m #7 dice.create_sequential_roller / roll / { current_index = 3; acc = 1; len = -1; last_item = Some(1) }\n",
       "00:00:00 \u001B[94md\u001B[39m #8 dice.create_sequential_roller / roll / { current_index = 4; acc = 1; len = -1; last_item = Some(6) }\n",
       "00:00:00 \u001B[94md\u001B[39m #9 dice.accumulate_dice_rolls / { power = 4; acc = 0; roll = 6; value = 6480 }\n",
       "00:00:00 \u001B[94md\u001B[39m #10 dice.accumulate_dice_rolls / { power = 3; acc = 6480; roll = 6; value = 1080 }\n",
       "00:00:00 \u001B[94md\u001B[39m #11 dice.accumulate_dice_rolls / { power = 2; acc = 7560; roll = 1 }\n",
       "00:00:00 \u001B[94md\u001B[39m #12 dice.accumulate_dice_rolls / { power = 1; acc = 7560; roll = 6; value = 30 }\n",
       "00:00:00 \u001B[94md\u001B[39m #13 dice.accumulate_dice_rolls / { power = 0; acc = 7590; roll = 3; value = 2 }\n",
       "00:00:00 \u001B[94md\u001B[39m #14 dice.accumulate_dice_rolls / { power = -1; acc = 7592; result = 7593 }\n",
       "00:00:00 \u001B[94md\u001B[39m #15 dice.create_sequential_roller / roll / { current_index = 5; acc = 1; len = -1; last_item = Some(6) }\n",
       "00:00:00 \u001B[94md\u001B[39m #16 dice.create_sequential_roller / roll / { current_index = 6; acc = 1; len = -1; last_item = Some(3) }\n",
       "00:00:00 \u001B[94md\u001B[39m #17 dice.create_sequential_roller / roll / { current_index = 7; acc = 1; len = -1; last_item = Some(6) }\n",
       "00:00:00 \u001B[94md\u001B[39m #18 dice.create_sequential_roller / roll / { current_index = 8; acc = 1; len = -1; last_item = Some(5) }\n",
       "00:00:00 \u001B[94md\u001B[39m #19 dice.create_sequential_roller / roll / { current_index = 9; acc = 1; len = -1; last_item = Some(5) }\n",
       "00:00:00 \u001B[94md\u001B[39m #20 dice.accumulate_dice_rolls / { power = 4; acc = 0; roll = 4; value = 3888 }\n",
       "00:00:00 \u001B[94md\u001B[39m #21 dice.accumulate_dice_rolls / { power = 3; acc = 3888; roll = 3; value = 432 }\n",
       "00:00:00 \u001B[94md\u001B[39m #22 dice.accumulate_dice_rolls / { power = 2; acc = 4320; roll = 6; value = 180 }\n",
       "00:00:00 \u001B[94md\u001B[39m #23 dice.accumulate_dice_rolls / { power = 1; acc = 4500; roll = 5; value = 24 }\n",
       "00:00:00 \u001B[94md\u001B[39m #24 dice.accumulate_dice_rolls / { power = 0; acc = 4524; roll = 5; value = 4 }\n",
       "00:00:00 \u001B[94md\u001B[39m #25 dice.accumulate_dice_rolls / { power = -1; acc = 4528; result = 4529 }\n",
       "00:00:00 \u001B[94md\u001B[39m #26 dice.create_sequential_roller / roll / { current_index = 10; acc = 1; len = -1; last_item = Some(4) }\n",
       "00:00:00 \u001B[94md\u001B[39m #27 dice.create_sequential_roller / roll / { current_index = 11; acc = 1; len = -1; last_item = Some(2) }\n",
       "00:00:00 \u001B[94md\u001B[39m #28 dice.create_sequential_roller / roll / { current_index = 12; acc = 1; len = -1; last_item = Some(1) }\n",
       "00:00:00 \u001B[94md\u001B[39m #29 dice.create_sequential_roller / roll / { current_index = 13; acc = 1; len = -1; last_item = Some(5) }\n",
       "00:00:00 \u001B[94md\u001B[39m #30 dice.create_sequential_roller / roll / { current_index = 14; acc = 1; len = -1; last_item = Some(4) }\n",
       "00:00:00 \u001B[94md\u001B[39m #31 dice.accumulate_dice_rolls / { power = 4; acc = 0; roll = 4; value = 3888 }\n",
       "00:00:00 \u001B[94md\u001B[39m #32 dice.accumulate_dice_rolls / { power = 3; acc = 3888; roll = 2; value = 216 }\n",
       "00:00:00 \u001B[94md\u001B[39m #33 dice.accumulate_dice_rolls / { power = 2; acc = 4104; roll = 1 }\n",
       "00:00:00 \u001B[94md\u001B[39m #34 dice.accumulate_dice_rolls / { power = 1; acc = 4104; roll = 5; value = 24 }\n",
       "00:00:00 \u001B[94md\u001B[39m #35 dice.accumulate_dice_rolls / { power = 0; acc = 4128; roll = 4; value = 3 }\n",
       "00:00:00 \u001B[94md\u001B[39m #36 dice.accumulate_dice_rolls / { power = -1; acc = 4131; result = 4132 }\n",
       "00:00:00 \u001B[94md\u001B[39m #37 dice.create_sequential_roller / roll / { current_index = 15; acc = 1; len = -1; last_item = Some(4) }\n",
       "00:00:00 \u001B[94md\u001B[39m #38 dice.create_sequential_roller / roll / { current_index = 16; acc = 1; len = -1; last_item = Some(3) }\n",
       "00:00:00 \u001B[94md\u001B[39m #39 dice.create_sequential_roller / roll / { current_index = 17; acc = 1; len = -1; last_item = Some(5) }\n",
       "00:00:00 \u001B[94md\u001B[39m #40 dice.create_sequential_roller / roll / { current_index = 18; acc = 1; len = -1; last_item = Some(6) }\n",
       "00:00:00 \u001B[94md\u001B[39m #41 dice.create_sequential_roller / roll / { current_index = 19; acc = 1; len = -1; last_item = Some(2) }\n",
       "00:00:00 \u001B[94md\u001B[39m #42 dice.accumulate_dice_rolls / { power = 4; acc = 0; roll = 6; value = 6480 }\n",
       "00:00:00 \u001B[94md\u001B[39m #43 dice.accumulate_dice_rolls / { power = 3; acc = 6480; roll = 3; value = 432 }\n",
       "00:00:00 \u001B[94md\u001B[39m #44 dice.accumulate_dice_rolls / { power = 2; acc = 6912; roll = 5; value = 144 }\n",
       "00:00:00 \u001B[94md\u001B[39m #45 dice.accumulate_dice_rolls / { power = 1; acc = 7056; roll = 6; value = 30 }\n",
       "00:00:00 \u001B[94md\u001B[39m #46 dice.accumulate_dice_rolls / { power = 0; acc = 7086; roll = 2; value = 1 }\n",
       "00:00:00 \u001B[94md\u001B[39m #47 dice.accumulate_dice_rolls / { power = -1; acc = 7087; result = 7088 }\n",
       "00:00:00 \u001B[94md\u001B[39m #48 dice.create_sequential_roller / roll / { current_index = 20; acc = 1; len = -1; last_item = Some(6) }\n",
       "00:00:00 \u001B[94md\u001B[39m #49 dice.create_sequential_roller / roll / { current_index = 21; acc = 1; len = -1; last_item = Some(3) }\n",
       "00:00:00 \u001B[94md\u001B[39m #50 dice.create_sequential_roller / roll / { current_index = 22; acc = 1; len = -1; last_item = Some(3) }\n",
       "00:00:00 \u001B[94md\u001B[39m #51 dice.create_sequential_roller / roll / { current_index = 23; acc = 1; len = -1; last_item = Some(1) }\n",
       "00:00:00 \u001B[94md\u001B[39m #52 dice.create_sequential_roller / roll / { current_index = 24; acc = 1; len = -1; last_item = Some(5) }\n",
       "00:00:00 \u001B[94md\u001B[39m #53 dice.accumulate_dice_rolls / { power = 4; acc = 0; roll = 3; value = 2592 }\n",
       "00:00:00 \u001B[94md\u001B[39m #54 dice.accumulate_dice_rolls / { power = 3; acc = 2592; roll = 3; value = 432 }\n",
       "00:00:00 \u001B[94md\u001B[39m #55 dice.accumulate_dice_rolls / { power = 2; acc = 3024; roll = 3; value = 72 }\n",
       "00:00:00 \u001B[94md\u001B[39m #56 dice.accumulate_dice_rolls / { power = 1; acc = 3096; roll = 1 }\n",
       "00:00:00 \u001B[94md\u001B[39m #57 dice.accumulate_dice_rolls / { power = 0; acc = 3096; roll = 5; value = 4 }\n",
       "00:00:00 \u001B[94md\u001B[39m #58 dice.accumulate_dice_rolls / { power = -1; acc = 3100; result = 3101 }\n",
       "00:00:00 \u001B[94md\u001B[39m #59 dice.create_sequential_roller / roll / { current_index = 25; acc = 1; len = -1; last_item = Some(3) }\n",
       "00:00:00 \u001B[94md\u001B[39m #60 dice.create_sequential_roller / roll / { current_index = 26; acc = 1; len = -1; last_item = Some(3) }\n",
       "00:00:00 \u001B[94md\u001B[39m #61 dice.create_sequential_roller / roll / { current_index = 27; acc = 1; len = -1; last_item = Some(2) }\n",
       "00:00:00 \u001B[94md\u001B[39m #62 dice.create_sequential_roller / roll / { current_index = 28; acc = 1; len = -1; last_item = Some(5) }\n",
       "00:00:00 \u001B[94md\u001B[39m #63 dice.create_sequential_roller / roll / { current_index = 29; acc = 1; len = -1; last_item = Some(4) }\n",
       "00:00:00 \u001B[94md\u001B[39m #64 dice.accumulate_dice_rolls / { power = 4; acc = 0; roll = 3; value = 2592 }\n",
       "00:00:00 \u001B[94md\u001B[39m #65 dice.accumulate_dice_rolls / { power = 3; acc = 2592; roll = 3; value = 432 }\n",
       "00:00:00 \u001B[94md\u001B[39m #66 dice.accumulate_dice_rolls / { power = 2; acc = 3024; roll = 2; value = 36 }\n",
       "00:00:00 \u001B[94md\u001B[39m #67 dice.accumulate_dice_rolls / { power = 1; acc = 3060; roll = 5; value = 24 }\n",
       "00:00:00 \u001B[94md\u001B[39m #68 dice.accumulate_dice_rolls / { power = 0; acc = 3084; roll = 4; value = 3 }\n",
       "00:00:00 \u001B[94md\u001B[39m #69 dice.accumulate_dice_rolls / { power = -1; acc = 3087; result = 3088 }\n",
       "00:00:00 \u001B[94md\u001B[39m #70 dice.create_sequential_roller / roll / { current_index = 30; acc = 1; len = -1; last_item = Some(3) }\n",
       "00:00:00 \u001B[94md\u001B[39m #71 dice.create_sequential_roller / roll / { current_index = 31; acc = 1; len = -1; last_item = Some(4) }\n",
       "00:00:00 \u001B[94md\u001B[39m #72 dice.create_sequential_roller / roll / { current_index = 32; acc = 1; len = -1; last_item = Some(3) }\n",
       "00:00:00 \u001B[94md\u001B[39m #73 dice.create_sequential_roller / roll / { current_index = 33; acc = 1; len = -1; last_item = Some(1) }\n",
       "00:00:00 \u001B[94md\u001B[39m #74 dice.create_sequential_roller / roll / { current_index = 34; acc = 1; len = -1; last_item = Some(6) }\n",
       "00:00:00 \u001B[94md\u001B[39m #75 dice.accumulate_dice_rolls / { power = 4; acc = 0; roll = 1 }\n",
       "00:00:00 \u001B[94md\u001B[39m #76 dice.accumulate_dice_rolls / { power = 3; acc = 0; roll = 4; value = 648 }\n",
       "00:00:00 \u001B[94md\u001B[39m #77 dice.accumulate_dice_rolls / { power = 2; acc = 648; roll = 3; value = 72 }\n",
       "00:00:00 \u001B[94md\u001B[39m #78 dice.accumulate_dice_rolls / { power = 1; acc = 720; roll = 1 }\n",
       "00:00:00 \u001B[94md\u001B[39m #79 dice.accumulate_dice_rolls / { power = 0; acc = 720; roll = 6; value = 5 }\n",
       "00:00:00 \u001B[94md\u001B[39m #80 dice.accumulate_dice_rolls / { power = -1; acc = 725; result = 726 }\n",
       " \n",
       "00:00:07 \u001B[92mi\u001B[39m #2 near_workspaces.print_usd / { retry = 1; total_gas_burnt_usd = +0.146481; total_gas_burnt = 219283654206563 }\n",
       "00:00:07 \u001B[92mi\u001B[39m #3 near_workspaces.print_usd / outcome / { is_success = true; gas_burnt_usd = +0.000206; tokens_burnt_usd = +0.000206; gas_burnt = 308081859340; tokens_burnt = 30808185934000000000 }\n",
       "00:00:07 \u001B[92mi\u001B[39m #4 near_workspaces.print_usd / outcome / { is_success = true; gas_burnt_usd = +0.146127; tokens_burnt_usd = +0.146127; gas_burnt = 218752389784723; tokens_burnt = 21875238978472300000000 }\n",
       "00:00:07 \u001B[92mi\u001B[39m #5 near_workspaces.print_usd / outcome / { is_success = true; gas_burnt_usd = +0.000149; tokens_burnt_usd = +0.000000; gas_burnt = 223182562500; tokens_burnt = 0 }\n"
      ]
     },
     "metadata": {},
     "output_type": "display_data"
    }
   ],
   "source": [
    "//// test\n",
    "///! rust -cd near-token\n",
    "\n",
    "2000\n",
    "|> generate_random_number\n",
    "    (\"\" |> sm'.byte_slice |> near.new_vector |> rust.to_ref_mut)\n",
    "    (\"\" |> sm'.to_std_string)\n",
    "    (\"\" |> sm'.to_std_string)\n",
    "|> _assert_gt 0"
   ]
  },
  {
   "cell_type": "markdown",
   "metadata": {},
   "source": [
    "### roll_within_bounds"
   ]
  },
  {
   "cell_type": "code",
   "execution_count": null,
   "metadata": {
    "dotnet_interactive": {
     "language": "spiral"
    },
    "polyglot_notebook": {
     "kernelName": "spiral"
    }
   },
   "outputs": [],
   "source": [
    "inl roll_within_bounds (max : u64) (rolls : am'.vec u8) : optionm'.option' u64 =\n",
    "    inl result =\n",
    "        rolls\n",
    "        |> am'.from_vec_base\n",
    "        |> am'.to_list_base'\n",
    "        |> listm'.unbox\n",
    "        |> lib.dice.roll_within_bounds max\n",
    "        |> optionm'.box\n",
    "    trace Debug\n",
    "        fun () => \"dice_contract.roll_within_bounds\"\n",
    "        fun () => { max rolls = rolls |> sm'.format_debug; result = result |> sm'.format_debug }\n",
    "    trace Debug (fun () => \"\") (join id)\n",
    "    result"
   ]
  },
  {
   "cell_type": "code",
   "execution_count": null,
   "metadata": {
    "dotnet_interactive": {
     "language": "spiral"
    },
    "polyglot_notebook": {
     "kernelName": "spiral"
    }
   },
   "outputs": [
    {
     "data": {
      "text/plain": [
       "00:00:00 \u001B[94md\u001B[39m #1 dice.accumulate_dice_rolls / { power = 4; acc = 0; roll = 1 }\n",
       "00:00:00 \u001B[94md\u001B[39m #2 dice.accumulate_dice_rolls / { power = 3; acc = 0; roll = 5; value = 864 }\n",
       "00:00:00 \u001B[94md\u001B[39m #3 dice.accumulate_dice_rolls / { power = 2; acc = 864; roll = 4; value = 108 }\n",
       "00:00:00 \u001B[94md\u001B[39m #4 dice.accumulate_dice_rolls / { power = 1; acc = 972; roll = 4; value = 18 }\n",
       "00:00:00 \u001B[94md\u001B[39m #5 dice.accumulate_dice_rolls / { power = 0; acc = 990; roll = 5; value = 4 }\n",
       "00:00:00 \u001B[94md\u001B[39m #6 dice.accumulate_dice_rolls / { power = -1; acc = 994; result = 995 }\n",
       "00:00:00 \u001B[94md\u001B[39m #7 dice_contract.roll_within_bounds / { max = 2000; rolls = [1, 5, 4, 4, 5]; result = Some(995) }\n",
       " \n",
       "00:00:06 \u001B[92mi\u001B[39m #2 near_workspaces.print_usd / { retry = 1; total_gas_burnt_usd = +0.003025; total_gas_burnt = 4528197049467 }\n",
       "00:00:06 \u001B[92mi\u001B[39m #3 near_workspaces.print_usd / outcome / { is_success = true; gas_burnt_usd = +0.000206; tokens_burnt_usd = +0.000206; gas_burnt = 308081859340; tokens_burnt = 30808185934000000000 }\n",
       "00:00:06 \u001B[92mi\u001B[39m #4 near_workspaces.print_usd / outcome / { is_success = true; gas_burnt_usd = +0.002670; tokens_burnt_usd = +0.002670; gas_burnt = 3996932627627; tokens_burnt = 399693262762700000000 }\n",
       "00:00:06 \u001B[92mi\u001B[39m #5 near_workspaces.print_usd / outcome / { is_success = true; gas_burnt_usd = +0.000149; tokens_burnt_usd = +0.000000; gas_burnt = 223182562500; tokens_burnt = 0 }\n"
      ]
     },
     "metadata": {},
     "output_type": "display_data"
    }
   ],
   "source": [
    "//// test\n",
    "///! rust -c\n",
    "\n",
    "inl rolls = ;[ 1; 5; 4; 4; 5 ] |> am'.to_vec\n",
    "\n",
    "rolls\n",
    "|> roll_within_bounds 2000\n",
    "|> _assert_eq' (optionm'.some' 995)"
   ]
  },
  {
   "cell_type": "code",
   "execution_count": null,
   "metadata": {
    "dotnet_interactive": {
     "language": "spiral"
    },
    "polyglot_notebook": {
     "kernelName": "spiral"
    }
   },
   "outputs": [
    {
     "data": {
      "text/plain": [
       "00:00:00 \u001B[94md\u001B[39m #1 dice.accumulate_dice_rolls / { power = 4; acc = 0; roll = 2; value = 1296 }\n",
       "00:00:00 \u001B[94md\u001B[39m #2 dice.accumulate_dice_rolls / { power = 3; acc = 1296; roll = 2; value = 216 }\n",
       "00:00:00 \u001B[94md\u001B[39m #3 dice.accumulate_dice_rolls / { power = 2; acc = 1512; roll = 6; value = 180 }\n",
       "00:00:00 \u001B[94md\u001B[39m #4 dice.accumulate_dice_rolls / { power = 1; acc = 1692; roll = 4; value = 18 }\n",
       "00:00:00 \u001B[94md\u001B[39m #5 dice.accumulate_dice_rolls / { power = 0; acc = 1710; roll = 5; value = 4 }\n",
       "00:00:00 \u001B[94md\u001B[39m #6 dice.accumulate_dice_rolls / { power = -1; acc = 1714; result = 1715 }\n",
       "00:00:00 \u001B[94md\u001B[39m #7 dice_contract.roll_within_bounds / { max = 2000; rolls = [2, 2, 6, 4, 5]; result = Some(1715) }\n",
       " \n",
       "00:00:06 \u001B[92mi\u001B[39m #2 near_workspaces.print_usd / { retry = 1; total_gas_burnt_usd = +0.002951; total_gas_burnt = 4418290148148 }\n",
       "00:00:06 \u001B[92mi\u001B[39m #3 near_workspaces.print_usd / outcome / { is_success = true; gas_burnt_usd = +0.000206; tokens_burnt_usd = +0.000206; gas_burnt = 308081859340; tokens_burnt = 30808185934000000000 }\n",
       "00:00:06 \u001B[92mi\u001B[39m #4 near_workspaces.print_usd / outcome / { is_success = true; gas_burnt_usd = +0.002746; tokens_burnt_usd = +0.002746; gas_burnt = 4110208288808; tokens_burnt = 411020828880800000000 }\n",
       "00:00:06 \u001B[33mw\u001B[39m #5 spiral_wasm.run / Error error / { retry = 1; error = \"{ receipt_outcomes_len = 1; retry = 1; receipt_failures = [] }\" }\n",
       "\n",
       "\n",
       "00:00:00 \u001B[94md\u001B[39m #1 dice.accumulate_dice_rolls / { power = 4; acc = 0; roll = 2; value = 1296 }\n",
       "00:00:00 \u001B[94md\u001B[39m #2 dice.accumulate_dice_rolls / { power = 3; acc = 1296; roll = 2; value = 216 }\n",
       "00:00:00 \u001B[94md\u001B[39m #3 dice.accumulate_dice_rolls / { power = 2; acc = 1512; roll = 6; value = 180 }\n",
       "00:00:00 \u001B[94md\u001B[39m #4 dice.accumulate_dice_rolls / { power = 1; acc = 1692; roll = 4; value = 18 }\n",
       "00:00:00 \u001B[94md\u001B[39m #5 dice.accumulate_dice_rolls / { power = 0; acc = 1710; roll = 5; value = 4 }\n",
       "00:00:00 \u001B[94md\u001B[39m #6 dice.accumulate_dice_rolls / { power = -1; acc = 1714; result = 1715 }\n",
       "00:00:00 \u001B[94md\u001B[39m #7 dice_contract.roll_within_bounds / { max = 2000; rolls = [2, 2, 6, 4, 5]; result = Some(1715) }\n",
       " \n",
       "00:00:13 \u001B[92mi\u001B[39m #8 near_workspaces.print_usd / { retry = 2; total_gas_burnt_usd = +0.003101; total_gas_burnt = 4641472710648 }\n",
       "00:00:13 \u001B[92mi\u001B[39m #9 near_workspaces.print_usd / outcome / { is_success = true; gas_burnt_usd = +0.000206; tokens_burnt_usd = +0.000206; gas_burnt = 308081859340; tokens_burnt = 30808185934000000000 }\n",
       "00:00:13 \u001B[92mi\u001B[39m #10 near_workspaces.print_usd / outcome / { is_success = true; gas_burnt_usd = +0.002746; tokens_burnt_usd = +0.002746; gas_burnt = 4110208288808; tokens_burnt = 411020828880800000000 }\n",
       "00:00:13 \u001B[92mi\u001B[39m #11 near_workspaces.print_usd / outcome / { is_success = true; gas_burnt_usd = +0.000149; tokens_burnt_usd = +0.000000; gas_burnt = 223182562500; tokens_burnt = 0 }\n"
      ]
     },
     "metadata": {},
     "output_type": "display_data"
    }
   ],
   "source": [
    "//// test\n",
    "///! rust -c\n",
    "\n",
    "inl rolls = ;[ 2; 2; 6; 4; 5 ] |> am'.to_vec\n",
    "\n",
    "rolls\n",
    "|> roll_within_bounds 2000\n",
    "|> _assert_eq' (optionm'.some' 1715)"
   ]
  },
  {
   "cell_type": "markdown",
   "metadata": {},
   "source": [
    "### main"
   ]
  },
  {
   "cell_type": "code",
   "execution_count": null,
   "metadata": {
    "dotnet_interactive": {
     "language": "spiral"
    },
    "polyglot_notebook": {
     "kernelName": "spiral"
    }
   },
   "outputs": [],
   "source": [
    "///! _\n",
    "\n",
    "inl main () =\n",
    "    !\\($'\"} //\"') : ()\n",
    "\n",
    "    !\\($'\"\\#[derive( //\"') : ()\n",
    "    !\\($'\"  near_sdk::PanicOnDefault, //\"') : ()\n",
    "    !\\($'\"  borsh::BorshDeserialize, //\"') : ()\n",
    "    !\\($'\"  borsh::BorshSerialize, //\"') : ()\n",
    "    !\\($'\")] //\"') : ()\n",
    "\n",
    "    !\\($'\"pub struct OldState { //\"') : ()\n",
    "    !\\($'\"    version: u32, //\"') : ()\n",
    "    !\\($'\"    seeds: near_sdk::store::vec::Vector<u8>, //\"') : ()\n",
    "    !\\($'\"} //\"') : ()\n",
    "\n",
    "    !\\($'\"\\#[near_sdk::near_bindgen] //\"') : ()\n",
    "\n",
    "    !\\($'\"\\#[derive( //\"') : ()\n",
    "    !\\($'\"  near_sdk::PanicOnDefault, //\"') : ()\n",
    "    !\\($'\"  borsh::BorshDeserialize, //\"') : ()\n",
    "    !\\($'\"  borsh::BorshSerialize, //\"') : ()\n",
    "    !\\($'\")] //\"') : ()\n",
    "\n",
    "    !\\($'\"pub struct State ( //\"') : ()\n",
    "\n",
    "    !\\($'\"/*\"') : ()\n",
    "    (null () : rust.type_emit state) |> ignore\n",
    "    !\\($'\"*/ )\"') : ()\n",
    "\n",
    "    !\\($'\"impl From<OldState> for State { //\"') : ()\n",
    "    !\\($'\"    fn from(old_state: OldState) -> Self { //\"') : ()\n",
    "    !\\($'\"        Self((old_state.version + 1, old_state.seeds)) //\"') : ()\n",
    "    !\\($'\"    } //\"') : ()\n",
    "    !\\($'\"} //\"') : ()\n",
    "\n",
    "    inl new_ () =\n",
    "        !\\($'\"\\#[init] //\"') : ()\n",
    "        !\\($'\"pub fn new() -> Self { // 1\"') : ()\n",
    "\n",
    "        (!\\($'\"true; /*\"') : bool) |> ignore\n",
    "\n",
    "        (null () : rust.type_emit ()) |> ignore\n",
    "\n",
    "        (!\\($'\"true; */\"') : bool) |> ignore\n",
    "\n",
    "        inl result = new ()\n",
    "        $'let _result = !result in _result |> (fun x -> Fable.Core.RustInterop.emitRustExpr x $\"Self($0) // x\") // 2' : ()\n",
    "\n",
    "        !\\($'\"} // 2.\"') : ()\n",
    "\n",
    "        !\\($'\"} // 1.\"') : ()\n",
    "\n",
    "        2\n",
    "\n",
    "    inl contribute_seed () =\n",
    "        !\\($'\"pub fn contribute_seed(&mut self, seed: Vec<u8>) { //\"') : ()\n",
    "        inl seeds : rust.ref (rust.mut' (near.vector u8)) = !\\($'$\"&mut self.0.1\"')\n",
    "        inl seed : am'.vec u8 = !\\($'$\"seed\"')\n",
    "\n",
    "        seed |> contribute_seed seeds\n",
    "\n",
    "        !\\($'\"} //\"') : ()\n",
    "\n",
    "        !\\($'\"} //\"') : ()\n",
    "\n",
    "        !\\($'\"} //\"') : ()\n",
    "\n",
    "        3\n",
    "\n",
    "    inl contribute_seed_borsh () =\n",
    "        !\\($'\"pub fn contribute_seed_borsh(&mut self, \\#[serializer(borsh)] seed: Vec<u8>) { //\"') : ()\n",
    "        !\\($'\"    self.contribute_seed(seed) //\"') : ()\n",
    "        !\\($'\"} //\"') : ()\n",
    "\n",
    "        1\n",
    "\n",
    "    inl generate_random_number () =\n",
    "        !\\($'\"pub fn generate_random_number(&mut self, key: String, proof: String, max: u64) -> u64 { //\"') : ()\n",
    "\n",
    "        inl key : sm'.std_string = !\\($'$\"key\"')\n",
    "        inl proof : sm'.std_string = !\\($'$\"proof\"')\n",
    "        inl max : u64 = !\\($'$\"max\"')\n",
    "\n",
    "        inl seeds : rust.ref (rust.mut' (near.vector u8)) = !\\($'$\"&mut self.0.1\"')\n",
    "\n",
    "        inl result = generate_random_number seeds key proof max\n",
    "\n",
    "        !\\($'\"!result //\"') : ()\n",
    "\n",
    "        !\\($'\"} //\"') : ()\n",
    "\n",
    "        !\\($'\"} //\"') : ()\n",
    "\n",
    "        !\\($'\"} //\"') : ()\n",
    "\n",
    "        3\n",
    "\n",
    "    inl roll_within_bounds () =\n",
    "        !\\($'\"pub fn roll_within_bounds(&self, max: u64, rolls: Vec<u8>) -> Option<u64> { //\"') : ()\n",
    "        inl max : u64 = !\\($'$\"max\"')\n",
    "        inl rolls : am'.vec u8 = !\\($'$\"rolls\"')\n",
    "        inl result = roll_within_bounds max rolls\n",
    "\n",
    "        !\\\\(result, $'\"$0 //\"') : ()\n",
    "\n",
    "        !\\($'\"} //\"') : ()\n",
    "\n",
    "        !\\($'\"} //\"') : ()\n",
    "\n",
    "        2\n",
    "\n",
    "    inl roll_within_bounds_borsh () =\n",
    "        !\\($'\"\\#[result_serializer(borsh)] //\"') : ()\n",
    "        !\\($'\"pub fn roll_within_bounds_borsh( //\"') : ()\n",
    "        !\\($'\"    &self, //\"') : ()\n",
    "        !\\($'\"    \\#[serializer(borsh)] max: u64, //\"') : ()\n",
    "        !\\($'\"    \\#[serializer(borsh)] rolls: Vec<u8>, //\"') : ()\n",
    "        !\\($'\") -> Option<u64> { //\"') : ()\n",
    "        !\\($'\"    self.roll_within_bounds(max, rolls) //\"') : ()\n",
    "        !\\($'\"} //\"') : ()\n",
    "\n",
    "        1\n",
    "\n",
    "\n",
    "    inl fns =\n",
    "        [\n",
    "            new_\n",
    "            contribute_seed\n",
    "            contribute_seed_borsh\n",
    "            generate_random_number\n",
    "            roll_within_bounds\n",
    "            roll_within_bounds_borsh\n",
    "        ]\n",
    "\n",
    "    // inl rec 루프 acc fns i =\n",
    "    inl rec 루프 forall i {number} j {number}. (acc : i) (fns : list (() -> i)) (i : j) : i =\n",
    "        match fns with\n",
    "        | [] => acc\n",
    "        | x :: xs =>\n",
    "            !\\($'\"\\#[near_sdk::near_bindgen] //\"') : ()\n",
    "            !\\($'\"impl State { //\"') : ()\n",
    "            inl n = x ()\n",
    "            !\\($'\"} /* c\"') : ()\n",
    "            // inl rec 루프' i' =\n",
    "            inl rec 루프' forall t {number}. (i' : t) : () =\n",
    "                if i' <> 1 // <= n\n",
    "                then (!\\($'\"true; */ // ???? / i: !i / i\\': !i' / acc: !acc / n: !n\"') : bool) |> ignore\n",
    "                else\n",
    "                    (!\\($'\"true; // ??? / i: !i / i\\': !i' / acc: !acc / n: !n\"') : bool) |> ignore\n",
    "                    루프' (i' + 1)\n",
    "            루프' 1u8\n",
    "            루프 (acc + n) xs (i + 1)\n",
    "    inl n = 루프 0u8 fns 1u8\n",
    "\n",
    "\n",
    "    // !\\($'\"/* a\"') : ()\n",
    "\n",
    "    // !\\($'\"} // b\"') : ()\n",
    "\n",
    "    !\\($'\"fn _main() //\"') : ()\n",
    "    !\\($'\" //\"') : ()\n",
    "\n",
    "    inl rec 루프' i' =\n",
    "        if i' <= n\n",
    "        then\n",
    "            (!\\($'\"true; { (); // ?? / i\\': !i' / n: !n\"') : bool) |> ignore\n",
    "            루프' (i' + 1)\n",
    "        else\n",
    "            (!\\($'\"true; { { (); // ? / i\\': !i' / n: !n\"') : bool) |> ignore\n",
    "            // (!\\($'\"true; */ // ?? / i\\': !i' / n: !n\"') : bool) |> ignore\n",
    "    루프' 1u8\n",
    "\n",
    "inl main () =\n",
    "    $'!main |> ignore' : ()"
   ]
  }
 ],
 "metadata": {},
 "nbformat": 4,
 "nbformat_minor": 5
}